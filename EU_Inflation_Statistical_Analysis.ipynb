{
 "cells": [
  {
   "cell_type": "markdown",
   "id": "bb6e5eb6",
   "metadata": {},
   "source": [
    "# Comparing European Countries' Inflation Rates over the Years (2000-2022)"
   ]
  },
  {
   "cell_type": "code",
   "execution_count": 181,
   "id": "323f46bb",
   "metadata": {},
   "outputs": [],
   "source": [
    "import numpy as np # linear algebra\n",
    "import pandas as pd # data processing, CSV file I/O (e.g. pd.read_csv)\n",
    "import plotly.express as px\n",
    "from  pandas import json_normalize\n",
    "import geopandas\n",
    "from shapely import wkt\n"
   ]
  },
  {
   "cell_type": "code",
   "execution_count": 182,
   "id": "b2b008ef",
   "metadata": {},
   "outputs": [],
   "source": [
    "df = pd.read_csv('inflation.csv', encoding='latin-1')\n"
   ]
  },
  {
   "cell_type": "code",
   "execution_count": 183,
   "id": "8cdd7b58",
   "metadata": {},
   "outputs": [
    {
     "name": "stdout",
     "output_type": "stream",
     "text": [
      "<class 'pandas.core.frame.DataFrame'>\n",
      "RangeIndex: 783 entries, 0 to 782\n",
      "Data columns (total 64 columns):\n",
      " #   Column            Non-Null Count  Dtype  \n",
      "---  ------            --------------  -----  \n",
      " 0   Country Code      783 non-null    object \n",
      " 1   IMF Country Code  781 non-null    float64\n",
      " 2   Country           783 non-null    object \n",
      " 3   Indicator Type    783 non-null    object \n",
      " 4   Series Name       783 non-null    object \n",
      " 5   1970              422 non-null    float64\n",
      " 6   1971              428 non-null    float64\n",
      " 7   1972              430 non-null    float64\n",
      " 8   1973              430 non-null    float64\n",
      " 9   1974              434 non-null    float64\n",
      " 10  1975              434 non-null    float64\n",
      " 11  1976              430 non-null    float64\n",
      " 12  1977              427 non-null    float64\n",
      " 13  1978              428 non-null    float64\n",
      " 14  1979              428 non-null    float64\n",
      " 15  1980              433 non-null    float64\n",
      " 16  1981              451 non-null    float64\n",
      " 17  1982              458 non-null    float64\n",
      " 18  1983              464 non-null    float64\n",
      " 19  1984              470 non-null    float64\n",
      " 20  1985              466 non-null    float64\n",
      " 21  1986              475 non-null    float64\n",
      " 22  1987              482 non-null    float64\n",
      " 23  1988              485 non-null    float64\n",
      " 24  1989              483 non-null    float64\n",
      " 25  1990              489 non-null    float64\n",
      " 26  1991              507 non-null    float64\n",
      " 27  1992              519 non-null    float64\n",
      " 28  1993              536 non-null    float64\n",
      " 29  1994              552 non-null    float64\n",
      " 30  1995              559 non-null    float64\n",
      " 31  1996              570 non-null    float64\n",
      " 32  1997              575 non-null    float64\n",
      " 33  1998              584 non-null    float64\n",
      " 34  1999              591 non-null    float64\n",
      " 35  2000              596 non-null    float64\n",
      " 36  2001              610 non-null    float64\n",
      " 37  2002              625 non-null    float64\n",
      " 38  2003              629 non-null    float64\n",
      " 39  2004              634 non-null    float64\n",
      " 40  2005              646 non-null    float64\n",
      " 41  2006              661 non-null    float64\n",
      " 42  2007              671 non-null    float64\n",
      " 43  2008              680 non-null    float64\n",
      " 44  2009              686 non-null    float64\n",
      " 45  2010              693 non-null    float64\n",
      " 46  2011              687 non-null    float64\n",
      " 47  2012              696 non-null    float64\n",
      " 48  2013              715 non-null    float64\n",
      " 49  2014              734 non-null    float64\n",
      " 50  2015              735 non-null    float64\n",
      " 51  2016              746 non-null    float64\n",
      " 52  2017              737 non-null    float64\n",
      " 53  2018              737 non-null    float64\n",
      " 54  2019              728 non-null    float64\n",
      " 55  2020              719 non-null    float64\n",
      " 56  2021              706 non-null    float64\n",
      " 57  2022              665 non-null    float64\n",
      " 58  Note              783 non-null    object \n",
      " 59  Unnamed: 59       19 non-null     object \n",
      " 60  Unnamed: 60       0 non-null      float64\n",
      " 61  Unnamed: 61       0 non-null      float64\n",
      " 62  Unnamed: 62       0 non-null      float64\n",
      " 63  Unnamed: 63       0 non-null      float64\n",
      "dtypes: float64(58), object(6)\n",
      "memory usage: 391.6+ KB\n"
     ]
    }
   ],
   "source": [
    "df.info()"
   ]
  },
  {
   "cell_type": "markdown",
   "id": "b730d832",
   "metadata": {},
   "source": [
    "### Checking the missing data"
   ]
  },
  {
   "cell_type": "code",
   "execution_count": 189,
   "id": "e5843e08",
   "metadata": {},
   "outputs": [
    {
     "name": "stdout",
     "output_type": "stream",
     "text": [
      "     Country Code  IMF Country Code  Country  Indicator Type  Series Name  \\\n",
      "0           False             False    False           False        False   \n",
      "1           False             False    False           False        False   \n",
      "2           False             False    False           False        False   \n",
      "3           False             False    False           False        False   \n",
      "4           False             False    False           False        False   \n",
      "..            ...               ...      ...             ...          ...   \n",
      "778         False             False    False           False        False   \n",
      "779         False             False    False           False        False   \n",
      "780         False             False    False           False        False   \n",
      "781         False             False    False           False        False   \n",
      "782         False             False    False           False        False   \n",
      "\n",
      "      1970   1971   1972   1973   1974  ...   2019   2020   2021   2022  \\\n",
      "0     True   True   True   True   True  ...  False  False  False  False   \n",
      "1    False  False  False  False  False  ...  False  False  False   True   \n",
      "2    False  False  False  False  False  ...  False  False  False  False   \n",
      "3     True   True   True   True   True  ...  False  False  False  False   \n",
      "4    False  False  False  False  False  ...  False  False  False  False   \n",
      "..     ...    ...    ...    ...    ...  ...    ...    ...    ...    ...   \n",
      "778   True   True   True   True   True  ...   True   True   True   True   \n",
      "779   True   True   True   True   True  ...   True   True   True   True   \n",
      "780   True   True   True   True   True  ...  False  False  False   True   \n",
      "781   True  False  False  False  False  ...  False  False  False  False   \n",
      "782  False  False  False  False  False  ...   True   True   True   True   \n",
      "\n",
      "      Note  Unnamed: 59  Unnamed: 60  Unnamed: 61  Unnamed: 62  Unnamed: 63  \n",
      "0    False         True         True         True         True         True  \n",
      "1    False         True         True         True         True         True  \n",
      "2    False         True         True         True         True         True  \n",
      "3    False         True         True         True         True         True  \n",
      "4    False         True         True         True         True         True  \n",
      "..     ...          ...          ...          ...          ...          ...  \n",
      "778  False         True         True         True         True         True  \n",
      "779  False         True         True         True         True         True  \n",
      "780  False         True         True         True         True         True  \n",
      "781  False         True         True         True         True         True  \n",
      "782  False         True         True         True         True         True  \n",
      "\n",
      "[783 rows x 64 columns]\n",
      "Country Code          0\n",
      "IMF Country Code      2\n",
      "Country               0\n",
      "Indicator Type        0\n",
      "Series Name           0\n",
      "                   ... \n",
      "Unnamed: 59         764\n",
      "Unnamed: 60         783\n",
      "Unnamed: 61         783\n",
      "Unnamed: 62         783\n",
      "Unnamed: 63         783\n",
      "Length: 64, dtype: int64\n"
     ]
    }
   ],
   "source": [
    "missing_values = df.isna()\n",
    "print(missing_values)\n",
    "\n",
    "num_missing = df.isna().sum()\n",
    "print(num_missing)"
   ]
  },
  {
   "cell_type": "code",
   "execution_count": 190,
   "id": "863ab042",
   "metadata": {},
   "outputs": [
    {
     "data": {
      "image/png": "[encoded data removed]",
      "text/plain": [
       "<Figure size 2500x1950 with 3 Axes>"
      ]
     },
     "metadata": {},
     "output_type": "display_data"
    }
   ],
   "source": [
    "import missingno as msno\n",
    "import matplotlib.pyplot as plt\n",
    "\n",
    "\n",
    "msno.bar(df)\n",
    "plt.show()"
   ]
  },
  {
   "cell_type": "code",
   "execution_count": 191,
   "id": "f37e40a0",
   "metadata": {},
   "outputs": [
    {
     "data": {
      "text/html": [
       "<div>\n",
       "<style scoped>\n",
       "    .dataframe tbody tr th:only-of-type {\n",
       "        vertical-align: middle;\n",
       "    }\n",
       "\n",
       "    .dataframe tbody tr th {\n",
       "        vertical-align: top;\n",
       "    }\n",
       "\n",
       "    .dataframe thead th {\n",
       "        text-align: right;\n",
       "    }\n",
       "</style>\n",
       "<table border=\"1\" class=\"dataframe\">\n",
       "  <thead>\n",
       "    <tr style=\"text-align: right;\">\n",
       "      <th></th>\n",
       "      <th>Country Code</th>\n",
       "      <th>IMF Country Code</th>\n",
       "      <th>Country</th>\n",
       "      <th>Indicator Type</th>\n",
       "      <th>Series Name</th>\n",
       "      <th>1970</th>\n",
       "      <th>1971</th>\n",
       "      <th>1972</th>\n",
       "      <th>1973</th>\n",
       "      <th>1974</th>\n",
       "      <th>...</th>\n",
       "      <th>2019</th>\n",
       "      <th>2020</th>\n",
       "      <th>2021</th>\n",
       "      <th>2022</th>\n",
       "      <th>Note</th>\n",
       "      <th>Unnamed: 59</th>\n",
       "      <th>Unnamed: 60</th>\n",
       "      <th>Unnamed: 61</th>\n",
       "      <th>Unnamed: 62</th>\n",
       "      <th>Unnamed: 63</th>\n",
       "    </tr>\n",
       "    <tr>\n",
       "      <th>Country</th>\n",
       "      <th></th>\n",
       "      <th></th>\n",
       "      <th></th>\n",
       "      <th></th>\n",
       "      <th></th>\n",
       "      <th></th>\n",
       "      <th></th>\n",
       "      <th></th>\n",
       "      <th></th>\n",
       "      <th></th>\n",
       "      <th></th>\n",
       "      <th></th>\n",
       "      <th></th>\n",
       "      <th></th>\n",
       "      <th></th>\n",
       "      <th></th>\n",
       "      <th></th>\n",
       "      <th></th>\n",
       "      <th></th>\n",
       "      <th></th>\n",
       "      <th></th>\n",
       "    </tr>\n",
       "  </thead>\n",
       "  <tbody>\n",
       "    <tr>\n",
       "      <th>Afghanistan</th>\n",
       "      <td>0</td>\n",
       "      <td>0</td>\n",
       "      <td>0</td>\n",
       "      <td>0</td>\n",
       "      <td>0</td>\n",
       "      <td>3</td>\n",
       "      <td>3</td>\n",
       "      <td>3</td>\n",
       "      <td>3</td>\n",
       "      <td>3</td>\n",
       "      <td>...</td>\n",
       "      <td>1</td>\n",
       "      <td>2</td>\n",
       "      <td>3</td>\n",
       "      <td>4</td>\n",
       "      <td>0</td>\n",
       "      <td>3</td>\n",
       "      <td>4</td>\n",
       "      <td>4</td>\n",
       "      <td>4</td>\n",
       "      <td>4</td>\n",
       "    </tr>\n",
       "    <tr>\n",
       "      <th>Albania</th>\n",
       "      <td>0</td>\n",
       "      <td>0</td>\n",
       "      <td>0</td>\n",
       "      <td>0</td>\n",
       "      <td>0</td>\n",
       "      <td>5</td>\n",
       "      <td>5</td>\n",
       "      <td>5</td>\n",
       "      <td>5</td>\n",
       "      <td>5</td>\n",
       "      <td>...</td>\n",
       "      <td>0</td>\n",
       "      <td>0</td>\n",
       "      <td>0</td>\n",
       "      <td>0</td>\n",
       "      <td>0</td>\n",
       "      <td>5</td>\n",
       "      <td>5</td>\n",
       "      <td>5</td>\n",
       "      <td>5</td>\n",
       "      <td>5</td>\n",
       "    </tr>\n",
       "    <tr>\n",
       "      <th>Algeria</th>\n",
       "      <td>0</td>\n",
       "      <td>0</td>\n",
       "      <td>0</td>\n",
       "      <td>0</td>\n",
       "      <td>0</td>\n",
       "      <td>2</td>\n",
       "      <td>2</td>\n",
       "      <td>2</td>\n",
       "      <td>2</td>\n",
       "      <td>2</td>\n",
       "      <td>...</td>\n",
       "      <td>0</td>\n",
       "      <td>1</td>\n",
       "      <td>0</td>\n",
       "      <td>1</td>\n",
       "      <td>0</td>\n",
       "      <td>4</td>\n",
       "      <td>4</td>\n",
       "      <td>4</td>\n",
       "      <td>4</td>\n",
       "      <td>4</td>\n",
       "    </tr>\n",
       "    <tr>\n",
       "      <th>Angola</th>\n",
       "      <td>0</td>\n",
       "      <td>0</td>\n",
       "      <td>0</td>\n",
       "      <td>0</td>\n",
       "      <td>0</td>\n",
       "      <td>2</td>\n",
       "      <td>2</td>\n",
       "      <td>2</td>\n",
       "      <td>2</td>\n",
       "      <td>2</td>\n",
       "      <td>...</td>\n",
       "      <td>0</td>\n",
       "      <td>0</td>\n",
       "      <td>0</td>\n",
       "      <td>0</td>\n",
       "      <td>0</td>\n",
       "      <td>3</td>\n",
       "      <td>3</td>\n",
       "      <td>3</td>\n",
       "      <td>3</td>\n",
       "      <td>3</td>\n",
       "    </tr>\n",
       "    <tr>\n",
       "      <th>Antigua and Barbuda</th>\n",
       "      <td>0</td>\n",
       "      <td>0</td>\n",
       "      <td>0</td>\n",
       "      <td>0</td>\n",
       "      <td>0</td>\n",
       "      <td>0</td>\n",
       "      <td>0</td>\n",
       "      <td>0</td>\n",
       "      <td>0</td>\n",
       "      <td>0</td>\n",
       "      <td>...</td>\n",
       "      <td>0</td>\n",
       "      <td>0</td>\n",
       "      <td>0</td>\n",
       "      <td>0</td>\n",
       "      <td>0</td>\n",
       "      <td>2</td>\n",
       "      <td>2</td>\n",
       "      <td>2</td>\n",
       "      <td>2</td>\n",
       "      <td>2</td>\n",
       "    </tr>\n",
       "    <tr>\n",
       "      <th>...</th>\n",
       "      <td>...</td>\n",
       "      <td>...</td>\n",
       "      <td>...</td>\n",
       "      <td>...</td>\n",
       "      <td>...</td>\n",
       "      <td>...</td>\n",
       "      <td>...</td>\n",
       "      <td>...</td>\n",
       "      <td>...</td>\n",
       "      <td>...</td>\n",
       "      <td>...</td>\n",
       "      <td>...</td>\n",
       "      <td>...</td>\n",
       "      <td>...</td>\n",
       "      <td>...</td>\n",
       "      <td>...</td>\n",
       "      <td>...</td>\n",
       "      <td>...</td>\n",
       "      <td>...</td>\n",
       "      <td>...</td>\n",
       "      <td>...</td>\n",
       "    </tr>\n",
       "    <tr>\n",
       "      <th>Vietnam</th>\n",
       "      <td>0</td>\n",
       "      <td>0</td>\n",
       "      <td>0</td>\n",
       "      <td>0</td>\n",
       "      <td>0</td>\n",
       "      <td>3</td>\n",
       "      <td>3</td>\n",
       "      <td>3</td>\n",
       "      <td>3</td>\n",
       "      <td>3</td>\n",
       "      <td>...</td>\n",
       "      <td>1</td>\n",
       "      <td>1</td>\n",
       "      <td>1</td>\n",
       "      <td>1</td>\n",
       "      <td>0</td>\n",
       "      <td>5</td>\n",
       "      <td>5</td>\n",
       "      <td>5</td>\n",
       "      <td>5</td>\n",
       "      <td>5</td>\n",
       "    </tr>\n",
       "    <tr>\n",
       "      <th>West Bank and Gaza</th>\n",
       "      <td>0</td>\n",
       "      <td>0</td>\n",
       "      <td>0</td>\n",
       "      <td>0</td>\n",
       "      <td>0</td>\n",
       "      <td>1</td>\n",
       "      <td>1</td>\n",
       "      <td>1</td>\n",
       "      <td>1</td>\n",
       "      <td>1</td>\n",
       "      <td>...</td>\n",
       "      <td>0</td>\n",
       "      <td>0</td>\n",
       "      <td>0</td>\n",
       "      <td>1</td>\n",
       "      <td>0</td>\n",
       "      <td>1</td>\n",
       "      <td>1</td>\n",
       "      <td>1</td>\n",
       "      <td>1</td>\n",
       "      <td>1</td>\n",
       "    </tr>\n",
       "    <tr>\n",
       "      <th>Yemen, Rep.</th>\n",
       "      <td>0</td>\n",
       "      <td>0</td>\n",
       "      <td>0</td>\n",
       "      <td>0</td>\n",
       "      <td>0</td>\n",
       "      <td>0</td>\n",
       "      <td>0</td>\n",
       "      <td>0</td>\n",
       "      <td>0</td>\n",
       "      <td>0</td>\n",
       "      <td>...</td>\n",
       "      <td>1</td>\n",
       "      <td>1</td>\n",
       "      <td>1</td>\n",
       "      <td>1</td>\n",
       "      <td>0</td>\n",
       "      <td>2</td>\n",
       "      <td>2</td>\n",
       "      <td>2</td>\n",
       "      <td>2</td>\n",
       "      <td>2</td>\n",
       "    </tr>\n",
       "    <tr>\n",
       "      <th>Zambia</th>\n",
       "      <td>0</td>\n",
       "      <td>0</td>\n",
       "      <td>0</td>\n",
       "      <td>0</td>\n",
       "      <td>0</td>\n",
       "      <td>1</td>\n",
       "      <td>1</td>\n",
       "      <td>1</td>\n",
       "      <td>1</td>\n",
       "      <td>1</td>\n",
       "      <td>...</td>\n",
       "      <td>1</td>\n",
       "      <td>1</td>\n",
       "      <td>1</td>\n",
       "      <td>1</td>\n",
       "      <td>0</td>\n",
       "      <td>4</td>\n",
       "      <td>4</td>\n",
       "      <td>4</td>\n",
       "      <td>4</td>\n",
       "      <td>4</td>\n",
       "    </tr>\n",
       "    <tr>\n",
       "      <th>Zimbabwe</th>\n",
       "      <td>0</td>\n",
       "      <td>0</td>\n",
       "      <td>0</td>\n",
       "      <td>0</td>\n",
       "      <td>0</td>\n",
       "      <td>0</td>\n",
       "      <td>0</td>\n",
       "      <td>0</td>\n",
       "      <td>0</td>\n",
       "      <td>0</td>\n",
       "      <td>...</td>\n",
       "      <td>0</td>\n",
       "      <td>0</td>\n",
       "      <td>0</td>\n",
       "      <td>0</td>\n",
       "      <td>0</td>\n",
       "      <td>3</td>\n",
       "      <td>3</td>\n",
       "      <td>3</td>\n",
       "      <td>3</td>\n",
       "      <td>3</td>\n",
       "    </tr>\n",
       "  </tbody>\n",
       "</table>\n",
       "<p>211 rows × 64 columns</p>\n",
       "</div>"
      ],
      "text/plain": [
       "                     Country Code  IMF Country Code  Country  Indicator Type  \\\n",
       "Country                                                                        \n",
       "Afghanistan                     0                 0        0               0   \n",
       "Albania                         0                 0        0               0   \n",
       "Algeria                         0                 0        0               0   \n",
       "Angola                          0                 0        0               0   \n",
       "Antigua and Barbuda             0                 0        0               0   \n",
       "...                           ...               ...      ...             ...   \n",
       "Vietnam                         0                 0        0               0   \n",
       "West Bank and Gaza              0                 0        0               0   \n",
       "Yemen, Rep.                     0                 0        0               0   \n",
       "Zambia                          0                 0        0               0   \n",
       "Zimbabwe                        0                 0        0               0   \n",
       "\n",
       "                     Series Name  1970  1971  1972  1973  1974  ...  2019  \\\n",
       "Country                                                         ...         \n",
       "Afghanistan                    0     3     3     3     3     3  ...     1   \n",
       "Albania                        0     5     5     5     5     5  ...     0   \n",
       "Algeria                        0     2     2     2     2     2  ...     0   \n",
       "Angola                         0     2     2     2     2     2  ...     0   \n",
       "Antigua and Barbuda            0     0     0     0     0     0  ...     0   \n",
       "...                          ...   ...   ...   ...   ...   ...  ...   ...   \n",
       "Vietnam                        0     3     3     3     3     3  ...     1   \n",
       "West Bank and Gaza             0     1     1     1     1     1  ...     0   \n",
       "Yemen, Rep.                    0     0     0     0     0     0  ...     1   \n",
       "Zambia                         0     1     1     1     1     1  ...     1   \n",
       "Zimbabwe                       0     0     0     0     0     0  ...     0   \n",
       "\n",
       "                     2020  2021  2022  Note  Unnamed: 59  Unnamed: 60  \\\n",
       "Country                                                                 \n",
       "Afghanistan             2     3     4     0            3            4   \n",
       "Albania                 0     0     0     0            5            5   \n",
       "Algeria                 1     0     1     0            4            4   \n",
       "Angola                  0     0     0     0            3            3   \n",
       "Antigua and Barbuda     0     0     0     0            2            2   \n",
       "...                   ...   ...   ...   ...          ...          ...   \n",
       "Vietnam                 1     1     1     0            5            5   \n",
       "West Bank and Gaza      0     0     1     0            1            1   \n",
       "Yemen, Rep.             1     1     1     0            2            2   \n",
       "Zambia                  1     1     1     0            4            4   \n",
       "Zimbabwe                0     0     0     0            3            3   \n",
       "\n",
       "                     Unnamed: 61  Unnamed: 62  Unnamed: 63  \n",
       "Country                                                     \n",
       "Afghanistan                    4            4            4  \n",
       "Albania                        5            5            5  \n",
       "Algeria                        4            4            4  \n",
       "Angola                         3            3            3  \n",
       "Antigua and Barbuda            2            2            2  \n",
       "...                          ...          ...          ...  \n",
       "Vietnam                        5            5            5  \n",
       "West Bank and Gaza             1            1            1  \n",
       "Yemen, Rep.                    2            2            2  \n",
       "Zambia                         4            4            4  \n",
       "Zimbabwe                       3            3            3  \n",
       "\n",
       "[211 rows x 64 columns]"
      ]
     },
     "execution_count": 191,
     "metadata": {},
     "output_type": "execute_result"
    }
   ],
   "source": [
    "df.groupby('Country').apply(lambda x: x.isna().sum())\n"
   ]
  },
  {
   "cell_type": "code",
   "execution_count": 192,
   "id": "4670ce30",
   "metadata": {},
   "outputs": [],
   "source": [
    "# Drop irrelevant columns\n",
    "df=df.drop(columns=['Unnamed: 59','Unnamed: 60','Unnamed: 61','Unnamed: 62','Unnamed: 63','Note','IMF Country Code', 'Indicator Type', 'Country Code'])\n"
   ]
  },
  {
   "cell_type": "markdown",
   "id": "b8edb2c7",
   "metadata": {},
   "source": [
    "## Divide the dataset by the inflation types \n",
    "Headline inflation refers to the change in value of all goods in the basket.\n",
    "Core inflation excludes food and fuel items from headline inflation.\n",
    "\n",
    "Since the prices of fuel and food items tend to fluctuate and create ‘noise’ in inflation computation, core inflation is less volatile than headline inflation.\n",
    "In a developed economy, food & fuel account for 10-15% of the household consumption basket\n",
    "\n",
    "Read more at: https://economictimes.indiatimes.com/wealth/save/what-are-headline-and-core-inflation/articleshow/80071229.cms?utm_source=contentofinterest&utm_medium=text&utm_campaign=cppst\n"
   ]
  },
  {
   "cell_type": "code",
   "execution_count": 193,
   "id": "08864861",
   "metadata": {},
   "outputs": [
    {
     "data": {
      "text/plain": [
       "array(['Headline Consumer Price Inflation',\n",
       "       'Energy Consumer Price Inflation', 'Food Consumer Price Inflation',\n",
       "       'Official Core Consumer Price Inflation',\n",
       "       'Producer Price Inflation'], dtype=object)"
      ]
     },
     "execution_count": 193,
     "metadata": {},
     "output_type": "execute_result"
    }
   ],
   "source": [
    "df['Series Name'].unique()"
   ]
  },
  {
   "cell_type": "code",
   "execution_count": 195,
   "id": "a1e316da",
   "metadata": {},
   "outputs": [],
   "source": [
    "df_headline = df[df['Series Name'] == 'Headline Consumer Price Inflation']\n",
    "df_energy = df[df['Series Name'] == 'Energy Consumer Price Inflation']\n",
    "df_food = df[df['Series Name'] == 'Food Consumer Price Inflation']\n",
    "df_core = df[df['Series Name'] == 'Official Core Consumer Price Inflation'] \n",
    "df_producer = df[df['Series Name'] == 'Producer Price Inflation']\n",
    "\n",
    "## Core inflation rate will be used for the analysis "
   ]
  },
  {
   "cell_type": "code",
   "execution_count": 227,
   "id": "c2b6d89c",
   "metadata": {},
   "outputs": [
    {
     "data": {
      "text/html": [
       "<div>\n",
       "<style scoped>\n",
       "    .dataframe tbody tr th:only-of-type {\n",
       "        vertical-align: middle;\n",
       "    }\n",
       "\n",
       "    .dataframe tbody tr th {\n",
       "        vertical-align: top;\n",
       "    }\n",
       "\n",
       "    .dataframe thead th {\n",
       "        text-align: right;\n",
       "    }\n",
       "</style>\n",
       "<table border=\"1\" class=\"dataframe\">\n",
       "  <thead>\n",
       "    <tr style=\"text-align: right;\">\n",
       "      <th></th>\n",
       "      <th>Country</th>\n",
       "      <th>1970</th>\n",
       "      <th>1971</th>\n",
       "      <th>1972</th>\n",
       "      <th>1973</th>\n",
       "      <th>1974</th>\n",
       "      <th>1975</th>\n",
       "      <th>1976</th>\n",
       "      <th>1977</th>\n",
       "      <th>1978</th>\n",
       "      <th>...</th>\n",
       "      <th>2013</th>\n",
       "      <th>2014</th>\n",
       "      <th>2015</th>\n",
       "      <th>2016</th>\n",
       "      <th>2017</th>\n",
       "      <th>2018</th>\n",
       "      <th>2019</th>\n",
       "      <th>2020</th>\n",
       "      <th>2021</th>\n",
       "      <th>2022</th>\n",
       "    </tr>\n",
       "  </thead>\n",
       "  <tbody>\n",
       "    <tr>\n",
       "      <th>557</th>\n",
       "      <td>Afghanistan</td>\n",
       "      <td>NaN</td>\n",
       "      <td>NaN</td>\n",
       "      <td>NaN</td>\n",
       "      <td>NaN</td>\n",
       "      <td>NaN</td>\n",
       "      <td>NaN</td>\n",
       "      <td>NaN</td>\n",
       "      <td>NaN</td>\n",
       "      <td>NaN</td>\n",
       "      <td>...</td>\n",
       "      <td>6.80</td>\n",
       "      <td>2.70</td>\n",
       "      <td>0.20</td>\n",
       "      <td>5.20</td>\n",
       "      <td>5.40</td>\n",
       "      <td>-0.10</td>\n",
       "      <td>NaN</td>\n",
       "      <td>NaN</td>\n",
       "      <td>NaN</td>\n",
       "      <td>NaN</td>\n",
       "    </tr>\n",
       "    <tr>\n",
       "      <th>558</th>\n",
       "      <td>Albania</td>\n",
       "      <td>NaN</td>\n",
       "      <td>NaN</td>\n",
       "      <td>NaN</td>\n",
       "      <td>NaN</td>\n",
       "      <td>NaN</td>\n",
       "      <td>NaN</td>\n",
       "      <td>NaN</td>\n",
       "      <td>NaN</td>\n",
       "      <td>NaN</td>\n",
       "      <td>...</td>\n",
       "      <td>0.19</td>\n",
       "      <td>0.10</td>\n",
       "      <td>-0.16</td>\n",
       "      <td>0.15</td>\n",
       "      <td>0.82</td>\n",
       "      <td>0.93</td>\n",
       "      <td>0.74</td>\n",
       "      <td>1.41</td>\n",
       "      <td>1.68</td>\n",
       "      <td>6.12</td>\n",
       "    </tr>\n",
       "    <tr>\n",
       "      <th>559</th>\n",
       "      <td>Australia</td>\n",
       "      <td>5.028</td>\n",
       "      <td>-10.91</td>\n",
       "      <td>6.34</td>\n",
       "      <td>8.56</td>\n",
       "      <td>15.55</td>\n",
       "      <td>15.99</td>\n",
       "      <td>13.71</td>\n",
       "      <td>12.73</td>\n",
       "      <td>7.61</td>\n",
       "      <td>...</td>\n",
       "      <td>1.13</td>\n",
       "      <td>2.57</td>\n",
       "      <td>2.33</td>\n",
       "      <td>27.38</td>\n",
       "      <td>5.54</td>\n",
       "      <td>1.54</td>\n",
       "      <td>1.49</td>\n",
       "      <td>0.44</td>\n",
       "      <td>1.41</td>\n",
       "      <td>5.05</td>\n",
       "    </tr>\n",
       "    <tr>\n",
       "      <th>560</th>\n",
       "      <td>Austria</td>\n",
       "      <td>3.684</td>\n",
       "      <td>5.19</td>\n",
       "      <td>6.37</td>\n",
       "      <td>7.38</td>\n",
       "      <td>9.84</td>\n",
       "      <td>9.35</td>\n",
       "      <td>10.17</td>\n",
       "      <td>6.08</td>\n",
       "      <td>3.74</td>\n",
       "      <td>...</td>\n",
       "      <td>2.07</td>\n",
       "      <td>1.98</td>\n",
       "      <td>1.85</td>\n",
       "      <td>1.47</td>\n",
       "      <td>1.97</td>\n",
       "      <td>1.81</td>\n",
       "      <td>1.65</td>\n",
       "      <td>1.90</td>\n",
       "      <td>2.15</td>\n",
       "      <td>5.28</td>\n",
       "    </tr>\n",
       "    <tr>\n",
       "      <th>561</th>\n",
       "      <td>Armenia</td>\n",
       "      <td>NaN</td>\n",
       "      <td>NaN</td>\n",
       "      <td>NaN</td>\n",
       "      <td>NaN</td>\n",
       "      <td>NaN</td>\n",
       "      <td>NaN</td>\n",
       "      <td>NaN</td>\n",
       "      <td>NaN</td>\n",
       "      <td>NaN</td>\n",
       "      <td>...</td>\n",
       "      <td>5.85</td>\n",
       "      <td>1.88</td>\n",
       "      <td>5.14</td>\n",
       "      <td>-2.02</td>\n",
       "      <td>0.70</td>\n",
       "      <td>3.70</td>\n",
       "      <td>1.17</td>\n",
       "      <td>1.30</td>\n",
       "      <td>7.23</td>\n",
       "      <td>8.28</td>\n",
       "    </tr>\n",
       "  </tbody>\n",
       "</table>\n",
       "<p>5 rows × 54 columns</p>\n",
       "</div>"
      ],
      "text/plain": [
       "         Country   1970   1971  1972  1973   1974   1975   1976   1977  1978  \\\n",
       "557  Afghanistan    NaN    NaN   NaN   NaN    NaN    NaN    NaN    NaN   NaN   \n",
       "558      Albania    NaN    NaN   NaN   NaN    NaN    NaN    NaN    NaN   NaN   \n",
       "559    Australia  5.028 -10.91  6.34  8.56  15.55  15.99  13.71  12.73  7.61   \n",
       "560      Austria  3.684   5.19  6.37  7.38   9.84   9.35  10.17   6.08  3.74   \n",
       "561      Armenia    NaN    NaN   NaN   NaN    NaN    NaN    NaN    NaN   NaN   \n",
       "\n",
       "     ...  2013  2014  2015   2016  2017  2018  2019  2020  2021  2022  \n",
       "557  ...  6.80  2.70  0.20   5.20  5.40 -0.10   NaN   NaN   NaN   NaN  \n",
       "558  ...  0.19  0.10 -0.16   0.15  0.82  0.93  0.74  1.41  1.68  6.12  \n",
       "559  ...  1.13  2.57  2.33  27.38  5.54  1.54  1.49  0.44  1.41  5.05  \n",
       "560  ...  2.07  1.98  1.85   1.47  1.97  1.81  1.65  1.90  2.15  5.28  \n",
       "561  ...  5.85  1.88  5.14  -2.02  0.70  3.70  1.17  1.30  7.23  8.28  \n",
       "\n",
       "[5 rows x 54 columns]"
      ]
     },
     "execution_count": 227,
     "metadata": {},
     "output_type": "execute_result"
    }
   ],
   "source": [
    "df_core.head()"
   ]
  },
  {
   "cell_type": "markdown",
   "id": "fb41dc88",
   "metadata": {},
   "source": [
    "### Transpose the dataframe "
   ]
  },
  {
   "cell_type": "code",
   "execution_count": 218,
   "id": "0e5c5300",
   "metadata": {},
   "outputs": [],
   "source": [
    "# Drop the columns that are irrelevant to the analysis\n",
    "\n",
    "value_vars = df.columns.tolist()[1:]\n"
   ]
  },
  {
   "cell_type": "code",
   "execution_count": 199,
   "id": "5b768351",
   "metadata": {},
   "outputs": [],
   "source": [
    "df_core=df_core.drop(columns=['Series Name'])\n"
   ]
  },
  {
   "cell_type": "code",
   "execution_count": 200,
   "id": "9cc011ac",
   "metadata": {},
   "outputs": [
    {
     "data": {
      "text/html": [
       "<div>\n",
       "<style scoped>\n",
       "    .dataframe tbody tr th:only-of-type {\n",
       "        vertical-align: middle;\n",
       "    }\n",
       "\n",
       "    .dataframe tbody tr th {\n",
       "        vertical-align: top;\n",
       "    }\n",
       "\n",
       "    .dataframe thead th {\n",
       "        text-align: right;\n",
       "    }\n",
       "</style>\n",
       "<table border=\"1\" class=\"dataframe\">\n",
       "  <thead>\n",
       "    <tr style=\"text-align: right;\">\n",
       "      <th></th>\n",
       "      <th>Country</th>\n",
       "      <th>years</th>\n",
       "      <th>core_inflation_rate</th>\n",
       "    </tr>\n",
       "  </thead>\n",
       "  <tbody>\n",
       "    <tr>\n",
       "      <th>0</th>\n",
       "      <td>Afghanistan</td>\n",
       "      <td>1970</td>\n",
       "      <td>NaN</td>\n",
       "    </tr>\n",
       "    <tr>\n",
       "      <th>1</th>\n",
       "      <td>Albania</td>\n",
       "      <td>1970</td>\n",
       "      <td>NaN</td>\n",
       "    </tr>\n",
       "    <tr>\n",
       "      <th>2</th>\n",
       "      <td>Australia</td>\n",
       "      <td>1970</td>\n",
       "      <td>5.028</td>\n",
       "    </tr>\n",
       "    <tr>\n",
       "      <th>3</th>\n",
       "      <td>Austria</td>\n",
       "      <td>1970</td>\n",
       "      <td>3.684</td>\n",
       "    </tr>\n",
       "    <tr>\n",
       "      <th>4</th>\n",
       "      <td>Armenia</td>\n",
       "      <td>1970</td>\n",
       "      <td>NaN</td>\n",
       "    </tr>\n",
       "    <tr>\n",
       "      <th>...</th>\n",
       "      <td>...</td>\n",
       "      <td>...</td>\n",
       "      <td>...</td>\n",
       "    </tr>\n",
       "    <tr>\n",
       "      <th>5984</th>\n",
       "      <td>United States</td>\n",
       "      <td>2022</td>\n",
       "      <td>6.220</td>\n",
       "    </tr>\n",
       "    <tr>\n",
       "      <th>5985</th>\n",
       "      <td>Venezuela, RB</td>\n",
       "      <td>2022</td>\n",
       "      <td>NaN</td>\n",
       "    </tr>\n",
       "    <tr>\n",
       "      <th>5986</th>\n",
       "      <td>Vietnam</td>\n",
       "      <td>2022</td>\n",
       "      <td>2.390</td>\n",
       "    </tr>\n",
       "    <tr>\n",
       "      <th>5987</th>\n",
       "      <td>Kosovo</td>\n",
       "      <td>2022</td>\n",
       "      <td>NaN</td>\n",
       "    </tr>\n",
       "    <tr>\n",
       "      <th>5988</th>\n",
       "      <td>South Africa</td>\n",
       "      <td>2022</td>\n",
       "      <td>4.480</td>\n",
       "    </tr>\n",
       "  </tbody>\n",
       "</table>\n",
       "<p>5989 rows × 3 columns</p>\n",
       "</div>"
      ],
      "text/plain": [
       "            Country years  core_inflation_rate\n",
       "0       Afghanistan  1970                  NaN\n",
       "1           Albania  1970                  NaN\n",
       "2         Australia  1970                5.028\n",
       "3           Austria  1970                3.684\n",
       "4           Armenia  1970                  NaN\n",
       "...             ...   ...                  ...\n",
       "5984  United States  2022                6.220\n",
       "5985  Venezuela, RB  2022                  NaN\n",
       "5986        Vietnam  2022                2.390\n",
       "5987         Kosovo  2022                  NaN\n",
       "5988   South Africa  2022                4.480\n",
       "\n",
       "[5989 rows x 3 columns]"
      ]
     },
     "execution_count": 200,
     "metadata": {},
     "output_type": "execute_result"
    }
   ],
   "source": [
    "df_core_t = pd.melt(frame=df_core, id_vars='Country', var_name='years', value_name='core_inflation_rate')\n",
    "df_core_t"
   ]
  },
  {
   "cell_type": "code",
   "execution_count": 201,
   "id": "d144901c",
   "metadata": {},
   "outputs": [
    {
     "data": {
      "text/plain": [
       "array(['Afghanistan', 'Albania', 'Australia', 'Austria', 'Armenia',\n",
       "       'Azerbaijan', 'Belgium', 'Bulgaria', 'Belarus', 'Brazil', 'Canada',\n",
       "       'Switzerland', 'Chile', 'China', 'Cameroon', 'Colombia',\n",
       "       'Costa Rica', 'Cyprus', 'Czech Republic', 'Germany', 'Djibouti',\n",
       "       'Denmark', 'Dominican Republic', 'Egypt, Arab Rep.', 'Spain',\n",
       "       'Estonia', 'Ethiopia', 'Finland', 'France', 'United Kingdom',\n",
       "       'Ghana', 'Greece', 'Guatemala', 'Hong Kong SAR, China', 'Honduras',\n",
       "       'Croatia', 'Hungary', 'Indonesia', 'India', 'Ireland',\n",
       "       'Iran, Islamic Rep.', 'Iraq', 'Iceland', 'Israel', 'Italy',\n",
       "       'Jordan', 'Japan', 'Kazakhstan', 'Kyrgyz Republic', 'Korea, Rep.',\n",
       "       'Kuwait', 'Lao, PDR', 'Lebanon', 'Libya', 'Sri Lanka', 'Lithuania',\n",
       "       'Luxembourg', 'Latvia', 'Macao SAR, China', 'Morocco', 'Mexico',\n",
       "       'North Macedonia', 'Malta', 'Montenegro', 'Mauritius', 'Malaysia',\n",
       "       'Nigeria', 'Nicaragua', 'Netherlands', 'Norway', 'New Zealand',\n",
       "       'Oman', 'Panama', 'Peru', 'Philippines', 'Papua New Guinea',\n",
       "       'Poland', 'Portugal', 'Paraguay', 'Qatar', 'Romania',\n",
       "       'Russian Federation', 'Rwanda', 'Saudi Arabia', 'Sudan', 'Senegal',\n",
       "       'Singapore', 'Solomon Islands', 'Sierra Leone', 'El Salvador',\n",
       "       'San Marino', 'Somalia', 'Serbia', 'Slovakia', 'Slovenia',\n",
       "       'Sweden', 'Syrian Arab Republic', 'Chad', 'Thailand', 'Tajikistan',\n",
       "       'Turkmenistan', 'Trinidad and Tobago', 'Tunisia', 'Turkey',\n",
       "       'Taiwan, China', 'Uganda', 'Ukraine', 'Uruguay', 'United States',\n",
       "       'Venezuela, RB', 'Vietnam', 'Kosovo', 'South Africa'], dtype=object)"
      ]
     },
     "execution_count": 201,
     "metadata": {},
     "output_type": "execute_result"
    }
   ],
   "source": [
    "df_core_t.Country.unique() # array of all countries in the dataset"
   ]
  },
  {
   "cell_type": "markdown",
   "id": "6c9c9238",
   "metadata": {},
   "source": [
    "#### Create a sub dataframe for European Union Countries"
   ]
  },
  {
   "cell_type": "code",
   "execution_count": 202,
   "id": "b5b932c7",
   "metadata": {},
   "outputs": [],
   "source": [
    "# Define a list of EU countries\n",
    "eu_countries = ['Austria', 'Belgium', 'Bulgaria', 'Croatia', 'Cyprus',\n",
    "                'Czech Republic', 'Denmark', 'Estonia', 'Finland', 'France',\n",
    "                'Germany', 'Greece', 'Hungary', 'Ireland', 'Italy',\n",
    "                'Latvia', 'Lithuania', 'Luxembourg', 'Malta', 'Netherlands',\n",
    "                'Poland', 'Portugal', 'Romania', 'Slovakia', 'Slovenia',\n",
    "                'Spain', 'Sweden']\n",
    "\n",
    "# Filter the data to include only the EU countries and years \n",
    "eu_core_t = df_core_t[(df_core_t['Country'].isin(eu_countries)) & (df_core_t['years'].astype(int) >= 2000)]\n",
    "\n"
   ]
  },
  {
   "cell_type": "code",
   "execution_count": 203,
   "id": "d1ed6453",
   "metadata": {},
   "outputs": [
    {
     "data": {
      "text/plain": [
       "array(['1970', '1971', '1972', '1973', '1974', '1975', '1976', '1977',\n",
       "       '1978', '1979', '1980', '1981', '1982', '1983', '1984', '1985',\n",
       "       '1986', '1987', '1988', '1989', '1990', '1991', '1992', '1993',\n",
       "       '1994', '1995', '1996', '1997', '1998', '1999', '2000', '2001',\n",
       "       '2002', '2003', '2004', '2005', '2006', '2007', '2008', '2009',\n",
       "       '2010', '2011', '2012', '2013', '2014', '2015', '2016', '2017',\n",
       "       '2018', '2019', '2020', '2021', '2022'], dtype=object)"
      ]
     },
     "execution_count": 203,
     "metadata": {},
     "output_type": "execute_result"
    }
   ],
   "source": [
    "df_core_t['years'].unique()"
   ]
  },
  {
   "cell_type": "code",
   "execution_count": 204,
   "id": "9dc9478b",
   "metadata": {},
   "outputs": [
    {
     "data": {
      "application/vnd.plotly.v1+json": {
       "config": {
        "plotlyServerURL": "https://plot.ly"
       },
       "data": [
        {
         "hovertemplate": "Country=Austria<br>years=%{x}<br>core_inflation_rate=%{y}<extra></extra>",
         "legendgroup": "Austria",
         "line": {
          "color": "#636efa",
          "dash": "solid"
         },
         "marker": {
          "symbol": "circle"
         },
         "mode": "lines",
         "name": "Austria",
         "orientation": "v",
         "showlegend": true,
         "type": "scatter",
         "x": [
          "2000",
          "2001",
          "2002",
          "2003",
          "2004",
          "2005",
          "2006",
          "2007",
          "2008",
          "2009",
          "2010",
          "2011",
          "2012",
          "2013",
          "2014",
          "2015",
          "2016",
          "2017",
          "2018",
          "2019",
          "2020",
          "2021",
          "2022"
         ],
         "xaxis": "x",
         "y": [
          1.66,
          2.61,
          2.16,
          1.41,
          1.78,
          1.69,
          0.92,
          1.62,
          1.94,
          1.77,
          1.41,
          2.35,
          2.09,
          2.07,
          1.98,
          1.85,
          1.47,
          1.97,
          1.81,
          1.65,
          1.9,
          2.15,
          5.28
         ],
         "yaxis": "y"
        },
        {
         "hovertemplate": "Country=Belgium<br>years=%{x}<br>core_inflation_rate=%{y}<extra></extra>",
         "legendgroup": "Belgium",
         "line": {
          "color": "#EF553B",
          "dash": "solid"
         },
         "marker": {
          "symbol": "circle"
         },
         "mode": "lines",
         "name": "Belgium",
         "orientation": "v",
         "showlegend": true,
         "type": "scatter",
         "x": [
          "2000",
          "2001",
          "2002",
          "2003",
          "2004",
          "2005",
          "2006",
          "2007",
          "2008",
          "2009",
          "2010",
          "2011",
          "2012",
          "2013",
          "2014",
          "2015",
          "2016",
          "2017",
          "2018",
          "2019",
          "2020",
          "2021",
          "2022"
         ],
         "xaxis": "x",
         "y": [
          1.83,
          2.15,
          -8.18,
          24.44,
          1.87,
          2.14,
          0.61,
          1.63,
          1.94,
          1.94,
          1.4,
          1.81,
          2.24,
          1.35,
          1.57,
          1.37,
          1.96,
          1.52,
          1.31,
          3.77,
          1.48,
          1.61,
          4.42
         ],
         "yaxis": "y"
        },
        {
         "hovertemplate": "Country=Bulgaria<br>years=%{x}<br>core_inflation_rate=%{y}<extra></extra>",
         "legendgroup": "Bulgaria",
         "line": {
          "color": "#00cc96",
          "dash": "solid"
         },
         "marker": {
          "symbol": "circle"
         },
         "mode": "lines",
         "name": "Bulgaria",
         "orientation": "v",
         "showlegend": true,
         "type": "scatter",
         "x": [
          "2000",
          "2001",
          "2002",
          "2003",
          "2004",
          "2005",
          "2006",
          "2007",
          "2008",
          "2009",
          "2010",
          "2011",
          "2012",
          "2013",
          "2014",
          "2015",
          "2016",
          "2017",
          "2018",
          "2019",
          "2020",
          "2021",
          "2022"
         ],
         "xaxis": "x",
         "y": [
          1.13,
          2.07,
          2.06,
          1.67,
          1.42,
          1.37,
          1.62,
          1.9,
          2.72,
          2.03,
          1.14,
          1.79,
          2.06,
          1.79,
          1.58,
          1.62,
          2.02,
          1.59,
          1.6,
          1.55,
          1.5,
          1.39,
          null
         ],
         "yaxis": "y"
        },
        {
         "hovertemplate": "Country=Cyprus<br>years=%{x}<br>core_inflation_rate=%{y}<extra></extra>",
         "legendgroup": "Cyprus",
         "line": {
          "color": "#ab63fa",
          "dash": "solid"
         },
         "marker": {
          "symbol": "circle"
         },
         "mode": "lines",
         "name": "Cyprus",
         "orientation": "v",
         "showlegend": true,
         "type": "scatter",
         "x": [
          "2000",
          "2001",
          "2002",
          "2003",
          "2004",
          "2005",
          "2006",
          "2007",
          "2008",
          "2009",
          "2010",
          "2011",
          "2012",
          "2013",
          "2014",
          "2015",
          "2016",
          "2017",
          "2018",
          "2019",
          "2020",
          "2021",
          "2022"
         ],
         "xaxis": "x",
         "y": [
          2.83,
          1.59,
          2.1,
          3.12,
          0.81,
          0.79,
          0.76,
          1.7,
          2.69,
          2.14,
          0.4,
          1.76,
          1.7,
          0.4,
          0.23,
          -0.34,
          -0.66,
          -0.03,
          0.06,
          0.63,
          -0.62,
          1.03,
          null
         ],
         "yaxis": "y"
        },
        {
         "hovertemplate": "Country=Czech Republic<br>years=%{x}<br>core_inflation_rate=%{y}<extra></extra>",
         "legendgroup": "Czech Republic",
         "line": {
          "color": "#FFA15A",
          "dash": "solid"
         },
         "marker": {
          "symbol": "circle"
         },
         "mode": "lines",
         "name": "Czech Republic",
         "orientation": "v",
         "showlegend": true,
         "type": "scatter",
         "x": [
          "2000",
          "2001",
          "2002",
          "2003",
          "2004",
          "2005",
          "2006",
          "2007",
          "2008",
          "2009",
          "2010",
          "2011",
          "2012",
          "2013",
          "2014",
          "2015",
          "2016",
          "2017",
          "2018",
          "2019",
          "2020",
          "2021",
          "2022"
         ],
         "xaxis": "x",
         "y": [
          1.94,
          2.45,
          0.56,
          -0.01,
          1.5,
          0.49,
          0.67,
          1.46,
          2.11,
          -0.84,
          0.09,
          1.07,
          0.78,
          0.06,
          0.75,
          0.15,
          0.51,
          2.57,
          1.86,
          2.22,
          3.63,
          4.99,
          12.18
         ],
         "yaxis": "y"
        },
        {
         "hovertemplate": "Country=Germany<br>years=%{x}<br>core_inflation_rate=%{y}<extra></extra>",
         "legendgroup": "Germany",
         "line": {
          "color": "#19d3f3",
          "dash": "solid"
         },
         "marker": {
          "symbol": "circle"
         },
         "mode": "lines",
         "name": "Germany",
         "orientation": "v",
         "showlegend": true,
         "type": "scatter",
         "x": [
          "2000",
          "2001",
          "2002",
          "2003",
          "2004",
          "2005",
          "2006",
          "2007",
          "2008",
          "2009",
          "2010",
          "2011",
          "2012",
          "2013",
          "2014",
          "2015",
          "2016",
          "2017",
          "2018",
          "2019",
          "2020",
          "2021",
          "2022"
         ],
         "xaxis": "x",
         "y": [
          0.83,
          0.83,
          1.56,
          0.94,
          1.71,
          1.06,
          1.13,
          1.94,
          1.44,
          1.27,
          0.71,
          0.92,
          1.28,
          1.26,
          1.37,
          1.67,
          1.21,
          1.23,
          1.31,
          1.49,
          0.96,
          2.13,
          3.72
         ],
         "yaxis": "y"
        },
        {
         "hovertemplate": "Country=Denmark<br>years=%{x}<br>core_inflation_rate=%{y}<extra></extra>",
         "legendgroup": "Denmark",
         "line": {
          "color": "#FF6692",
          "dash": "solid"
         },
         "marker": {
          "symbol": "circle"
         },
         "mode": "lines",
         "name": "Denmark",
         "orientation": "v",
         "showlegend": true,
         "type": "scatter",
         "x": [
          "2000",
          "2001",
          "2002",
          "2003",
          "2004",
          "2005",
          "2006",
          "2007",
          "2008",
          "2009",
          "2010",
          "2011",
          "2012",
          "2013",
          "2014",
          "2015",
          "2016",
          "2017",
          "2018",
          "2019",
          "2020",
          "2021",
          "2022"
         ],
         "xaxis": "x",
         "y": [
          2.16,
          2.2,
          2.52,
          2.32,
          1.3,
          1.38,
          1.4,
          1.41,
          13.46,
          2.26,
          1.84,
          1.81,
          1.9,
          1.21,
          0.87,
          -19.08,
          2.05,
          14.47,
          0.65,
          0.76,
          0.93,
          1.2,
          3.87
         ],
         "yaxis": "y"
        },
        {
         "hovertemplate": "Country=Spain<br>years=%{x}<br>core_inflation_rate=%{y}<extra></extra>",
         "legendgroup": "Spain",
         "line": {
          "color": "#B6E880",
          "dash": "solid"
         },
         "marker": {
          "symbol": "circle"
         },
         "mode": "lines",
         "name": "Spain",
         "orientation": "v",
         "showlegend": true,
         "type": "scatter",
         "x": [
          "2000",
          "2001",
          "2002",
          "2003",
          "2004",
          "2005",
          "2006",
          "2007",
          "2008",
          "2009",
          "2010",
          "2011",
          "2012",
          "2013",
          "2014",
          "2015",
          "2016",
          "2017",
          "2018",
          "2019",
          "2020",
          "2021",
          "2022"
         ],
         "xaxis": "x",
         "y": [
          43.94,
          -22.07,
          2.84,
          2.9,
          35.36,
          2.48,
          2.75,
          44.43,
          1.04,
          -3.83,
          0.57,
          1.3,
          24.55,
          1.08,
          -0.05,
          0.52,
          0.84,
          1.13,
          0.93,
          0.96,
          0.57,
          0.57,
          3.62
         ],
         "yaxis": "y"
        },
        {
         "hovertemplate": "Country=Estonia<br>years=%{x}<br>core_inflation_rate=%{y}<extra></extra>",
         "legendgroup": "Estonia",
         "line": {
          "color": "#FF97FF",
          "dash": "solid"
         },
         "marker": {
          "symbol": "circle"
         },
         "mode": "lines",
         "name": "Estonia",
         "orientation": "v",
         "showlegend": true,
         "type": "scatter",
         "x": [
          "2000",
          "2001",
          "2002",
          "2003",
          "2004",
          "2005",
          "2006",
          "2007",
          "2008",
          "2009",
          "2010",
          "2011",
          "2012",
          "2013",
          "2014",
          "2015",
          "2016",
          "2017",
          "2018",
          "2019",
          "2020",
          "2021",
          "2022"
         ],
         "xaxis": "x",
         "y": [
          3.89,
          4.09,
          2.92,
          2.41,
          1.22,
          1.87,
          3.31,
          5.43,
          6.46,
          1.87,
          0.75,
          2.3,
          2.2,
          1.41,
          1,
          1.42,
          1.33,
          2.12,
          2.3,
          2.12,
          0.15,
          2.78,
          9.5
         ],
         "yaxis": "y"
        },
        {
         "hovertemplate": "Country=Finland<br>years=%{x}<br>core_inflation_rate=%{y}<extra></extra>",
         "legendgroup": "Finland",
         "line": {
          "color": "#FECB52",
          "dash": "solid"
         },
         "marker": {
          "symbol": "circle"
         },
         "mode": "lines",
         "name": "Finland",
         "orientation": "v",
         "showlegend": true,
         "type": "scatter",
         "x": [
          "2000",
          "2001",
          "2002",
          "2003",
          "2004",
          "2005",
          "2006",
          "2007",
          "2008",
          "2009",
          "2010",
          "2011",
          "2012",
          "2013",
          "2014",
          "2015",
          "2016",
          "2017",
          "2018",
          "2019",
          "2020",
          "2021",
          "2022"
         ],
         "xaxis": "x",
         "y": [
          2.56,
          2.62,
          1.54,
          0.61,
          -0.21,
          0.19,
          1.27,
          2.64,
          2.55,
          0.4,
          1.19,
          2.04,
          2.27,
          0.98,
          1.46,
          0.56,
          0.96,
          0.66,
          0.68,
          0.83,
          0.5,
          1.73,
          3.97
         ],
         "yaxis": "y"
        },
        {
         "hovertemplate": "Country=France<br>years=%{x}<br>core_inflation_rate=%{y}<extra></extra>",
         "legendgroup": "France",
         "line": {
          "color": "#636efa",
          "dash": "solid"
         },
         "marker": {
          "symbol": "circle"
         },
         "mode": "lines",
         "name": "France",
         "orientation": "v",
         "showlegend": true,
         "type": "scatter",
         "x": [
          "2000",
          "2001",
          "2002",
          "2003",
          "2004",
          "2005",
          "2006",
          "2007",
          "2008",
          "2009",
          "2010",
          "2011",
          "2012",
          "2013",
          "2014",
          "2015",
          "2016",
          "2017",
          "2018",
          "2019",
          "2020",
          "2021",
          "2022"
         ],
         "xaxis": "x",
         "y": [
          0.79,
          -21.75,
          1.79,
          2.1,
          2.17,
          1.54,
          1.29,
          -11.35,
          14.63,
          -11.68,
          17.02,
          1.1,
          1.35,
          0.87,
          1,
          0.55,
          0.42,
          8.94,
          1.01,
          0.74,
          0.97,
          0.96,
          2.72
         ],
         "yaxis": "y"
        },
        {
         "hovertemplate": "Country=Greece<br>years=%{x}<br>core_inflation_rate=%{y}<extra></extra>",
         "legendgroup": "Greece",
         "line": {
          "color": "#EF553B",
          "dash": "solid"
         },
         "marker": {
          "symbol": "circle"
         },
         "mode": "lines",
         "name": "Greece",
         "orientation": "v",
         "showlegend": true,
         "type": "scatter",
         "x": [
          "2000",
          "2001",
          "2002",
          "2003",
          "2004",
          "2005",
          "2006",
          "2007",
          "2008",
          "2009",
          "2010",
          "2011",
          "2012",
          "2013",
          "2014",
          "2015",
          "2016",
          "2017",
          "2018",
          "2019",
          "2020",
          "2021",
          "2022"
         ],
         "xaxis": "x",
         "y": [
          2.16,
          3.35,
          3.42,
          5.93,
          3.18,
          3.16,
          2.45,
          2.74,
          6.95,
          2.23,
          3.39,
          1.88,
          0.2,
          -2.02,
          -1.24,
          -1.01,
          -1.13,
          0.45,
          22.3,
          -2.43,
          -0.67,
          -0.62,
          3.17
         ],
         "yaxis": "y"
        },
        {
         "hovertemplate": "Country=Croatia<br>years=%{x}<br>core_inflation_rate=%{y}<extra></extra>",
         "legendgroup": "Croatia",
         "line": {
          "color": "#00cc96",
          "dash": "solid"
         },
         "marker": {
          "symbol": "circle"
         },
         "mode": "lines",
         "name": "Croatia",
         "orientation": "v",
         "showlegend": true,
         "type": "scatter",
         "x": [
          "2000",
          "2001",
          "2002",
          "2003",
          "2004",
          "2005",
          "2006",
          "2007",
          "2008",
          "2009",
          "2010",
          "2011",
          "2012",
          "2013",
          "2014",
          "2015",
          "2016",
          "2017",
          "2018",
          "2019",
          "2020",
          "2021",
          "2022"
         ],
         "xaxis": "x",
         "y": [
          2.82,
          3.16,
          2.91,
          1.82,
          2.28,
          1.96,
          3.45,
          3.23,
          3.45,
          3.57,
          0.48,
          0.6,
          0.96,
          1.04,
          0.44,
          0.73,
          0.14,
          0.71,
          0.86,
          0.91,
          1,
          1.61,
          6.12
         ],
         "yaxis": "y"
        },
        {
         "hovertemplate": "Country=Hungary<br>years=%{x}<br>core_inflation_rate=%{y}<extra></extra>",
         "legendgroup": "Hungary",
         "line": {
          "color": "#ab63fa",
          "dash": "solid"
         },
         "marker": {
          "symbol": "circle"
         },
         "mode": "lines",
         "name": "Hungary",
         "orientation": "v",
         "showlegend": true,
         "type": "scatter",
         "x": [
          "2000",
          "2001",
          "2002",
          "2003",
          "2004",
          "2005",
          "2006",
          "2007",
          "2008",
          "2009",
          "2010",
          "2011",
          "2012",
          "2013",
          "2014",
          "2015",
          "2016",
          "2017",
          "2018",
          "2019",
          "2020",
          "2021",
          "2022"
         ],
         "xaxis": "x",
         "y": [
          8.15,
          9.4,
          5.84,
          4.53,
          5.7,
          2.06,
          2.23,
          5.3,
          5.08,
          4.12,
          2.99,
          2.73,
          5.07,
          3.33,
          2.17,
          1.21,
          1.39,
          2.32,
          2.48,
          3.78,
          3.05,
          4.55,
          9.8
         ],
         "yaxis": "y"
        },
        {
         "hovertemplate": "Country=Ireland<br>years=%{x}<br>core_inflation_rate=%{y}<extra></extra>",
         "legendgroup": "Ireland",
         "line": {
          "color": "#FFA15A",
          "dash": "solid"
         },
         "marker": {
          "symbol": "circle"
         },
         "mode": "lines",
         "name": "Ireland",
         "orientation": "v",
         "showlegend": true,
         "type": "scatter",
         "x": [
          "2000",
          "2001",
          "2002",
          "2003",
          "2004",
          "2005",
          "2006",
          "2007",
          "2008",
          "2009",
          "2010",
          "2011",
          "2012",
          "2013",
          "2014",
          "2015",
          "2016",
          "2017",
          "2018",
          "2019",
          "2020",
          "2021",
          "2022"
         ],
         "xaxis": "x",
         "y": [
          5.67,
          -11.05,
          17,
          3.92,
          2.37,
          2.45,
          4.17,
          5.87,
          3.26,
          -4.34,
          -1.22,
          26.63,
          -2.24,
          0.66,
          0.93,
          -12.55,
          0.96,
          0.33,
          0.14,
          1.13,
          0.27,
          1.8,
          4.67
         ],
         "yaxis": "y"
        },
        {
         "hovertemplate": "Country=Italy<br>years=%{x}<br>core_inflation_rate=%{y}<extra></extra>",
         "legendgroup": "Italy",
         "line": {
          "color": "#19d3f3",
          "dash": "solid"
         },
         "marker": {
          "symbol": "circle"
         },
         "mode": "lines",
         "name": "Italy",
         "orientation": "v",
         "showlegend": true,
         "type": "scatter",
         "x": [
          "2000",
          "2001",
          "2002",
          "2003",
          "2004",
          "2005",
          "2006",
          "2007",
          "2008",
          "2009",
          "2010",
          "2011",
          "2012",
          "2013",
          "2014",
          "2015",
          "2016",
          "2017",
          "2018",
          "2019",
          "2020",
          "2021",
          "2022"
         ],
         "xaxis": "x",
         "y": [
          9.69,
          10.14,
          -22.89,
          2.48,
          2.13,
          2.05,
          1.73,
          1.91,
          35.2,
          -13.39,
          13.78,
          -3.33,
          1.75,
          1.12,
          0.83,
          0.68,
          -28.62,
          0.69,
          0.61,
          0.6,
          0.49,
          0.8,
          2.79
         ],
         "yaxis": "y"
        },
        {
         "hovertemplate": "Country=Lithuania<br>years=%{x}<br>core_inflation_rate=%{y}<extra></extra>",
         "legendgroup": "Lithuania",
         "line": {
          "color": "#FF6692",
          "dash": "solid"
         },
         "marker": {
          "symbol": "circle"
         },
         "mode": "lines",
         "name": "Lithuania",
         "orientation": "v",
         "showlegend": true,
         "type": "scatter",
         "x": [
          "2000",
          "2001",
          "2002",
          "2003",
          "2004",
          "2005",
          "2006",
          "2007",
          "2008",
          "2009",
          "2010",
          "2011",
          "2012",
          "2013",
          "2014",
          "2015",
          "2016",
          "2017",
          "2018",
          "2019",
          "2020",
          "2021",
          "2022"
         ],
         "xaxis": "x",
         "y": [
          -1.03,
          -0.04,
          0.48,
          0.74,
          0.65,
          1.17,
          2.27,
          5.08,
          8.98,
          3.93,
          0.07,
          2.29,
          2.26,
          1.25,
          1,
          1.24,
          2.23,
          3.89,
          2.18,
          2.41,
          3.06,
          3.5,
          10.05
         ],
         "yaxis": "y"
        },
        {
         "hovertemplate": "Country=Luxembourg<br>years=%{x}<br>core_inflation_rate=%{y}<extra></extra>",
         "legendgroup": "Luxembourg",
         "line": {
          "color": "#B6E880",
          "dash": "solid"
         },
         "marker": {
          "symbol": "circle"
         },
         "mode": "lines",
         "name": "Luxembourg",
         "orientation": "v",
         "showlegend": true,
         "type": "scatter",
         "x": [
          "2000",
          "2001",
          "2002",
          "2003",
          "2004",
          "2005",
          "2006",
          "2007",
          "2008",
          "2009",
          "2010",
          "2011",
          "2012",
          "2013",
          "2014",
          "2015",
          "2016",
          "2017",
          "2018",
          "2019",
          "2020",
          "2021",
          "2022"
         ],
         "xaxis": "x",
         "y": [
          31.07,
          -5.95,
          -27.15,
          28.19,
          -19.78,
          27.67,
          12.35,
          2.12,
          1.99,
          2.02,
          1.58,
          2.39,
          2.09,
          2.08,
          1.31,
          1.61,
          0.95,
          1.37,
          0.88,
          1.8,
          1.29,
          1.57,
          4.04
         ],
         "yaxis": "y"
        },
        {
         "hovertemplate": "Country=Latvia<br>years=%{x}<br>core_inflation_rate=%{y}<extra></extra>",
         "legendgroup": "Latvia",
         "line": {
          "color": "#FF97FF",
          "dash": "solid"
         },
         "marker": {
          "symbol": "circle"
         },
         "mode": "lines",
         "name": "Latvia",
         "orientation": "v",
         "showlegend": true,
         "type": "scatter",
         "x": [
          "2000",
          "2001",
          "2002",
          "2003",
          "2004",
          "2005",
          "2006",
          "2007",
          "2008",
          "2009",
          "2010",
          "2011",
          "2012",
          "2013",
          "2014",
          "2015",
          "2016",
          "2017",
          "2018",
          "2019",
          "2020",
          "2021",
          "2022"
         ],
         "xaxis": "x",
         "y": [
          0.74,
          0.62,
          1.64,
          0.76,
          4.42,
          4.32,
          4.75,
          8.45,
          12.16,
          5.38,
          -2.19,
          0.81,
          0.36,
          0.16,
          1.83,
          1.81,
          1.55,
          1.6,
          2.25,
          2.78,
          1.22,
          1.88,
          6.85
         ],
         "yaxis": "y"
        },
        {
         "hovertemplate": "Country=Malta<br>years=%{x}<br>core_inflation_rate=%{y}<extra></extra>",
         "legendgroup": "Malta",
         "line": {
          "color": "#FECB52",
          "dash": "solid"
         },
         "marker": {
          "symbol": "circle"
         },
         "mode": "lines",
         "name": "Malta",
         "orientation": "v",
         "showlegend": true,
         "type": "scatter",
         "x": [
          "2000",
          "2001",
          "2002",
          "2003",
          "2004",
          "2005",
          "2006",
          "2007",
          "2008",
          "2009",
          "2010",
          "2011",
          "2012",
          "2013",
          "2014",
          "2015",
          "2016",
          "2017",
          "2018",
          "2019",
          "2020",
          "2021",
          "2022"
         ],
         "xaxis": "x",
         "y": [
          2.91,
          2.28,
          2.74,
          1.86,
          2.9,
          1.87,
          1.75,
          0.76,
          3.86,
          1.48,
          1.05,
          1.48,
          2.65,
          0.65,
          1.68,
          1.57,
          1.17,
          1.03,
          1.79,
          1.36,
          0.77,
          0.65,
          null
         ],
         "yaxis": "y"
        },
        {
         "hovertemplate": "Country=Netherlands<br>years=%{x}<br>core_inflation_rate=%{y}<extra></extra>",
         "legendgroup": "Netherlands",
         "line": {
          "color": "#636efa",
          "dash": "solid"
         },
         "marker": {
          "symbol": "circle"
         },
         "mode": "lines",
         "name": "Netherlands",
         "orientation": "v",
         "showlegend": true,
         "type": "scatter",
         "x": [
          "2000",
          "2001",
          "2002",
          "2003",
          "2004",
          "2005",
          "2006",
          "2007",
          "2008",
          "2009",
          "2010",
          "2011",
          "2012",
          "2013",
          "2014",
          "2015",
          "2016",
          "2017",
          "2018",
          "2019",
          "2020",
          "2021",
          "2022"
         ],
         "xaxis": "x",
         "y": [
          2.14,
          3.62,
          3.39,
          2.09,
          1.62,
          1.33,
          0.41,
          1.47,
          2.2,
          4.84,
          1.68,
          1.68,
          1.95,
          2.74,
          1.48,
          1.37,
          32.3,
          0.95,
          1.31,
          7.17,
          2.17,
          1.92,
          4.08
         ],
         "yaxis": "y"
        },
        {
         "hovertemplate": "Country=Poland<br>years=%{x}<br>core_inflation_rate=%{y}<extra></extra>",
         "legendgroup": "Poland",
         "line": {
          "color": "#EF553B",
          "dash": "solid"
         },
         "marker": {
          "symbol": "circle"
         },
         "mode": "lines",
         "name": "Poland",
         "orientation": "v",
         "showlegend": true,
         "type": "scatter",
         "x": [
          "2000",
          "2001",
          "2002",
          "2003",
          "2004",
          "2005",
          "2006",
          "2007",
          "2008",
          "2009",
          "2010",
          "2011",
          "2012",
          "2013",
          "2014",
          "2015",
          "2016",
          "2017",
          "2018",
          "2019",
          "2020",
          "2021",
          "2022"
         ],
         "xaxis": "x",
         "y": [
          9.18,
          5.72,
          2.69,
          0.73,
          1.75,
          1.34,
          0.31,
          1.08,
          2.48,
          2.85,
          1.67,
          2.43,
          2.19,
          1.2,
          0.64,
          0.32,
          -0.25,
          0.78,
          0.74,
          1.89,
          3.88,
          4.1,
          8.85
         ],
         "yaxis": "y"
        },
        {
         "hovertemplate": "Country=Portugal<br>years=%{x}<br>core_inflation_rate=%{y}<extra></extra>",
         "legendgroup": "Portugal",
         "line": {
          "color": "#00cc96",
          "dash": "solid"
         },
         "marker": {
          "symbol": "circle"
         },
         "mode": "lines",
         "name": "Portugal",
         "orientation": "v",
         "showlegend": true,
         "type": "scatter",
         "x": [
          "2000",
          "2001",
          "2002",
          "2003",
          "2004",
          "2005",
          "2006",
          "2007",
          "2008",
          "2009",
          "2010",
          "2011",
          "2012",
          "2013",
          "2014",
          "2015",
          "2016",
          "2017",
          "2018",
          "2019",
          "2020",
          "2021",
          "2022"
         ],
         "xaxis": "x",
         "y": [
          2.84,
          3.54,
          4.76,
          3.36,
          2.51,
          -17.32,
          13.24,
          2.35,
          1.99,
          1.12,
          0.99,
          -1.11,
          -20.14,
          0.19,
          0.07,
          -24.85,
          0.74,
          1.09,
          0.67,
          0.49,
          -0.04,
          0.75,
          5.45
         ],
         "yaxis": "y"
        },
        {
         "hovertemplate": "Country=Romania<br>years=%{x}<br>core_inflation_rate=%{y}<extra></extra>",
         "legendgroup": "Romania",
         "line": {
          "color": "#ab63fa",
          "dash": "solid"
         },
         "marker": {
          "symbol": "circle"
         },
         "mode": "lines",
         "name": "Romania",
         "orientation": "v",
         "showlegend": true,
         "type": "scatter",
         "x": [
          "2000",
          "2001",
          "2002",
          "2003",
          "2004",
          "2005",
          "2006",
          "2007",
          "2008",
          "2009",
          "2010",
          "2011",
          "2012",
          "2013",
          "2014",
          "2015",
          "2016",
          "2017",
          "2018",
          "2019",
          "2020",
          "2021",
          "2022"
         ],
         "xaxis": "x",
         "y": [
          null,
          null,
          null,
          null,
          null,
          null,
          null,
          null,
          7.16,
          6.05,
          5.66,
          4.31,
          2.81,
          2.55,
          0.98,
          -0.84,
          -0.79,
          1.61,
          3.1,
          3.59,
          4.04,
          4.72,
          8.89
         ],
         "yaxis": "y"
        },
        {
         "hovertemplate": "Country=Slovakia<br>years=%{x}<br>core_inflation_rate=%{y}<extra></extra>",
         "legendgroup": "Slovakia",
         "line": {
          "color": "#FFA15A",
          "dash": "solid"
         },
         "marker": {
          "symbol": "circle"
         },
         "mode": "lines",
         "name": "Slovakia",
         "orientation": "v",
         "showlegend": true,
         "type": "scatter",
         "x": [
          "2000",
          "2001",
          "2002",
          "2003",
          "2004",
          "2005",
          "2006",
          "2007",
          "2008",
          "2009",
          "2010",
          "2011",
          "2012",
          "2013",
          "2014",
          "2015",
          "2016",
          "2017",
          "2018",
          "2019",
          "2020",
          "2021",
          "2022"
         ],
         "xaxis": "x",
         "y": [
          9.83,
          7.01,
          4.02,
          3.45,
          3.21,
          1.82,
          2.77,
          2.68,
          3.86,
          1.38,
          0.79,
          1.36,
          2.56,
          0.84,
          0.28,
          0.16,
          0.21,
          1.49,
          2.48,
          1.92,
          2.16,
          4.11,
          10.4
         ],
         "yaxis": "y"
        },
        {
         "hovertemplate": "Country=Slovenia<br>years=%{x}<br>core_inflation_rate=%{y}<extra></extra>",
         "legendgroup": "Slovenia",
         "line": {
          "color": "#19d3f3",
          "dash": "solid"
         },
         "marker": {
          "symbol": "circle"
         },
         "mode": "lines",
         "name": "Slovenia",
         "orientation": "v",
         "showlegend": true,
         "type": "scatter",
         "x": [
          "2000",
          "2001",
          "2002",
          "2003",
          "2004",
          "2005",
          "2006",
          "2007",
          "2008",
          "2009",
          "2010",
          "2011",
          "2012",
          "2013",
          "2014",
          "2015",
          "2016",
          "2017",
          "2018",
          "2019",
          "2020",
          "2021",
          "2022"
         ],
         "xaxis": "x",
         "y": [
          7.27,
          7.76,
          7.95,
          5.84,
          3.15,
          1.14,
          1.58,
          3.79,
          4.95,
          1.54,
          0.3,
          0.85,
          1.72,
          1.71,
          0.46,
          0.45,
          0.62,
          1.06,
          1.2,
          1.69,
          0.69,
          1.08,
          5.65
         ],
         "yaxis": "y"
        },
        {
         "hovertemplate": "Country=Sweden<br>years=%{x}<br>core_inflation_rate=%{y}<extra></extra>",
         "legendgroup": "Sweden",
         "line": {
          "color": "#FF6692",
          "dash": "solid"
         },
         "marker": {
          "symbol": "circle"
         },
         "mode": "lines",
         "name": "Sweden",
         "orientation": "v",
         "showlegend": true,
         "type": "scatter",
         "x": [
          "2000",
          "2001",
          "2002",
          "2003",
          "2004",
          "2005",
          "2006",
          "2007",
          "2008",
          "2009",
          "2010",
          "2011",
          "2012",
          "2013",
          "2014",
          "2015",
          "2016",
          "2017",
          "2018",
          "2019",
          "2020",
          "2021",
          "2022"
         ],
         "xaxis": "x",
         "y": [
          0.34,
          1.84,
          1.99,
          1.09,
          0.18,
          0.01,
          0.75,
          2.56,
          2.07,
          -0.95,
          0.51,
          3.01,
          0.87,
          -0.24,
          -0.02,
          0.02,
          0.9,
          1.37,
          1.09,
          1.52,
          1.19,
          1.3,
          5.47
         ],
         "yaxis": "y"
        }
       ],
       "layout": {
        "legend": {
         "title": {
          "text": "Country"
         },
         "tracegroupgap": 0
        },
        "template": {
         "data": {
          "bar": [
           {
            "error_x": {
             "color": "#2a3f5f"
            },
            "error_y": {
             "color": "#2a3f5f"
            },
            "marker": {
             "line": {
              "color": "#E5ECF6",
              "width": 0.5
             },
             "pattern": {
              "fillmode": "overlay",
              "size": 10,
              "solidity": 0.2
             }
            },
            "type": "bar"
           }
          ],
          "barpolar": [
           {
            "marker": {
             "line": {
              "color": "#E5ECF6",
              "width": 0.5
             },
             "pattern": {
              "fillmode": "overlay",
              "size": 10,
              "solidity": 0.2
             }
            },
            "type": "barpolar"
           }
          ],
          "carpet": [
           {
            "aaxis": {
             "endlinecolor": "#2a3f5f",
             "gridcolor": "white",
             "linecolor": "white",
             "minorgridcolor": "white",
             "startlinecolor": "#2a3f5f"
            },
            "baxis": {
             "endlinecolor": "#2a3f5f",
             "gridcolor": "white",
             "linecolor": "white",
             "minorgridcolor": "white",
             "startlinecolor": "#2a3f5f"
            },
            "type": "carpet"
           }
          ],
          "choropleth": [
           {
            "colorbar": {
             "outlinewidth": 0,
             "ticks": ""
            },
            "type": "choropleth"
           }
          ],
          "contour": [
           {
            "colorbar": {
             "outlinewidth": 0,
             "ticks": ""
            },
            "colorscale": [
             [
              0,
              "#0d0887"
             ],
             [
              0.1111111111111111,
              "#46039f"
             ],
             [
              0.2222222222222222,
              "#7201a8"
             ],
             [
              0.3333333333333333,
              "#9c179e"
             ],
             [
              0.4444444444444444,
              "#bd3786"
             ],
             [
              0.5555555555555556,
              "#d8576b"
             ],
             [
              0.6666666666666666,
              "#ed7953"
             ],
             [
              0.7777777777777778,
              "#fb9f3a"
             ],
             [
              0.8888888888888888,
              "#fdca26"
             ],
             [
              1,
              "#f0f921"
             ]
            ],
            "type": "contour"
           }
          ],
          "contourcarpet": [
           {
            "colorbar": {
             "outlinewidth": 0,
             "ticks": ""
            },
            "type": "contourcarpet"
           }
          ],
          "heatmap": [
           {
            "colorbar": {
             "outlinewidth": 0,
             "ticks": ""
            },
            "colorscale": [
             [
              0,
              "#0d0887"
             ],
             [
              0.1111111111111111,
              "#46039f"
             ],
             [
              0.2222222222222222,
              "#7201a8"
             ],
             [
              0.3333333333333333,
              "#9c179e"
             ],
             [
              0.4444444444444444,
              "#bd3786"
             ],
             [
              0.5555555555555556,
              "#d8576b"
             ],
             [
              0.6666666666666666,
              "#ed7953"
             ],
             [
              0.7777777777777778,
              "#fb9f3a"
             ],
             [
              0.8888888888888888,
              "#fdca26"
             ],
             [
              1,
              "#f0f921"
             ]
            ],
            "type": "heatmap"
           }
          ],
          "heatmapgl": [
           {
            "colorbar": {
             "outlinewidth": 0,
             "ticks": ""
            },
            "colorscale": [
             [
              0,
              "#0d0887"
             ],
             [
              0.1111111111111111,
              "#46039f"
             ],
             [
              0.2222222222222222,
              "#7201a8"
             ],
             [
              0.3333333333333333,
              "#9c179e"
             ],
             [
              0.4444444444444444,
              "#bd3786"
             ],
             [
              0.5555555555555556,
              "#d8576b"
             ],
             [
              0.6666666666666666,
              "#ed7953"
             ],
             [
              0.7777777777777778,
              "#fb9f3a"
             ],
             [
              0.8888888888888888,
              "#fdca26"
             ],
             [
              1,
              "#f0f921"
             ]
            ],
            "type": "heatmapgl"
           }
          ],
          "histogram": [
           {
            "marker": {
             "pattern": {
              "fillmode": "overlay",
              "size": 10,
              "solidity": 0.2
             }
            },
            "type": "histogram"
           }
          ],
          "histogram2d": [
           {
            "colorbar": {
             "outlinewidth": 0,
             "ticks": ""
            },
            "colorscale": [
             [
              0,
              "#0d0887"
             ],
             [
              0.1111111111111111,
              "#46039f"
             ],
             [
              0.2222222222222222,
              "#7201a8"
             ],
             [
              0.3333333333333333,
              "#9c179e"
             ],
             [
              0.4444444444444444,
              "#bd3786"
             ],
             [
              0.5555555555555556,
              "#d8576b"
             ],
             [
              0.6666666666666666,
              "#ed7953"
             ],
             [
              0.7777777777777778,
              "#fb9f3a"
             ],
             [
              0.8888888888888888,
              "#fdca26"
             ],
             [
              1,
              "#f0f921"
             ]
            ],
            "type": "histogram2d"
           }
          ],
          "histogram2dcontour": [
           {
            "colorbar": {
             "outlinewidth": 0,
             "ticks": ""
            },
            "colorscale": [
             [
              0,
              "#0d0887"
             ],
             [
              0.1111111111111111,
              "#46039f"
             ],
             [
              0.2222222222222222,
              "#7201a8"
             ],
             [
              0.3333333333333333,
              "#9c179e"
             ],
             [
              0.4444444444444444,
              "#bd3786"
             ],
             [
              0.5555555555555556,
              "#d8576b"
             ],
             [
              0.6666666666666666,
              "#ed7953"
             ],
             [
              0.7777777777777778,
              "#fb9f3a"
             ],
             [
              0.8888888888888888,
              "#fdca26"
             ],
             [
              1,
              "#f0f921"
             ]
            ],
            "type": "histogram2dcontour"
           }
          ],
          "mesh3d": [
           {
            "colorbar": {
             "outlinewidth": 0,
             "ticks": ""
            },
            "type": "mesh3d"
           }
          ],
          "parcoords": [
           {
            "line": {
             "colorbar": {
              "outlinewidth": 0,
              "ticks": ""
             }
            },
            "type": "parcoords"
           }
          ],
          "pie": [
           {
            "automargin": true,
            "type": "pie"
           }
          ],
          "scatter": [
           {
            "fillpattern": {
             "fillmode": "overlay",
             "size": 10,
             "solidity": 0.2
            },
            "type": "scatter"
           }
          ],
          "scatter3d": [
           {
            "line": {
             "colorbar": {
              "outlinewidth": 0,
              "ticks": ""
             }
            },
            "marker": {
             "colorbar": {
              "outlinewidth": 0,
              "ticks": ""
             }
            },
            "type": "scatter3d"
           }
          ],
          "scattercarpet": [
           {
            "marker": {
             "colorbar": {
              "outlinewidth": 0,
              "ticks": ""
             }
            },
            "type": "scattercarpet"
           }
          ],
          "scattergeo": [
           {
            "marker": {
             "colorbar": {
              "outlinewidth": 0,
              "ticks": ""
             }
            },
            "type": "scattergeo"
           }
          ],
          "scattergl": [
           {
            "marker": {
             "colorbar": {
              "outlinewidth": 0,
              "ticks": ""
             }
            },
            "type": "scattergl"
           }
          ],
          "scattermapbox": [
           {
            "marker": {
             "colorbar": {
              "outlinewidth": 0,
              "ticks": ""
             }
            },
            "type": "scattermapbox"
           }
          ],
          "scatterpolar": [
           {
            "marker": {
             "colorbar": {
              "outlinewidth": 0,
              "ticks": ""
             }
            },
            "type": "scatterpolar"
           }
          ],
          "scatterpolargl": [
           {
            "marker": {
             "colorbar": {
              "outlinewidth": 0,
              "ticks": ""
             }
            },
            "type": "scatterpolargl"
           }
          ],
          "scatterternary": [
           {
            "marker": {
             "colorbar": {
              "outlinewidth": 0,
              "ticks": ""
             }
            },
            "type": "scatterternary"
           }
          ],
          "surface": [
           {
            "colorbar": {
             "outlinewidth": 0,
             "ticks": ""
            },
            "colorscale": [
             [
              0,
              "#0d0887"
             ],
             [
              0.1111111111111111,
              "#46039f"
             ],
             [
              0.2222222222222222,
              "#7201a8"
             ],
             [
              0.3333333333333333,
              "#9c179e"
             ],
             [
              0.4444444444444444,
              "#bd3786"
             ],
             [
              0.5555555555555556,
              "#d8576b"
             ],
             [
              0.6666666666666666,
              "#ed7953"
             ],
             [
              0.7777777777777778,
              "#fb9f3a"
             ],
             [
              0.8888888888888888,
              "#fdca26"
             ],
             [
              1,
              "#f0f921"
             ]
            ],
            "type": "surface"
           }
          ],
          "table": [
           {
            "cells": {
             "fill": {
              "color": "#EBF0F8"
             },
             "line": {
              "color": "white"
             }
            },
            "header": {
             "fill": {
              "color": "#C8D4E3"
             },
             "line": {
              "color": "white"
             }
            },
            "type": "table"
           }
          ]
         },
         "layout": {
          "annotationdefaults": {
           "arrowcolor": "#2a3f5f",
           "arrowhead": 0,
           "arrowwidth": 1
          },
          "autotypenumbers": "strict",
          "coloraxis": {
           "colorbar": {
            "outlinewidth": 0,
            "ticks": ""
           }
          },
          "colorscale": {
           "diverging": [
            [
             0,
             "#8e0152"
            ],
            [
             0.1,
             "#c51b7d"
            ],
            [
             0.2,
             "#de77ae"
            ],
            [
             0.3,
             "#f1b6da"
            ],
            [
             0.4,
             "#fde0ef"
            ],
            [
             0.5,
             "#f7f7f7"
            ],
            [
             0.6,
             "#e6f5d0"
            ],
            [
             0.7,
             "#b8e186"
            ],
            [
             0.8,
             "#7fbc41"
            ],
            [
             0.9,
             "#4d9221"
            ],
            [
             1,
             "#276419"
            ]
           ],
           "sequential": [
            [
             0,
             "#0d0887"
            ],
            [
             0.1111111111111111,
             "#46039f"
            ],
            [
             0.2222222222222222,
             "#7201a8"
            ],
            [
             0.3333333333333333,
             "#9c179e"
            ],
            [
             0.4444444444444444,
             "#bd3786"
            ],
            [
             0.5555555555555556,
             "#d8576b"
            ],
            [
             0.6666666666666666,
             "#ed7953"
            ],
            [
             0.7777777777777778,
             "#fb9f3a"
            ],
            [
             0.8888888888888888,
             "#fdca26"
            ],
            [
             1,
             "#f0f921"
            ]
           ],
           "sequentialminus": [
            [
             0,
             "#0d0887"
            ],
            [
             0.1111111111111111,
             "#46039f"
            ],
            [
             0.2222222222222222,
             "#7201a8"
            ],
            [
             0.3333333333333333,
             "#9c179e"
            ],
            [
             0.4444444444444444,
             "#bd3786"
            ],
            [
             0.5555555555555556,
             "#d8576b"
            ],
            [
             0.6666666666666666,
             "#ed7953"
            ],
            [
             0.7777777777777778,
             "#fb9f3a"
            ],
            [
             0.8888888888888888,
             "#fdca26"
            ],
            [
             1,
             "#f0f921"
            ]
           ]
          },
          "colorway": [
           "#636efa",
           "#EF553B",
           "#00cc96",
           "#ab63fa",
           "#FFA15A",
           "#19d3f3",
           "#FF6692",
           "#B6E880",
           "#FF97FF",
           "#FECB52"
          ],
          "font": {
           "color": "#2a3f5f"
          },
          "geo": {
           "bgcolor": "white",
           "lakecolor": "white",
           "landcolor": "#E5ECF6",
           "showlakes": true,
           "showland": true,
           "subunitcolor": "white"
          },
          "hoverlabel": {
           "align": "left"
          },
          "hovermode": "closest",
          "mapbox": {
           "style": "light"
          },
          "paper_bgcolor": "white",
          "plot_bgcolor": "#E5ECF6",
          "polar": {
           "angularaxis": {
            "gridcolor": "white",
            "linecolor": "white",
            "ticks": ""
           },
           "bgcolor": "#E5ECF6",
           "radialaxis": {
            "gridcolor": "white",
            "linecolor": "white",
            "ticks": ""
           }
          },
          "scene": {
           "xaxis": {
            "backgroundcolor": "#E5ECF6",
            "gridcolor": "white",
            "gridwidth": 2,
            "linecolor": "white",
            "showbackground": true,
            "ticks": "",
            "zerolinecolor": "white"
           },
           "yaxis": {
            "backgroundcolor": "#E5ECF6",
            "gridcolor": "white",
            "gridwidth": 2,
            "linecolor": "white",
            "showbackground": true,
            "ticks": "",
            "zerolinecolor": "white"
           },
           "zaxis": {
            "backgroundcolor": "#E5ECF6",
            "gridcolor": "white",
            "gridwidth": 2,
            "linecolor": "white",
            "showbackground": true,
            "ticks": "",
            "zerolinecolor": "white"
           }
          },
          "shapedefaults": {
           "line": {
            "color": "#2a3f5f"
           }
          },
          "ternary": {
           "aaxis": {
            "gridcolor": "white",
            "linecolor": "white",
            "ticks": ""
           },
           "baxis": {
            "gridcolor": "white",
            "linecolor": "white",
            "ticks": ""
           },
           "bgcolor": "#E5ECF6",
           "caxis": {
            "gridcolor": "white",
            "linecolor": "white",
            "ticks": ""
           }
          },
          "title": {
           "x": 0.05
          },
          "xaxis": {
           "automargin": true,
           "gridcolor": "white",
           "linecolor": "white",
           "ticks": "",
           "title": {
            "standoff": 15
           },
           "zerolinecolor": "white",
           "zerolinewidth": 2
          },
          "yaxis": {
           "automargin": true,
           "gridcolor": "white",
           "linecolor": "white",
           "ticks": "",
           "title": {
            "standoff": 15
           },
           "zerolinecolor": "white",
           "zerolinewidth": 2
          }
         }
        },
        "title": {
         "text": "EU Inflation Rates Comparison"
        },
        "xaxis": {
         "anchor": "y",
         "domain": [
          0,
          1
         ],
         "title": {
          "text": "years"
         }
        },
        "yaxis": {
         "anchor": "x",
         "domain": [
          0,
          1
         ],
         "title": {
          "text": "core_inflation_rate"
         }
        }
       }
      },
      "text/html": [
       "<div>                            <div id=\"ad973a45-c12f-4389-8ef4-e836803ebc53\" class=\"plotly-graph-div\" style=\"height:525px; width:100%;\"></div>            <script type=\"text/javascript\">                require([\"plotly\"], function(Plotly) {                    window.PLOTLYENV=window.PLOTLYENV || {};                                    if (document.getElementById(\"ad973a45-c12f-4389-8ef4-e836803ebc53\")) {                    Plotly.newPlot(                        \"ad973a45-c12f-4389-8ef4-e836803ebc53\",                        [{\"hovertemplate\":\"Country=Austria<br>years=%{x}<br>core_inflation_rate=%{y}<extra></extra>\",\"legendgroup\":\"Austria\",\"line\":{\"color\":\"#636efa\",\"dash\":\"solid\"},\"marker\":{\"symbol\":\"circle\"},\"mode\":\"lines\",\"name\":\"Austria\",\"orientation\":\"v\",\"showlegend\":true,\"x\":[\"2000\",\"2001\",\"2002\",\"2003\",\"2004\",\"2005\",\"2006\",\"2007\",\"2008\",\"2009\",\"2010\",\"2011\",\"2012\",\"2013\",\"2014\",\"2015\",\"2016\",\"2017\",\"2018\",\"2019\",\"2020\",\"2021\",\"2022\"],\"xaxis\":\"x\",\"y\":[1.66,2.61,2.16,1.41,1.78,1.69,0.92,1.62,1.94,1.77,1.41,2.35,2.09,2.07,1.98,1.85,1.47,1.97,1.81,1.65,1.9,2.15,5.28],\"yaxis\":\"y\",\"type\":\"scatter\"},{\"hovertemplate\":\"Country=Belgium<br>years=%{x}<br>core_inflation_rate=%{y}<extra></extra>\",\"legendgroup\":\"Belgium\",\"line\":{\"color\":\"#EF553B\",\"dash\":\"solid\"},\"marker\":{\"symbol\":\"circle\"},\"mode\":\"lines\",\"name\":\"Belgium\",\"orientation\":\"v\",\"showlegend\":true,\"x\":[\"2000\",\"2001\",\"2002\",\"2003\",\"2004\",\"2005\",\"2006\",\"2007\",\"2008\",\"2009\",\"2010\",\"2011\",\"2012\",\"2013\",\"2014\",\"2015\",\"2016\",\"2017\",\"2018\",\"2019\",\"2020\",\"2021\",\"2022\"],\"xaxis\":\"x\",\"y\":[1.83,2.15,-8.18,24.44,1.87,2.14,0.61,1.63,1.94,1.94,1.4,1.81,2.24,1.35,1.57,1.37,1.96,1.52,1.31,3.77,1.48,1.61,4.42],\"yaxis\":\"y\",\"type\":\"scatter\"},{\"hovertemplate\":\"Country=Bulgaria<br>years=%{x}<br>core_inflation_rate=%{y}<extra></extra>\",\"legendgroup\":\"Bulgaria\",\"line\":{\"color\":\"#00cc96\",\"dash\":\"solid\"},\"marker\":{\"symbol\":\"circle\"},\"mode\":\"lines\",\"name\":\"Bulgaria\",\"orientation\":\"v\",\"showlegend\":true,\"x\":[\"2000\",\"2001\",\"2002\",\"2003\",\"2004\",\"2005\",\"2006\",\"2007\",\"2008\",\"2009\",\"2010\",\"2011\",\"2012\",\"2013\",\"2014\",\"2015\",\"2016\",\"2017\",\"2018\",\"2019\",\"2020\",\"2021\",\"2022\"],\"xaxis\":\"x\",\"y\":[1.13,2.07,2.06,1.67,1.42,1.37,1.62,1.9,2.72,2.03,1.14,1.79,2.06,1.79,1.58,1.62,2.02,1.59,1.6,1.55,1.5,1.39,null],\"yaxis\":\"y\",\"type\":\"scatter\"},{\"hovertemplate\":\"Country=Cyprus<br>years=%{x}<br>core_inflation_rate=%{y}<extra></extra>\",\"legendgroup\":\"Cyprus\",\"line\":{\"color\":\"#ab63fa\",\"dash\":\"solid\"},\"marker\":{\"symbol\":\"circle\"},\"mode\":\"lines\",\"name\":\"Cyprus\",\"orientation\":\"v\",\"showlegend\":true,\"x\":[\"2000\",\"2001\",\"2002\",\"2003\",\"2004\",\"2005\",\"2006\",\"2007\",\"2008\",\"2009\",\"2010\",\"2011\",\"2012\",\"2013\",\"2014\",\"2015\",\"2016\",\"2017\",\"2018\",\"2019\",\"2020\",\"2021\",\"2022\"],\"xaxis\":\"x\",\"y\":[2.83,1.59,2.1,3.12,0.81,0.79,0.76,1.7,2.69,2.14,0.4,1.76,1.7,0.4,0.23,-0.34,-0.66,-0.03,0.06,0.63,-0.62,1.03,null],\"yaxis\":\"y\",\"type\":\"scatter\"},{\"hovertemplate\":\"Country=Czech Republic<br>years=%{x}<br>core_inflation_rate=%{y}<extra></extra>\",\"legendgroup\":\"Czech Republic\",\"line\":{\"color\":\"#FFA15A\",\"dash\":\"solid\"},\"marker\":{\"symbol\":\"circle\"},\"mode\":\"lines\",\"name\":\"Czech Republic\",\"orientation\":\"v\",\"showlegend\":true,\"x\":[\"2000\",\"2001\",\"2002\",\"2003\",\"2004\",\"2005\",\"2006\",\"2007\",\"2008\",\"2009\",\"2010\",\"2011\",\"2012\",\"2013\",\"2014\",\"2015\",\"2016\",\"2017\",\"2018\",\"2019\",\"2020\",\"2021\",\"2022\"],\"xaxis\":\"x\",\"y\":[1.94,2.45,0.56,-0.01,1.5,0.49,0.67,1.46,2.11,-0.84,0.09,1.07,0.78,0.06,0.75,0.15,0.51,2.57,1.86,2.22,3.63,4.99,12.18],\"yaxis\":\"y\",\"type\":\"scatter\"},{\"hovertemplate\":\"Country=Germany<br>years=%{x}<br>core_inflation_rate=%{y}<extra></extra>\",\"legendgroup\":\"Germany\",\"line\":{\"color\":\"#19d3f3\",\"dash\":\"solid\"},\"marker\":{\"symbol\":\"circle\"},\"mode\":\"lines\",\"name\":\"Germany\",\"orientation\":\"v\",\"showlegend\":true,\"x\":[\"2000\",\"2001\",\"2002\",\"2003\",\"2004\",\"2005\",\"2006\",\"2007\",\"2008\",\"2009\",\"2010\",\"2011\",\"2012\",\"2013\",\"2014\",\"2015\",\"2016\",\"2017\",\"2018\",\"2019\",\"2020\",\"2021\",\"2022\"],\"xaxis\":\"x\",\"y\":[0.83,0.83,1.56,0.94,1.71,1.06,1.13,1.94,1.44,1.27,0.71,0.92,1.28,1.26,1.37,1.67,1.21,1.23,1.31,1.49,0.96,2.13,3.72],\"yaxis\":\"y\",\"type\":\"scatter\"},{\"hovertemplate\":\"Country=Denmark<br>years=%{x}<br>core_inflation_rate=%{y}<extra></extra>\",\"legendgroup\":\"Denmark\",\"line\":{\"color\":\"#FF6692\",\"dash\":\"solid\"},\"marker\":{\"symbol\":\"circle\"},\"mode\":\"lines\",\"name\":\"Denmark\",\"orientation\":\"v\",\"showlegend\":true,\"x\":[\"2000\",\"2001\",\"2002\",\"2003\",\"2004\",\"2005\",\"2006\",\"2007\",\"2008\",\"2009\",\"2010\",\"2011\",\"2012\",\"2013\",\"2014\",\"2015\",\"2016\",\"2017\",\"2018\",\"2019\",\"2020\",\"2021\",\"2022\"],\"xaxis\":\"x\",\"y\":[2.16,2.2,2.52,2.32,1.3,1.38,1.4,1.41,13.46,2.26,1.84,1.81,1.9,1.21,0.87,-19.08,2.05,14.47,0.65,0.76,0.93,1.2,3.87],\"yaxis\":\"y\",\"type\":\"scatter\"},{\"hovertemplate\":\"Country=Spain<br>years=%{x}<br>core_inflation_rate=%{y}<extra></extra>\",\"legendgroup\":\"Spain\",\"line\":{\"color\":\"#B6E880\",\"dash\":\"solid\"},\"marker\":{\"symbol\":\"circle\"},\"mode\":\"lines\",\"name\":\"Spain\",\"orientation\":\"v\",\"showlegend\":true,\"x\":[\"2000\",\"2001\",\"2002\",\"2003\",\"2004\",\"2005\",\"2006\",\"2007\",\"2008\",\"2009\",\"2010\",\"2011\",\"2012\",\"2013\",\"2014\",\"2015\",\"2016\",\"2017\",\"2018\",\"2019\",\"2020\",\"2021\",\"2022\"],\"xaxis\":\"x\",\"y\":[43.94,-22.07,2.84,2.9,35.36,2.48,2.75,44.43,1.04,-3.83,0.57,1.3,24.55,1.08,-0.05,0.52,0.84,1.13,0.93,0.96,0.57,0.57,3.62],\"yaxis\":\"y\",\"type\":\"scatter\"},{\"hovertemplate\":\"Country=Estonia<br>years=%{x}<br>core_inflation_rate=%{y}<extra></extra>\",\"legendgroup\":\"Estonia\",\"line\":{\"color\":\"#FF97FF\",\"dash\":\"solid\"},\"marker\":{\"symbol\":\"circle\"},\"mode\":\"lines\",\"name\":\"Estonia\",\"orientation\":\"v\",\"showlegend\":true,\"x\":[\"2000\",\"2001\",\"2002\",\"2003\",\"2004\",\"2005\",\"2006\",\"2007\",\"2008\",\"2009\",\"2010\",\"2011\",\"2012\",\"2013\",\"2014\",\"2015\",\"2016\",\"2017\",\"2018\",\"2019\",\"2020\",\"2021\",\"2022\"],\"xaxis\":\"x\",\"y\":[3.89,4.09,2.92,2.41,1.22,1.87,3.31,5.43,6.46,1.87,0.75,2.3,2.2,1.41,1.0,1.42,1.33,2.12,2.3,2.12,0.15,2.78,9.5],\"yaxis\":\"y\",\"type\":\"scatter\"},{\"hovertemplate\":\"Country=Finland<br>years=%{x}<br>core_inflation_rate=%{y}<extra></extra>\",\"legendgroup\":\"Finland\",\"line\":{\"color\":\"#FECB52\",\"dash\":\"solid\"},\"marker\":{\"symbol\":\"circle\"},\"mode\":\"lines\",\"name\":\"Finland\",\"orientation\":\"v\",\"showlegend\":true,\"x\":[\"2000\",\"2001\",\"2002\",\"2003\",\"2004\",\"2005\",\"2006\",\"2007\",\"2008\",\"2009\",\"2010\",\"2011\",\"2012\",\"2013\",\"2014\",\"2015\",\"2016\",\"2017\",\"2018\",\"2019\",\"2020\",\"2021\",\"2022\"],\"xaxis\":\"x\",\"y\":[2.56,2.62,1.54,0.61,-0.21,0.19,1.27,2.64,2.55,0.4,1.19,2.04,2.27,0.98,1.46,0.56,0.96,0.66,0.68,0.83,0.5,1.73,3.97],\"yaxis\":\"y\",\"type\":\"scatter\"},{\"hovertemplate\":\"Country=France<br>years=%{x}<br>core_inflation_rate=%{y}<extra></extra>\",\"legendgroup\":\"France\",\"line\":{\"color\":\"#636efa\",\"dash\":\"solid\"},\"marker\":{\"symbol\":\"circle\"},\"mode\":\"lines\",\"name\":\"France\",\"orientation\":\"v\",\"showlegend\":true,\"x\":[\"2000\",\"2001\",\"2002\",\"2003\",\"2004\",\"2005\",\"2006\",\"2007\",\"2008\",\"2009\",\"2010\",\"2011\",\"2012\",\"2013\",\"2014\",\"2015\",\"2016\",\"2017\",\"2018\",\"2019\",\"2020\",\"2021\",\"2022\"],\"xaxis\":\"x\",\"y\":[0.79,-21.75,1.79,2.1,2.17,1.54,1.29,-11.35,14.63,-11.68,17.02,1.1,1.35,0.87,1.0,0.55,0.42,8.94,1.01,0.74,0.97,0.96,2.72],\"yaxis\":\"y\",\"type\":\"scatter\"},{\"hovertemplate\":\"Country=Greece<br>years=%{x}<br>core_inflation_rate=%{y}<extra></extra>\",\"legendgroup\":\"Greece\",\"line\":{\"color\":\"#EF553B\",\"dash\":\"solid\"},\"marker\":{\"symbol\":\"circle\"},\"mode\":\"lines\",\"name\":\"Greece\",\"orientation\":\"v\",\"showlegend\":true,\"x\":[\"2000\",\"2001\",\"2002\",\"2003\",\"2004\",\"2005\",\"2006\",\"2007\",\"2008\",\"2009\",\"2010\",\"2011\",\"2012\",\"2013\",\"2014\",\"2015\",\"2016\",\"2017\",\"2018\",\"2019\",\"2020\",\"2021\",\"2022\"],\"xaxis\":\"x\",\"y\":[2.16,3.35,3.42,5.93,3.18,3.16,2.45,2.74,6.95,2.23,3.39,1.88,0.2,-2.02,-1.24,-1.01,-1.13,0.45,22.3,-2.43,-0.67,-0.62,3.17],\"yaxis\":\"y\",\"type\":\"scatter\"},{\"hovertemplate\":\"Country=Croatia<br>years=%{x}<br>core_inflation_rate=%{y}<extra></extra>\",\"legendgroup\":\"Croatia\",\"line\":{\"color\":\"#00cc96\",\"dash\":\"solid\"},\"marker\":{\"symbol\":\"circle\"},\"mode\":\"lines\",\"name\":\"Croatia\",\"orientation\":\"v\",\"showlegend\":true,\"x\":[\"2000\",\"2001\",\"2002\",\"2003\",\"2004\",\"2005\",\"2006\",\"2007\",\"2008\",\"2009\",\"2010\",\"2011\",\"2012\",\"2013\",\"2014\",\"2015\",\"2016\",\"2017\",\"2018\",\"2019\",\"2020\",\"2021\",\"2022\"],\"xaxis\":\"x\",\"y\":[2.82,3.16,2.91,1.82,2.28,1.96,3.45,3.23,3.45,3.57,0.48,0.6,0.96,1.04,0.44,0.73,0.14,0.71,0.86,0.91,1.0,1.61,6.12],\"yaxis\":\"y\",\"type\":\"scatter\"},{\"hovertemplate\":\"Country=Hungary<br>years=%{x}<br>core_inflation_rate=%{y}<extra></extra>\",\"legendgroup\":\"Hungary\",\"line\":{\"color\":\"#ab63fa\",\"dash\":\"solid\"},\"marker\":{\"symbol\":\"circle\"},\"mode\":\"lines\",\"name\":\"Hungary\",\"orientation\":\"v\",\"showlegend\":true,\"x\":[\"2000\",\"2001\",\"2002\",\"2003\",\"2004\",\"2005\",\"2006\",\"2007\",\"2008\",\"2009\",\"2010\",\"2011\",\"2012\",\"2013\",\"2014\",\"2015\",\"2016\",\"2017\",\"2018\",\"2019\",\"2020\",\"2021\",\"2022\"],\"xaxis\":\"x\",\"y\":[8.15,9.4,5.84,4.53,5.7,2.06,2.23,5.3,5.08,4.12,2.99,2.73,5.07,3.33,2.17,1.21,1.39,2.32,2.48,3.78,3.05,4.55,9.8],\"yaxis\":\"y\",\"type\":\"scatter\"},{\"hovertemplate\":\"Country=Ireland<br>years=%{x}<br>core_inflation_rate=%{y}<extra></extra>\",\"legendgroup\":\"Ireland\",\"line\":{\"color\":\"#FFA15A\",\"dash\":\"solid\"},\"marker\":{\"symbol\":\"circle\"},\"mode\":\"lines\",\"name\":\"Ireland\",\"orientation\":\"v\",\"showlegend\":true,\"x\":[\"2000\",\"2001\",\"2002\",\"2003\",\"2004\",\"2005\",\"2006\",\"2007\",\"2008\",\"2009\",\"2010\",\"2011\",\"2012\",\"2013\",\"2014\",\"2015\",\"2016\",\"2017\",\"2018\",\"2019\",\"2020\",\"2021\",\"2022\"],\"xaxis\":\"x\",\"y\":[5.67,-11.05,17.0,3.92,2.37,2.45,4.17,5.87,3.26,-4.34,-1.22,26.63,-2.24,0.66,0.93,-12.55,0.96,0.33,0.14,1.13,0.27,1.8,4.67],\"yaxis\":\"y\",\"type\":\"scatter\"},{\"hovertemplate\":\"Country=Italy<br>years=%{x}<br>core_inflation_rate=%{y}<extra></extra>\",\"legendgroup\":\"Italy\",\"line\":{\"color\":\"#19d3f3\",\"dash\":\"solid\"},\"marker\":{\"symbol\":\"circle\"},\"mode\":\"lines\",\"name\":\"Italy\",\"orientation\":\"v\",\"showlegend\":true,\"x\":[\"2000\",\"2001\",\"2002\",\"2003\",\"2004\",\"2005\",\"2006\",\"2007\",\"2008\",\"2009\",\"2010\",\"2011\",\"2012\",\"2013\",\"2014\",\"2015\",\"2016\",\"2017\",\"2018\",\"2019\",\"2020\",\"2021\",\"2022\"],\"xaxis\":\"x\",\"y\":[9.69,10.14,-22.89,2.48,2.13,2.05,1.73,1.91,35.2,-13.39,13.78,-3.33,1.75,1.12,0.83,0.68,-28.62,0.69,0.61,0.6,0.49,0.8,2.79],\"yaxis\":\"y\",\"type\":\"scatter\"},{\"hovertemplate\":\"Country=Lithuania<br>years=%{x}<br>core_inflation_rate=%{y}<extra></extra>\",\"legendgroup\":\"Lithuania\",\"line\":{\"color\":\"#FF6692\",\"dash\":\"solid\"},\"marker\":{\"symbol\":\"circle\"},\"mode\":\"lines\",\"name\":\"Lithuania\",\"orientation\":\"v\",\"showlegend\":true,\"x\":[\"2000\",\"2001\",\"2002\",\"2003\",\"2004\",\"2005\",\"2006\",\"2007\",\"2008\",\"2009\",\"2010\",\"2011\",\"2012\",\"2013\",\"2014\",\"2015\",\"2016\",\"2017\",\"2018\",\"2019\",\"2020\",\"2021\",\"2022\"],\"xaxis\":\"x\",\"y\":[-1.03,-0.04,0.48,0.74,0.65,1.17,2.27,5.08,8.98,3.93,0.07,2.29,2.26,1.25,1.0,1.24,2.23,3.89,2.18,2.41,3.06,3.5,10.05],\"yaxis\":\"y\",\"type\":\"scatter\"},{\"hovertemplate\":\"Country=Luxembourg<br>years=%{x}<br>core_inflation_rate=%{y}<extra></extra>\",\"legendgroup\":\"Luxembourg\",\"line\":{\"color\":\"#B6E880\",\"dash\":\"solid\"},\"marker\":{\"symbol\":\"circle\"},\"mode\":\"lines\",\"name\":\"Luxembourg\",\"orientation\":\"v\",\"showlegend\":true,\"x\":[\"2000\",\"2001\",\"2002\",\"2003\",\"2004\",\"2005\",\"2006\",\"2007\",\"2008\",\"2009\",\"2010\",\"2011\",\"2012\",\"2013\",\"2014\",\"2015\",\"2016\",\"2017\",\"2018\",\"2019\",\"2020\",\"2021\",\"2022\"],\"xaxis\":\"x\",\"y\":[31.07,-5.95,-27.15,28.19,-19.78,27.67,12.35,2.12,1.99,2.02,1.58,2.39,2.09,2.08,1.31,1.61,0.95,1.37,0.88,1.8,1.29,1.57,4.04],\"yaxis\":\"y\",\"type\":\"scatter\"},{\"hovertemplate\":\"Country=Latvia<br>years=%{x}<br>core_inflation_rate=%{y}<extra></extra>\",\"legendgroup\":\"Latvia\",\"line\":{\"color\":\"#FF97FF\",\"dash\":\"solid\"},\"marker\":{\"symbol\":\"circle\"},\"mode\":\"lines\",\"name\":\"Latvia\",\"orientation\":\"v\",\"showlegend\":true,\"x\":[\"2000\",\"2001\",\"2002\",\"2003\",\"2004\",\"2005\",\"2006\",\"2007\",\"2008\",\"2009\",\"2010\",\"2011\",\"2012\",\"2013\",\"2014\",\"2015\",\"2016\",\"2017\",\"2018\",\"2019\",\"2020\",\"2021\",\"2022\"],\"xaxis\":\"x\",\"y\":[0.74,0.62,1.64,0.76,4.42,4.32,4.75,8.45,12.16,5.38,-2.19,0.81,0.36,0.16,1.83,1.81,1.55,1.6,2.25,2.78,1.22,1.88,6.85],\"yaxis\":\"y\",\"type\":\"scatter\"},{\"hovertemplate\":\"Country=Malta<br>years=%{x}<br>core_inflation_rate=%{y}<extra></extra>\",\"legendgroup\":\"Malta\",\"line\":{\"color\":\"#FECB52\",\"dash\":\"solid\"},\"marker\":{\"symbol\":\"circle\"},\"mode\":\"lines\",\"name\":\"Malta\",\"orientation\":\"v\",\"showlegend\":true,\"x\":[\"2000\",\"2001\",\"2002\",\"2003\",\"2004\",\"2005\",\"2006\",\"2007\",\"2008\",\"2009\",\"2010\",\"2011\",\"2012\",\"2013\",\"2014\",\"2015\",\"2016\",\"2017\",\"2018\",\"2019\",\"2020\",\"2021\",\"2022\"],\"xaxis\":\"x\",\"y\":[2.91,2.28,2.74,1.86,2.9,1.87,1.75,0.76,3.86,1.48,1.05,1.48,2.65,0.65,1.68,1.57,1.17,1.03,1.79,1.36,0.77,0.65,null],\"yaxis\":\"y\",\"type\":\"scatter\"},{\"hovertemplate\":\"Country=Netherlands<br>years=%{x}<br>core_inflation_rate=%{y}<extra></extra>\",\"legendgroup\":\"Netherlands\",\"line\":{\"color\":\"#636efa\",\"dash\":\"solid\"},\"marker\":{\"symbol\":\"circle\"},\"mode\":\"lines\",\"name\":\"Netherlands\",\"orientation\":\"v\",\"showlegend\":true,\"x\":[\"2000\",\"2001\",\"2002\",\"2003\",\"2004\",\"2005\",\"2006\",\"2007\",\"2008\",\"2009\",\"2010\",\"2011\",\"2012\",\"2013\",\"2014\",\"2015\",\"2016\",\"2017\",\"2018\",\"2019\",\"2020\",\"2021\",\"2022\"],\"xaxis\":\"x\",\"y\":[2.14,3.62,3.39,2.09,1.62,1.33,0.41,1.47,2.2,4.84,1.68,1.68,1.95,2.74,1.48,1.37,32.3,0.95,1.31,7.17,2.17,1.92,4.08],\"yaxis\":\"y\",\"type\":\"scatter\"},{\"hovertemplate\":\"Country=Poland<br>years=%{x}<br>core_inflation_rate=%{y}<extra></extra>\",\"legendgroup\":\"Poland\",\"line\":{\"color\":\"#EF553B\",\"dash\":\"solid\"},\"marker\":{\"symbol\":\"circle\"},\"mode\":\"lines\",\"name\":\"Poland\",\"orientation\":\"v\",\"showlegend\":true,\"x\":[\"2000\",\"2001\",\"2002\",\"2003\",\"2004\",\"2005\",\"2006\",\"2007\",\"2008\",\"2009\",\"2010\",\"2011\",\"2012\",\"2013\",\"2014\",\"2015\",\"2016\",\"2017\",\"2018\",\"2019\",\"2020\",\"2021\",\"2022\"],\"xaxis\":\"x\",\"y\":[9.18,5.72,2.69,0.73,1.75,1.34,0.31,1.08,2.48,2.85,1.67,2.43,2.19,1.2,0.64,0.32,-0.25,0.78,0.74,1.89,3.88,4.1,8.85],\"yaxis\":\"y\",\"type\":\"scatter\"},{\"hovertemplate\":\"Country=Portugal<br>years=%{x}<br>core_inflation_rate=%{y}<extra></extra>\",\"legendgroup\":\"Portugal\",\"line\":{\"color\":\"#00cc96\",\"dash\":\"solid\"},\"marker\":{\"symbol\":\"circle\"},\"mode\":\"lines\",\"name\":\"Portugal\",\"orientation\":\"v\",\"showlegend\":true,\"x\":[\"2000\",\"2001\",\"2002\",\"2003\",\"2004\",\"2005\",\"2006\",\"2007\",\"2008\",\"2009\",\"2010\",\"2011\",\"2012\",\"2013\",\"2014\",\"2015\",\"2016\",\"2017\",\"2018\",\"2019\",\"2020\",\"2021\",\"2022\"],\"xaxis\":\"x\",\"y\":[2.84,3.54,4.76,3.36,2.51,-17.32,13.24,2.35,1.99,1.12,0.99,-1.11,-20.14,0.19,0.07,-24.85,0.74,1.09,0.67,0.49,-0.04,0.75,5.45],\"yaxis\":\"y\",\"type\":\"scatter\"},{\"hovertemplate\":\"Country=Romania<br>years=%{x}<br>core_inflation_rate=%{y}<extra></extra>\",\"legendgroup\":\"Romania\",\"line\":{\"color\":\"#ab63fa\",\"dash\":\"solid\"},\"marker\":{\"symbol\":\"circle\"},\"mode\":\"lines\",\"name\":\"Romania\",\"orientation\":\"v\",\"showlegend\":true,\"x\":[\"2000\",\"2001\",\"2002\",\"2003\",\"2004\",\"2005\",\"2006\",\"2007\",\"2008\",\"2009\",\"2010\",\"2011\",\"2012\",\"2013\",\"2014\",\"2015\",\"2016\",\"2017\",\"2018\",\"2019\",\"2020\",\"2021\",\"2022\"],\"xaxis\":\"x\",\"y\":[null,null,null,null,null,null,null,null,7.16,6.05,5.66,4.31,2.81,2.55,0.98,-0.84,-0.79,1.61,3.1,3.59,4.04,4.72,8.89],\"yaxis\":\"y\",\"type\":\"scatter\"},{\"hovertemplate\":\"Country=Slovakia<br>years=%{x}<br>core_inflation_rate=%{y}<extra></extra>\",\"legendgroup\":\"Slovakia\",\"line\":{\"color\":\"#FFA15A\",\"dash\":\"solid\"},\"marker\":{\"symbol\":\"circle\"},\"mode\":\"lines\",\"name\":\"Slovakia\",\"orientation\":\"v\",\"showlegend\":true,\"x\":[\"2000\",\"2001\",\"2002\",\"2003\",\"2004\",\"2005\",\"2006\",\"2007\",\"2008\",\"2009\",\"2010\",\"2011\",\"2012\",\"2013\",\"2014\",\"2015\",\"2016\",\"2017\",\"2018\",\"2019\",\"2020\",\"2021\",\"2022\"],\"xaxis\":\"x\",\"y\":[9.83,7.01,4.02,3.45,3.21,1.82,2.77,2.68,3.86,1.38,0.79,1.36,2.56,0.84,0.28,0.16,0.21,1.49,2.48,1.92,2.16,4.11,10.4],\"yaxis\":\"y\",\"type\":\"scatter\"},{\"hovertemplate\":\"Country=Slovenia<br>years=%{x}<br>core_inflation_rate=%{y}<extra></extra>\",\"legendgroup\":\"Slovenia\",\"line\":{\"color\":\"#19d3f3\",\"dash\":\"solid\"},\"marker\":{\"symbol\":\"circle\"},\"mode\":\"lines\",\"name\":\"Slovenia\",\"orientation\":\"v\",\"showlegend\":true,\"x\":[\"2000\",\"2001\",\"2002\",\"2003\",\"2004\",\"2005\",\"2006\",\"2007\",\"2008\",\"2009\",\"2010\",\"2011\",\"2012\",\"2013\",\"2014\",\"2015\",\"2016\",\"2017\",\"2018\",\"2019\",\"2020\",\"2021\",\"2022\"],\"xaxis\":\"x\",\"y\":[7.27,7.76,7.95,5.84,3.15,1.14,1.58,3.79,4.95,1.54,0.3,0.85,1.72,1.71,0.46,0.45,0.62,1.06,1.2,1.69,0.69,1.08,5.65],\"yaxis\":\"y\",\"type\":\"scatter\"},{\"hovertemplate\":\"Country=Sweden<br>years=%{x}<br>core_inflation_rate=%{y}<extra></extra>\",\"legendgroup\":\"Sweden\",\"line\":{\"color\":\"#FF6692\",\"dash\":\"solid\"},\"marker\":{\"symbol\":\"circle\"},\"mode\":\"lines\",\"name\":\"Sweden\",\"orientation\":\"v\",\"showlegend\":true,\"x\":[\"2000\",\"2001\",\"2002\",\"2003\",\"2004\",\"2005\",\"2006\",\"2007\",\"2008\",\"2009\",\"2010\",\"2011\",\"2012\",\"2013\",\"2014\",\"2015\",\"2016\",\"2017\",\"2018\",\"2019\",\"2020\",\"2021\",\"2022\"],\"xaxis\":\"x\",\"y\":[0.34,1.84,1.99,1.09,0.18,0.01,0.75,2.56,2.07,-0.95,0.51,3.01,0.87,-0.24,-0.02,0.02,0.9,1.37,1.09,1.52,1.19,1.3,5.47],\"yaxis\":\"y\",\"type\":\"scatter\"}],                        {\"template\":{\"data\":{\"histogram2dcontour\":[{\"type\":\"histogram2dcontour\",\"colorbar\":{\"outlinewidth\":0,\"ticks\":\"\"},\"colorscale\":[[0.0,\"#0d0887\"],[0.1111111111111111,\"#46039f\"],[0.2222222222222222,\"#7201a8\"],[0.3333333333333333,\"#9c179e\"],[0.4444444444444444,\"#bd3786\"],[0.5555555555555556,\"#d8576b\"],[0.6666666666666666,\"#ed7953\"],[0.7777777777777778,\"#fb9f3a\"],[0.8888888888888888,\"#fdca26\"],[1.0,\"#f0f921\"]]}],\"choropleth\":[{\"type\":\"choropleth\",\"colorbar\":{\"outlinewidth\":0,\"ticks\":\"\"}}],\"histogram2d\":[{\"type\":\"histogram2d\",\"colorbar\":{\"outlinewidth\":0,\"ticks\":\"\"},\"colorscale\":[[0.0,\"#0d0887\"],[0.1111111111111111,\"#46039f\"],[0.2222222222222222,\"#7201a8\"],[0.3333333333333333,\"#9c179e\"],[0.4444444444444444,\"#bd3786\"],[0.5555555555555556,\"#d8576b\"],[0.6666666666666666,\"#ed7953\"],[0.7777777777777778,\"#fb9f3a\"],[0.8888888888888888,\"#fdca26\"],[1.0,\"#f0f921\"]]}],\"heatmap\":[{\"type\":\"heatmap\",\"colorbar\":{\"outlinewidth\":0,\"ticks\":\"\"},\"colorscale\":[[0.0,\"#0d0887\"],[0.1111111111111111,\"#46039f\"],[0.2222222222222222,\"#7201a8\"],[0.3333333333333333,\"#9c179e\"],[0.4444444444444444,\"#bd3786\"],[0.5555555555555556,\"#d8576b\"],[0.6666666666666666,\"#ed7953\"],[0.7777777777777778,\"#fb9f3a\"],[0.8888888888888888,\"#fdca26\"],[1.0,\"#f0f921\"]]}],\"heatmapgl\":[{\"type\":\"heatmapgl\",\"colorbar\":{\"outlinewidth\":0,\"ticks\":\"\"},\"colorscale\":[[0.0,\"#0d0887\"],[0.1111111111111111,\"#46039f\"],[0.2222222222222222,\"#7201a8\"],[0.3333333333333333,\"#9c179e\"],[0.4444444444444444,\"#bd3786\"],[0.5555555555555556,\"#d8576b\"],[0.6666666666666666,\"#ed7953\"],[0.7777777777777778,\"#fb9f3a\"],[0.8888888888888888,\"#fdca26\"],[1.0,\"#f0f921\"]]}],\"contourcarpet\":[{\"type\":\"contourcarpet\",\"colorbar\":{\"outlinewidth\":0,\"ticks\":\"\"}}],\"contour\":[{\"type\":\"contour\",\"colorbar\":{\"outlinewidth\":0,\"ticks\":\"\"},\"colorscale\":[[0.0,\"#0d0887\"],[0.1111111111111111,\"#46039f\"],[0.2222222222222222,\"#7201a8\"],[0.3333333333333333,\"#9c179e\"],[0.4444444444444444,\"#bd3786\"],[0.5555555555555556,\"#d8576b\"],[0.6666666666666666,\"#ed7953\"],[0.7777777777777778,\"#fb9f3a\"],[0.8888888888888888,\"#fdca26\"],[1.0,\"#f0f921\"]]}],\"surface\":[{\"type\":\"surface\",\"colorbar\":{\"outlinewidth\":0,\"ticks\":\"\"},\"colorscale\":[[0.0,\"#0d0887\"],[0.1111111111111111,\"#46039f\"],[0.2222222222222222,\"#7201a8\"],[0.3333333333333333,\"#9c179e\"],[0.4444444444444444,\"#bd3786\"],[0.5555555555555556,\"#d8576b\"],[0.6666666666666666,\"#ed7953\"],[0.7777777777777778,\"#fb9f3a\"],[0.8888888888888888,\"#fdca26\"],[1.0,\"#f0f921\"]]}],\"mesh3d\":[{\"type\":\"mesh3d\",\"colorbar\":{\"outlinewidth\":0,\"ticks\":\"\"}}],\"scatter\":[{\"fillpattern\":{\"fillmode\":\"overlay\",\"size\":10,\"solidity\":0.2},\"type\":\"scatter\"}],\"parcoords\":[{\"type\":\"parcoords\",\"line\":{\"colorbar\":{\"outlinewidth\":0,\"ticks\":\"\"}}}],\"scatterpolargl\":[{\"type\":\"scatterpolargl\",\"marker\":{\"colorbar\":{\"outlinewidth\":0,\"ticks\":\"\"}}}],\"bar\":[{\"error_x\":{\"color\":\"#2a3f5f\"},\"error_y\":{\"color\":\"#2a3f5f\"},\"marker\":{\"line\":{\"color\":\"#E5ECF6\",\"width\":0.5},\"pattern\":{\"fillmode\":\"overlay\",\"size\":10,\"solidity\":0.2}},\"type\":\"bar\"}],\"scattergeo\":[{\"type\":\"scattergeo\",\"marker\":{\"colorbar\":{\"outlinewidth\":0,\"ticks\":\"\"}}}],\"scatterpolar\":[{\"type\":\"scatterpolar\",\"marker\":{\"colorbar\":{\"outlinewidth\":0,\"ticks\":\"\"}}}],\"histogram\":[{\"marker\":{\"pattern\":{\"fillmode\":\"overlay\",\"size\":10,\"solidity\":0.2}},\"type\":\"histogram\"}],\"scattergl\":[{\"type\":\"scattergl\",\"marker\":{\"colorbar\":{\"outlinewidth\":0,\"ticks\":\"\"}}}],\"scatter3d\":[{\"type\":\"scatter3d\",\"line\":{\"colorbar\":{\"outlinewidth\":0,\"ticks\":\"\"}},\"marker\":{\"colorbar\":{\"outlinewidth\":0,\"ticks\":\"\"}}}],\"scattermapbox\":[{\"type\":\"scattermapbox\",\"marker\":{\"colorbar\":{\"outlinewidth\":0,\"ticks\":\"\"}}}],\"scatterternary\":[{\"type\":\"scatterternary\",\"marker\":{\"colorbar\":{\"outlinewidth\":0,\"ticks\":\"\"}}}],\"scattercarpet\":[{\"type\":\"scattercarpet\",\"marker\":{\"colorbar\":{\"outlinewidth\":0,\"ticks\":\"\"}}}],\"carpet\":[{\"aaxis\":{\"endlinecolor\":\"#2a3f5f\",\"gridcolor\":\"white\",\"linecolor\":\"white\",\"minorgridcolor\":\"white\",\"startlinecolor\":\"#2a3f5f\"},\"baxis\":{\"endlinecolor\":\"#2a3f5f\",\"gridcolor\":\"white\",\"linecolor\":\"white\",\"minorgridcolor\":\"white\",\"startlinecolor\":\"#2a3f5f\"},\"type\":\"carpet\"}],\"table\":[{\"cells\":{\"fill\":{\"color\":\"#EBF0F8\"},\"line\":{\"color\":\"white\"}},\"header\":{\"fill\":{\"color\":\"#C8D4E3\"},\"line\":{\"color\":\"white\"}},\"type\":\"table\"}],\"barpolar\":[{\"marker\":{\"line\":{\"color\":\"#E5ECF6\",\"width\":0.5},\"pattern\":{\"fillmode\":\"overlay\",\"size\":10,\"solidity\":0.2}},\"type\":\"barpolar\"}],\"pie\":[{\"automargin\":true,\"type\":\"pie\"}]},\"layout\":{\"autotypenumbers\":\"strict\",\"colorway\":[\"#636efa\",\"#EF553B\",\"#00cc96\",\"#ab63fa\",\"#FFA15A\",\"#19d3f3\",\"#FF6692\",\"#B6E880\",\"#FF97FF\",\"#FECB52\"],\"font\":{\"color\":\"#2a3f5f\"},\"hovermode\":\"closest\",\"hoverlabel\":{\"align\":\"left\"},\"paper_bgcolor\":\"white\",\"plot_bgcolor\":\"#E5ECF6\",\"polar\":{\"bgcolor\":\"#E5ECF6\",\"angularaxis\":{\"gridcolor\":\"white\",\"linecolor\":\"white\",\"ticks\":\"\"},\"radialaxis\":{\"gridcolor\":\"white\",\"linecolor\":\"white\",\"ticks\":\"\"}},\"ternary\":{\"bgcolor\":\"#E5ECF6\",\"aaxis\":{\"gridcolor\":\"white\",\"linecolor\":\"white\",\"ticks\":\"\"},\"baxis\":{\"gridcolor\":\"white\",\"linecolor\":\"white\",\"ticks\":\"\"},\"caxis\":{\"gridcolor\":\"white\",\"linecolor\":\"white\",\"ticks\":\"\"}},\"coloraxis\":{\"colorbar\":{\"outlinewidth\":0,\"ticks\":\"\"}},\"colorscale\":{\"sequential\":[[0.0,\"#0d0887\"],[0.1111111111111111,\"#46039f\"],[0.2222222222222222,\"#7201a8\"],[0.3333333333333333,\"#9c179e\"],[0.4444444444444444,\"#bd3786\"],[0.5555555555555556,\"#d8576b\"],[0.6666666666666666,\"#ed7953\"],[0.7777777777777778,\"#fb9f3a\"],[0.8888888888888888,\"#fdca26\"],[1.0,\"#f0f921\"]],\"sequentialminus\":[[0.0,\"#0d0887\"],[0.1111111111111111,\"#46039f\"],[0.2222222222222222,\"#7201a8\"],[0.3333333333333333,\"#9c179e\"],[0.4444444444444444,\"#bd3786\"],[0.5555555555555556,\"#d8576b\"],[0.6666666666666666,\"#ed7953\"],[0.7777777777777778,\"#fb9f3a\"],[0.8888888888888888,\"#fdca26\"],[1.0,\"#f0f921\"]],\"diverging\":[[0,\"#8e0152\"],[0.1,\"#c51b7d\"],[0.2,\"#de77ae\"],[0.3,\"#f1b6da\"],[0.4,\"#fde0ef\"],[0.5,\"#f7f7f7\"],[0.6,\"#e6f5d0\"],[0.7,\"#b8e186\"],[0.8,\"#7fbc41\"],[0.9,\"#4d9221\"],[1,\"#276419\"]]},\"xaxis\":{\"gridcolor\":\"white\",\"linecolor\":\"white\",\"ticks\":\"\",\"title\":{\"standoff\":15},\"zerolinecolor\":\"white\",\"automargin\":true,\"zerolinewidth\":2},\"yaxis\":{\"gridcolor\":\"white\",\"linecolor\":\"white\",\"ticks\":\"\",\"title\":{\"standoff\":15},\"zerolinecolor\":\"white\",\"automargin\":true,\"zerolinewidth\":2},\"scene\":{\"xaxis\":{\"backgroundcolor\":\"#E5ECF6\",\"gridcolor\":\"white\",\"linecolor\":\"white\",\"showbackground\":true,\"ticks\":\"\",\"zerolinecolor\":\"white\",\"gridwidth\":2},\"yaxis\":{\"backgroundcolor\":\"#E5ECF6\",\"gridcolor\":\"white\",\"linecolor\":\"white\",\"showbackground\":true,\"ticks\":\"\",\"zerolinecolor\":\"white\",\"gridwidth\":2},\"zaxis\":{\"backgroundcolor\":\"#E5ECF6\",\"gridcolor\":\"white\",\"linecolor\":\"white\",\"showbackground\":true,\"ticks\":\"\",\"zerolinecolor\":\"white\",\"gridwidth\":2}},\"shapedefaults\":{\"line\":{\"color\":\"#2a3f5f\"}},\"annotationdefaults\":{\"arrowcolor\":\"#2a3f5f\",\"arrowhead\":0,\"arrowwidth\":1},\"geo\":{\"bgcolor\":\"white\",\"landcolor\":\"#E5ECF6\",\"subunitcolor\":\"white\",\"showland\":true,\"showlakes\":true,\"lakecolor\":\"white\"},\"title\":{\"x\":0.05},\"mapbox\":{\"style\":\"light\"}}},\"xaxis\":{\"anchor\":\"y\",\"domain\":[0.0,1.0],\"title\":{\"text\":\"years\"}},\"yaxis\":{\"anchor\":\"x\",\"domain\":[0.0,1.0],\"title\":{\"text\":\"core_inflation_rate\"}},\"legend\":{\"title\":{\"text\":\"Country\"},\"tracegroupgap\":0},\"title\":{\"text\":\"EU Inflation Rates Comparison\"}},                        {\"responsive\": true}                    ).then(function(){\n",
       "                            \n",
       "var gd = document.getElementById('ad973a45-c12f-4389-8ef4-e836803ebc53');\n",
       "var x = new MutationObserver(function (mutations, observer) {{\n",
       "        var display = window.getComputedStyle(gd).display;\n",
       "        if (!display || display === 'none') {{\n",
       "            console.log([gd, 'removed!']);\n",
       "            Plotly.purge(gd);\n",
       "            observer.disconnect();\n",
       "        }}\n",
       "}});\n",
       "\n",
       "// Listen for the removal of the full notebook cells\n",
       "var notebookContainer = gd.closest('#notebook-container');\n",
       "if (notebookContainer) {{\n",
       "    x.observe(notebookContainer, {childList: true});\n",
       "}}\n",
       "\n",
       "// Listen for the clearing of the current output cell\n",
       "var outputEl = gd.closest('.output');\n",
       "if (outputEl) {{\n",
       "    x.observe(outputEl, {childList: true});\n",
       "}}\n",
       "\n",
       "                        })                };                });            </script>        </div>"
      ]
     },
     "metadata": {},
     "output_type": "display_data"
    }
   ],
   "source": [
    "\n",
    "fig = px.line(eu_core_t, x=\"years\", y=\"core_inflation_rate\", color=\"Country\",title= 'EU Inflation Rates Comparison')\n",
    "fig.show()"
   ]
  },
  {
   "cell_type": "markdown",
   "id": "0a9b7057",
   "metadata": {},
   "source": [
    "## EU Inflation Rates 2000-2022 ( Animated 👉🏼 ▶️ )"
   ]
  },
  {
   "cell_type": "code",
   "execution_count": 205,
   "id": "55667e2b",
   "metadata": {},
   "outputs": [
    {
     "data": {
      "application/vnd.plotly.v1+json": {
       "config": {
        "plotlyServerURL": "https://plot.ly"
       },
       "data": [
        {
         "coloraxis": "coloraxis",
         "geo": "geo",
         "hovertemplate": "<b>%{hovertext}</b><br><br>years=2000<br>Country=%{location}<br>core_inflation_rate=%{z}<extra></extra>",
         "hovertext": [
          "Austria",
          "Belgium",
          "Bulgaria",
          "Cyprus",
          "Czech Republic",
          "Germany",
          "Denmark",
          "Spain",
          "Estonia",
          "Finland",
          "France",
          "Greece",
          "Croatia",
          "Hungary",
          "Ireland",
          "Italy",
          "Lithuania",
          "Luxembourg",
          "Latvia",
          "Malta",
          "Netherlands",
          "Poland",
          "Portugal",
          "Romania",
          "Slovakia",
          "Slovenia",
          "Sweden"
         ],
         "locationmode": "country names",
         "locations": [
          "Austria",
          "Belgium",
          "Bulgaria",
          "Cyprus",
          "Czech Republic",
          "Germany",
          "Denmark",
          "Spain",
          "Estonia",
          "Finland",
          "France",
          "Greece",
          "Croatia",
          "Hungary",
          "Ireland",
          "Italy",
          "Lithuania",
          "Luxembourg",
          "Latvia",
          "Malta",
          "Netherlands",
          "Poland",
          "Portugal",
          "Romania",
          "Slovakia",
          "Slovenia",
          "Sweden"
         ],
         "name": "",
         "type": "choropleth",
         "z": [
          1.66,
          1.83,
          1.13,
          2.83,
          1.94,
          0.83,
          2.16,
          43.94,
          3.89,
          2.56,
          0.79,
          2.16,
          2.82,
          8.15,
          5.67,
          9.69,
          -1.03,
          31.07,
          0.74,
          2.91,
          2.14,
          9.18,
          2.84,
          null,
          9.83,
          7.27,
          0.34
         ]
        }
       ],
       "frames": [
        {
         "data": [
          {
           "coloraxis": "coloraxis",
           "geo": "geo",
           "hovertemplate": "<b>%{hovertext}</b><br><br>years=2000<br>Country=%{location}<br>core_inflation_rate=%{z}<extra></extra>",
           "hovertext": [
            "Austria",
            "Belgium",
            "Bulgaria",
            "Cyprus",
            "Czech Republic",
            "Germany",
            "Denmark",
            "Spain",
            "Estonia",
            "Finland",
            "France",
            "Greece",
            "Croatia",
            "Hungary",
            "Ireland",
            "Italy",
            "Lithuania",
            "Luxembourg",
            "Latvia",
            "Malta",
            "Netherlands",
            "Poland",
            "Portugal",
            "Romania",
            "Slovakia",
            "Slovenia",
            "Sweden"
           ],
           "locationmode": "country names",
           "locations": [
            "Austria",
            "Belgium",
            "Bulgaria",
            "Cyprus",
            "Czech Republic",
            "Germany",
            "Denmark",
            "Spain",
            "Estonia",
            "Finland",
            "France",
            "Greece",
            "Croatia",
            "Hungary",
            "Ireland",
            "Italy",
            "Lithuania",
            "Luxembourg",
            "Latvia",
            "Malta",
            "Netherlands",
            "Poland",
            "Portugal",
            "Romania",
            "Slovakia",
            "Slovenia",
            "Sweden"
           ],
           "name": "",
           "type": "choropleth",
           "z": [
            1.66,
            1.83,
            1.13,
            2.83,
            1.94,
            0.83,
            2.16,
            43.94,
            3.89,
            2.56,
            0.79,
            2.16,
            2.82,
            8.15,
            5.67,
            9.69,
            -1.03,
            31.07,
            0.74,
            2.91,
            2.14,
            9.18,
            2.84,
            null,
            9.83,
            7.27,
            0.34
           ]
          }
         ],
         "name": "2000"
        },
        {
         "data": [
          {
           "coloraxis": "coloraxis",
           "geo": "geo",
           "hovertemplate": "<b>%{hovertext}</b><br><br>years=2001<br>Country=%{location}<br>core_inflation_rate=%{z}<extra></extra>",
           "hovertext": [
            "Austria",
            "Belgium",
            "Bulgaria",
            "Cyprus",
            "Czech Republic",
            "Germany",
            "Denmark",
            "Spain",
            "Estonia",
            "Finland",
            "France",
            "Greece",
            "Croatia",
            "Hungary",
            "Ireland",
            "Italy",
            "Lithuania",
            "Luxembourg",
            "Latvia",
            "Malta",
            "Netherlands",
            "Poland",
            "Portugal",
            "Romania",
            "Slovakia",
            "Slovenia",
            "Sweden"
           ],
           "locationmode": "country names",
           "locations": [
            "Austria",
            "Belgium",
            "Bulgaria",
            "Cyprus",
            "Czech Republic",
            "Germany",
            "Denmark",
            "Spain",
            "Estonia",
            "Finland",
            "France",
            "Greece",
            "Croatia",
            "Hungary",
            "Ireland",
            "Italy",
            "Lithuania",
            "Luxembourg",
            "Latvia",
            "Malta",
            "Netherlands",
            "Poland",
            "Portugal",
            "Romania",
            "Slovakia",
            "Slovenia",
            "Sweden"
           ],
           "name": "",
           "type": "choropleth",
           "z": [
            2.61,
            2.15,
            2.07,
            1.59,
            2.45,
            0.83,
            2.2,
            -22.07,
            4.09,
            2.62,
            -21.75,
            3.35,
            3.16,
            9.4,
            -11.05,
            10.14,
            -0.04,
            -5.95,
            0.62,
            2.28,
            3.62,
            5.72,
            3.54,
            null,
            7.01,
            7.76,
            1.84
           ]
          }
         ],
         "name": "2001"
        },
        {
         "data": [
          {
           "coloraxis": "coloraxis",
           "geo": "geo",
           "hovertemplate": "<b>%{hovertext}</b><br><br>years=2002<br>Country=%{location}<br>core_inflation_rate=%{z}<extra></extra>",
           "hovertext": [
            "Austria",
            "Belgium",
            "Bulgaria",
            "Cyprus",
            "Czech Republic",
            "Germany",
            "Denmark",
            "Spain",
            "Estonia",
            "Finland",
            "France",
            "Greece",
            "Croatia",
            "Hungary",
            "Ireland",
            "Italy",
            "Lithuania",
            "Luxembourg",
            "Latvia",
            "Malta",
            "Netherlands",
            "Poland",
            "Portugal",
            "Romania",
            "Slovakia",
            "Slovenia",
            "Sweden"
           ],
           "locationmode": "country names",
           "locations": [
            "Austria",
            "Belgium",
            "Bulgaria",
            "Cyprus",
            "Czech Republic",
            "Germany",
            "Denmark",
            "Spain",
            "Estonia",
            "Finland",
            "France",
            "Greece",
            "Croatia",
            "Hungary",
            "Ireland",
            "Italy",
            "Lithuania",
            "Luxembourg",
            "Latvia",
            "Malta",
            "Netherlands",
            "Poland",
            "Portugal",
            "Romania",
            "Slovakia",
            "Slovenia",
            "Sweden"
           ],
           "name": "",
           "type": "choropleth",
           "z": [
            2.16,
            -8.18,
            2.06,
            2.1,
            0.56,
            1.56,
            2.52,
            2.84,
            2.92,
            1.54,
            1.79,
            3.42,
            2.91,
            5.84,
            17,
            -22.89,
            0.48,
            -27.15,
            1.64,
            2.74,
            3.39,
            2.69,
            4.76,
            null,
            4.02,
            7.95,
            1.99
           ]
          }
         ],
         "name": "2002"
        },
        {
         "data": [
          {
           "coloraxis": "coloraxis",
           "geo": "geo",
           "hovertemplate": "<b>%{hovertext}</b><br><br>years=2003<br>Country=%{location}<br>core_inflation_rate=%{z}<extra></extra>",
           "hovertext": [
            "Austria",
            "Belgium",
            "Bulgaria",
            "Cyprus",
            "Czech Republic",
            "Germany",
            "Denmark",
            "Spain",
            "Estonia",
            "Finland",
            "France",
            "Greece",
            "Croatia",
            "Hungary",
            "Ireland",
            "Italy",
            "Lithuania",
            "Luxembourg",
            "Latvia",
            "Malta",
            "Netherlands",
            "Poland",
            "Portugal",
            "Romania",
            "Slovakia",
            "Slovenia",
            "Sweden"
           ],
           "locationmode": "country names",
           "locations": [
            "Austria",
            "Belgium",
            "Bulgaria",
            "Cyprus",
            "Czech Republic",
            "Germany",
            "Denmark",
            "Spain",
            "Estonia",
            "Finland",
            "France",
            "Greece",
            "Croatia",
            "Hungary",
            "Ireland",
            "Italy",
            "Lithuania",
            "Luxembourg",
            "Latvia",
            "Malta",
            "Netherlands",
            "Poland",
            "Portugal",
            "Romania",
            "Slovakia",
            "Slovenia",
            "Sweden"
           ],
           "name": "",
           "type": "choropleth",
           "z": [
            1.41,
            24.44,
            1.67,
            3.12,
            -0.01,
            0.94,
            2.32,
            2.9,
            2.41,
            0.61,
            2.1,
            5.93,
            1.82,
            4.53,
            3.92,
            2.48,
            0.74,
            28.19,
            0.76,
            1.86,
            2.09,
            0.73,
            3.36,
            null,
            3.45,
            5.84,
            1.09
           ]
          }
         ],
         "name": "2003"
        },
        {
         "data": [
          {
           "coloraxis": "coloraxis",
           "geo": "geo",
           "hovertemplate": "<b>%{hovertext}</b><br><br>years=2004<br>Country=%{location}<br>core_inflation_rate=%{z}<extra></extra>",
           "hovertext": [
            "Austria",
            "Belgium",
            "Bulgaria",
            "Cyprus",
            "Czech Republic",
            "Germany",
            "Denmark",
            "Spain",
            "Estonia",
            "Finland",
            "France",
            "Greece",
            "Croatia",
            "Hungary",
            "Ireland",
            "Italy",
            "Lithuania",
            "Luxembourg",
            "Latvia",
            "Malta",
            "Netherlands",
            "Poland",
            "Portugal",
            "Romania",
            "Slovakia",
            "Slovenia",
            "Sweden"
           ],
           "locationmode": "country names",
           "locations": [
            "Austria",
            "Belgium",
            "Bulgaria",
            "Cyprus",
            "Czech Republic",
            "Germany",
            "Denmark",
            "Spain",
            "Estonia",
            "Finland",
            "France",
            "Greece",
            "Croatia",
            "Hungary",
            "Ireland",
            "Italy",
            "Lithuania",
            "Luxembourg",
            "Latvia",
            "Malta",
            "Netherlands",
            "Poland",
            "Portugal",
            "Romania",
            "Slovakia",
            "Slovenia",
            "Sweden"
           ],
           "name": "",
           "type": "choropleth",
           "z": [
            1.78,
            1.87,
            1.42,
            0.81,
            1.5,
            1.71,
            1.3,
            35.36,
            1.22,
            -0.21,
            2.17,
            3.18,
            2.28,
            5.7,
            2.37,
            2.13,
            0.65,
            -19.78,
            4.42,
            2.9,
            1.62,
            1.75,
            2.51,
            null,
            3.21,
            3.15,
            0.18
           ]
          }
         ],
         "name": "2004"
        },
        {
         "data": [
          {
           "coloraxis": "coloraxis",
           "geo": "geo",
           "hovertemplate": "<b>%{hovertext}</b><br><br>years=2005<br>Country=%{location}<br>core_inflation_rate=%{z}<extra></extra>",
           "hovertext": [
            "Austria",
            "Belgium",
            "Bulgaria",
            "Cyprus",
            "Czech Republic",
            "Germany",
            "Denmark",
            "Spain",
            "Estonia",
            "Finland",
            "France",
            "Greece",
            "Croatia",
            "Hungary",
            "Ireland",
            "Italy",
            "Lithuania",
            "Luxembourg",
            "Latvia",
            "Malta",
            "Netherlands",
            "Poland",
            "Portugal",
            "Romania",
            "Slovakia",
            "Slovenia",
            "Sweden"
           ],
           "locationmode": "country names",
           "locations": [
            "Austria",
            "Belgium",
            "Bulgaria",
            "Cyprus",
            "Czech Republic",
            "Germany",
            "Denmark",
            "Spain",
            "Estonia",
            "Finland",
            "France",
            "Greece",
            "Croatia",
            "Hungary",
            "Ireland",
            "Italy",
            "Lithuania",
            "Luxembourg",
            "Latvia",
            "Malta",
            "Netherlands",
            "Poland",
            "Portugal",
            "Romania",
            "Slovakia",
            "Slovenia",
            "Sweden"
           ],
           "name": "",
           "type": "choropleth",
           "z": [
            1.69,
            2.14,
            1.37,
            0.79,
            0.49,
            1.06,
            1.38,
            2.48,
            1.87,
            0.19,
            1.54,
            3.16,
            1.96,
            2.06,
            2.45,
            2.05,
            1.17,
            27.67,
            4.32,
            1.87,
            1.33,
            1.34,
            -17.32,
            null,
            1.82,
            1.14,
            0.01
           ]
          }
         ],
         "name": "2005"
        },
        {
         "data": [
          {
           "coloraxis": "coloraxis",
           "geo": "geo",
           "hovertemplate": "<b>%{hovertext}</b><br><br>years=2006<br>Country=%{location}<br>core_inflation_rate=%{z}<extra></extra>",
           "hovertext": [
            "Austria",
            "Belgium",
            "Bulgaria",
            "Cyprus",
            "Czech Republic",
            "Germany",
            "Denmark",
            "Spain",
            "Estonia",
            "Finland",
            "France",
            "Greece",
            "Croatia",
            "Hungary",
            "Ireland",
            "Italy",
            "Lithuania",
            "Luxembourg",
            "Latvia",
            "Malta",
            "Netherlands",
            "Poland",
            "Portugal",
            "Romania",
            "Slovakia",
            "Slovenia",
            "Sweden"
           ],
           "locationmode": "country names",
           "locations": [
            "Austria",
            "Belgium",
            "Bulgaria",
            "Cyprus",
            "Czech Republic",
            "Germany",
            "Denmark",
            "Spain",
            "Estonia",
            "Finland",
            "France",
            "Greece",
            "Croatia",
            "Hungary",
            "Ireland",
            "Italy",
            "Lithuania",
            "Luxembourg",
            "Latvia",
            "Malta",
            "Netherlands",
            "Poland",
            "Portugal",
            "Romania",
            "Slovakia",
            "Slovenia",
            "Sweden"
           ],
           "name": "",
           "type": "choropleth",
           "z": [
            0.92,
            0.61,
            1.62,
            0.76,
            0.67,
            1.13,
            1.4,
            2.75,
            3.31,
            1.27,
            1.29,
            2.45,
            3.45,
            2.23,
            4.17,
            1.73,
            2.27,
            12.35,
            4.75,
            1.75,
            0.41,
            0.31,
            13.24,
            null,
            2.77,
            1.58,
            0.75
           ]
          }
         ],
         "name": "2006"
        },
        {
         "data": [
          {
           "coloraxis": "coloraxis",
           "geo": "geo",
           "hovertemplate": "<b>%{hovertext}</b><br><br>years=2007<br>Country=%{location}<br>core_inflation_rate=%{z}<extra></extra>",
           "hovertext": [
            "Austria",
            "Belgium",
            "Bulgaria",
            "Cyprus",
            "Czech Republic",
            "Germany",
            "Denmark",
            "Spain",
            "Estonia",
            "Finland",
            "France",
            "Greece",
            "Croatia",
            "Hungary",
            "Ireland",
            "Italy",
            "Lithuania",
            "Luxembourg",
            "Latvia",
            "Malta",
            "Netherlands",
            "Poland",
            "Portugal",
            "Romania",
            "Slovakia",
            "Slovenia",
            "Sweden"
           ],
           "locationmode": "country names",
           "locations": [
            "Austria",
            "Belgium",
            "Bulgaria",
            "Cyprus",
            "Czech Republic",
            "Germany",
            "Denmark",
            "Spain",
            "Estonia",
            "Finland",
            "France",
            "Greece",
            "Croatia",
            "Hungary",
            "Ireland",
            "Italy",
            "Lithuania",
            "Luxembourg",
            "Latvia",
            "Malta",
            "Netherlands",
            "Poland",
            "Portugal",
            "Romania",
            "Slovakia",
            "Slovenia",
            "Sweden"
           ],
           "name": "",
           "type": "choropleth",
           "z": [
            1.62,
            1.63,
            1.9,
            1.7,
            1.46,
            1.94,
            1.41,
            44.43,
            5.43,
            2.64,
            -11.35,
            2.74,
            3.23,
            5.3,
            5.87,
            1.91,
            5.08,
            2.12,
            8.45,
            0.76,
            1.47,
            1.08,
            2.35,
            null,
            2.68,
            3.79,
            2.56
           ]
          }
         ],
         "name": "2007"
        },
        {
         "data": [
          {
           "coloraxis": "coloraxis",
           "geo": "geo",
           "hovertemplate": "<b>%{hovertext}</b><br><br>years=2008<br>Country=%{location}<br>core_inflation_rate=%{z}<extra></extra>",
           "hovertext": [
            "Austria",
            "Belgium",
            "Bulgaria",
            "Cyprus",
            "Czech Republic",
            "Germany",
            "Denmark",
            "Spain",
            "Estonia",
            "Finland",
            "France",
            "Greece",
            "Croatia",
            "Hungary",
            "Ireland",
            "Italy",
            "Lithuania",
            "Luxembourg",
            "Latvia",
            "Malta",
            "Netherlands",
            "Poland",
            "Portugal",
            "Romania",
            "Slovakia",
            "Slovenia",
            "Sweden"
           ],
           "locationmode": "country names",
           "locations": [
            "Austria",
            "Belgium",
            "Bulgaria",
            "Cyprus",
            "Czech Republic",
            "Germany",
            "Denmark",
            "Spain",
            "Estonia",
            "Finland",
            "France",
            "Greece",
            "Croatia",
            "Hungary",
            "Ireland",
            "Italy",
            "Lithuania",
            "Luxembourg",
            "Latvia",
            "Malta",
            "Netherlands",
            "Poland",
            "Portugal",
            "Romania",
            "Slovakia",
            "Slovenia",
            "Sweden"
           ],
           "name": "",
           "type": "choropleth",
           "z": [
            1.94,
            1.94,
            2.72,
            2.69,
            2.11,
            1.44,
            13.46,
            1.04,
            6.46,
            2.55,
            14.63,
            6.95,
            3.45,
            5.08,
            3.26,
            35.2,
            8.98,
            1.99,
            12.16,
            3.86,
            2.2,
            2.48,
            1.99,
            7.16,
            3.86,
            4.95,
            2.07
           ]
          }
         ],
         "name": "2008"
        },
        {
         "data": [
          {
           "coloraxis": "coloraxis",
           "geo": "geo",
           "hovertemplate": "<b>%{hovertext}</b><br><br>years=2009<br>Country=%{location}<br>core_inflation_rate=%{z}<extra></extra>",
           "hovertext": [
            "Austria",
            "Belgium",
            "Bulgaria",
            "Cyprus",
            "Czech Republic",
            "Germany",
            "Denmark",
            "Spain",
            "Estonia",
            "Finland",
            "France",
            "Greece",
            "Croatia",
            "Hungary",
            "Ireland",
            "Italy",
            "Lithuania",
            "Luxembourg",
            "Latvia",
            "Malta",
            "Netherlands",
            "Poland",
            "Portugal",
            "Romania",
            "Slovakia",
            "Slovenia",
            "Sweden"
           ],
           "locationmode": "country names",
           "locations": [
            "Austria",
            "Belgium",
            "Bulgaria",
            "Cyprus",
            "Czech Republic",
            "Germany",
            "Denmark",
            "Spain",
            "Estonia",
            "Finland",
            "France",
            "Greece",
            "Croatia",
            "Hungary",
            "Ireland",
            "Italy",
            "Lithuania",
            "Luxembourg",
            "Latvia",
            "Malta",
            "Netherlands",
            "Poland",
            "Portugal",
            "Romania",
            "Slovakia",
            "Slovenia",
            "Sweden"
           ],
           "name": "",
           "type": "choropleth",
           "z": [
            1.77,
            1.94,
            2.03,
            2.14,
            -0.84,
            1.27,
            2.26,
            -3.83,
            1.87,
            0.4,
            -11.68,
            2.23,
            3.57,
            4.12,
            -4.34,
            -13.39,
            3.93,
            2.02,
            5.38,
            1.48,
            4.84,
            2.85,
            1.12,
            6.05,
            1.38,
            1.54,
            -0.95
           ]
          }
         ],
         "name": "2009"
        },
        {
         "data": [
          {
           "coloraxis": "coloraxis",
           "geo": "geo",
           "hovertemplate": "<b>%{hovertext}</b><br><br>years=2010<br>Country=%{location}<br>core_inflation_rate=%{z}<extra></extra>",
           "hovertext": [
            "Austria",
            "Belgium",
            "Bulgaria",
            "Cyprus",
            "Czech Republic",
            "Germany",
            "Denmark",
            "Spain",
            "Estonia",
            "Finland",
            "France",
            "Greece",
            "Croatia",
            "Hungary",
            "Ireland",
            "Italy",
            "Lithuania",
            "Luxembourg",
            "Latvia",
            "Malta",
            "Netherlands",
            "Poland",
            "Portugal",
            "Romania",
            "Slovakia",
            "Slovenia",
            "Sweden"
           ],
           "locationmode": "country names",
           "locations": [
            "Austria",
            "Belgium",
            "Bulgaria",
            "Cyprus",
            "Czech Republic",
            "Germany",
            "Denmark",
            "Spain",
            "Estonia",
            "Finland",
            "France",
            "Greece",
            "Croatia",
            "Hungary",
            "Ireland",
            "Italy",
            "Lithuania",
            "Luxembourg",
            "Latvia",
            "Malta",
            "Netherlands",
            "Poland",
            "Portugal",
            "Romania",
            "Slovakia",
            "Slovenia",
            "Sweden"
           ],
           "name": "",
           "type": "choropleth",
           "z": [
            1.41,
            1.4,
            1.14,
            0.4,
            0.09,
            0.71,
            1.84,
            0.57,
            0.75,
            1.19,
            17.02,
            3.39,
            0.48,
            2.99,
            -1.22,
            13.78,
            0.07,
            1.58,
            -2.19,
            1.05,
            1.68,
            1.67,
            0.99,
            5.66,
            0.79,
            0.3,
            0.51
           ]
          }
         ],
         "name": "2010"
        },
        {
         "data": [
          {
           "coloraxis": "coloraxis",
           "geo": "geo",
           "hovertemplate": "<b>%{hovertext}</b><br><br>years=2011<br>Country=%{location}<br>core_inflation_rate=%{z}<extra></extra>",
           "hovertext": [
            "Austria",
            "Belgium",
            "Bulgaria",
            "Cyprus",
            "Czech Republic",
            "Germany",
            "Denmark",
            "Spain",
            "Estonia",
            "Finland",
            "France",
            "Greece",
            "Croatia",
            "Hungary",
            "Ireland",
            "Italy",
            "Lithuania",
            "Luxembourg",
            "Latvia",
            "Malta",
            "Netherlands",
            "Poland",
            "Portugal",
            "Romania",
            "Slovakia",
            "Slovenia",
            "Sweden"
           ],
           "locationmode": "country names",
           "locations": [
            "Austria",
            "Belgium",
            "Bulgaria",
            "Cyprus",
            "Czech Republic",
            "Germany",
            "Denmark",
            "Spain",
            "Estonia",
            "Finland",
            "France",
            "Greece",
            "Croatia",
            "Hungary",
            "Ireland",
            "Italy",
            "Lithuania",
            "Luxembourg",
            "Latvia",
            "Malta",
            "Netherlands",
            "Poland",
            "Portugal",
            "Romania",
            "Slovakia",
            "Slovenia",
            "Sweden"
           ],
           "name": "",
           "type": "choropleth",
           "z": [
            2.35,
            1.81,
            1.79,
            1.76,
            1.07,
            0.92,
            1.81,
            1.3,
            2.3,
            2.04,
            1.1,
            1.88,
            0.6,
            2.73,
            26.63,
            -3.33,
            2.29,
            2.39,
            0.81,
            1.48,
            1.68,
            2.43,
            -1.11,
            4.31,
            1.36,
            0.85,
            3.01
           ]
          }
         ],
         "name": "2011"
        },
        {
         "data": [
          {
           "coloraxis": "coloraxis",
           "geo": "geo",
           "hovertemplate": "<b>%{hovertext}</b><br><br>years=2012<br>Country=%{location}<br>core_inflation_rate=%{z}<extra></extra>",
           "hovertext": [
            "Austria",
            "Belgium",
            "Bulgaria",
            "Cyprus",
            "Czech Republic",
            "Germany",
            "Denmark",
            "Spain",
            "Estonia",
            "Finland",
            "France",
            "Greece",
            "Croatia",
            "Hungary",
            "Ireland",
            "Italy",
            "Lithuania",
            "Luxembourg",
            "Latvia",
            "Malta",
            "Netherlands",
            "Poland",
            "Portugal",
            "Romania",
            "Slovakia",
            "Slovenia",
            "Sweden"
           ],
           "locationmode": "country names",
           "locations": [
            "Austria",
            "Belgium",
            "Bulgaria",
            "Cyprus",
            "Czech Republic",
            "Germany",
            "Denmark",
            "Spain",
            "Estonia",
            "Finland",
            "France",
            "Greece",
            "Croatia",
            "Hungary",
            "Ireland",
            "Italy",
            "Lithuania",
            "Luxembourg",
            "Latvia",
            "Malta",
            "Netherlands",
            "Poland",
            "Portugal",
            "Romania",
            "Slovakia",
            "Slovenia",
            "Sweden"
           ],
           "name": "",
           "type": "choropleth",
           "z": [
            2.09,
            2.24,
            2.06,
            1.7,
            0.78,
            1.28,
            1.9,
            24.55,
            2.2,
            2.27,
            1.35,
            0.2,
            0.96,
            5.07,
            -2.24,
            1.75,
            2.26,
            2.09,
            0.36,
            2.65,
            1.95,
            2.19,
            -20.14,
            2.81,
            2.56,
            1.72,
            0.87
           ]
          }
         ],
         "name": "2012"
        },
        {
         "data": [
          {
           "coloraxis": "coloraxis",
           "geo": "geo",
           "hovertemplate": "<b>%{hovertext}</b><br><br>years=2013<br>Country=%{location}<br>core_inflation_rate=%{z}<extra></extra>",
           "hovertext": [
            "Austria",
            "Belgium",
            "Bulgaria",
            "Cyprus",
            "Czech Republic",
            "Germany",
            "Denmark",
            "Spain",
            "Estonia",
            "Finland",
            "France",
            "Greece",
            "Croatia",
            "Hungary",
            "Ireland",
            "Italy",
            "Lithuania",
            "Luxembourg",
            "Latvia",
            "Malta",
            "Netherlands",
            "Poland",
            "Portugal",
            "Romania",
            "Slovakia",
            "Slovenia",
            "Sweden"
           ],
           "locationmode": "country names",
           "locations": [
            "Austria",
            "Belgium",
            "Bulgaria",
            "Cyprus",
            "Czech Republic",
            "Germany",
            "Denmark",
            "Spain",
            "Estonia",
            "Finland",
            "France",
            "Greece",
            "Croatia",
            "Hungary",
            "Ireland",
            "Italy",
            "Lithuania",
            "Luxembourg",
            "Latvia",
            "Malta",
            "Netherlands",
            "Poland",
            "Portugal",
            "Romania",
            "Slovakia",
            "Slovenia",
            "Sweden"
           ],
           "name": "",
           "type": "choropleth",
           "z": [
            2.07,
            1.35,
            1.79,
            0.4,
            0.06,
            1.26,
            1.21,
            1.08,
            1.41,
            0.98,
            0.87,
            -2.02,
            1.04,
            3.33,
            0.66,
            1.12,
            1.25,
            2.08,
            0.16,
            0.65,
            2.74,
            1.2,
            0.19,
            2.55,
            0.84,
            1.71,
            -0.24
           ]
          }
         ],
         "name": "2013"
        },
        {
         "data": [
          {
           "coloraxis": "coloraxis",
           "geo": "geo",
           "hovertemplate": "<b>%{hovertext}</b><br><br>years=2014<br>Country=%{location}<br>core_inflation_rate=%{z}<extra></extra>",
           "hovertext": [
            "Austria",
            "Belgium",
            "Bulgaria",
            "Cyprus",
            "Czech Republic",
            "Germany",
            "Denmark",
            "Spain",
            "Estonia",
            "Finland",
            "France",
            "Greece",
            "Croatia",
            "Hungary",
            "Ireland",
            "Italy",
            "Lithuania",
            "Luxembourg",
            "Latvia",
            "Malta",
            "Netherlands",
            "Poland",
            "Portugal",
            "Romania",
            "Slovakia",
            "Slovenia",
            "Sweden"
           ],
           "locationmode": "country names",
           "locations": [
            "Austria",
            "Belgium",
            "Bulgaria",
            "Cyprus",
            "Czech Republic",
            "Germany",
            "Denmark",
            "Spain",
            "Estonia",
            "Finland",
            "France",
            "Greece",
            "Croatia",
            "Hungary",
            "Ireland",
            "Italy",
            "Lithuania",
            "Luxembourg",
            "Latvia",
            "Malta",
            "Netherlands",
            "Poland",
            "Portugal",
            "Romania",
            "Slovakia",
            "Slovenia",
            "Sweden"
           ],
           "name": "",
           "type": "choropleth",
           "z": [
            1.98,
            1.57,
            1.58,
            0.23,
            0.75,
            1.37,
            0.87,
            -0.05,
            1,
            1.46,
            1,
            -1.24,
            0.44,
            2.17,
            0.93,
            0.83,
            1,
            1.31,
            1.83,
            1.68,
            1.48,
            0.64,
            0.07,
            0.98,
            0.28,
            0.46,
            -0.02
           ]
          }
         ],
         "name": "2014"
        },
        {
         "data": [
          {
           "coloraxis": "coloraxis",
           "geo": "geo",
           "hovertemplate": "<b>%{hovertext}</b><br><br>years=2015<br>Country=%{location}<br>core_inflation_rate=%{z}<extra></extra>",
           "hovertext": [
            "Austria",
            "Belgium",
            "Bulgaria",
            "Cyprus",
            "Czech Republic",
            "Germany",
            "Denmark",
            "Spain",
            "Estonia",
            "Finland",
            "France",
            "Greece",
            "Croatia",
            "Hungary",
            "Ireland",
            "Italy",
            "Lithuania",
            "Luxembourg",
            "Latvia",
            "Malta",
            "Netherlands",
            "Poland",
            "Portugal",
            "Romania",
            "Slovakia",
            "Slovenia",
            "Sweden"
           ],
           "locationmode": "country names",
           "locations": [
            "Austria",
            "Belgium",
            "Bulgaria",
            "Cyprus",
            "Czech Republic",
            "Germany",
            "Denmark",
            "Spain",
            "Estonia",
            "Finland",
            "France",
            "Greece",
            "Croatia",
            "Hungary",
            "Ireland",
            "Italy",
            "Lithuania",
            "Luxembourg",
            "Latvia",
            "Malta",
            "Netherlands",
            "Poland",
            "Portugal",
            "Romania",
            "Slovakia",
            "Slovenia",
            "Sweden"
           ],
           "name": "",
           "type": "choropleth",
           "z": [
            1.85,
            1.37,
            1.62,
            -0.34,
            0.15,
            1.67,
            -19.08,
            0.52,
            1.42,
            0.56,
            0.55,
            -1.01,
            0.73,
            1.21,
            -12.55,
            0.68,
            1.24,
            1.61,
            1.81,
            1.57,
            1.37,
            0.32,
            -24.85,
            -0.84,
            0.16,
            0.45,
            0.02
           ]
          }
         ],
         "name": "2015"
        },
        {
         "data": [
          {
           "coloraxis": "coloraxis",
           "geo": "geo",
           "hovertemplate": "<b>%{hovertext}</b><br><br>years=2016<br>Country=%{location}<br>core_inflation_rate=%{z}<extra></extra>",
           "hovertext": [
            "Austria",
            "Belgium",
            "Bulgaria",
            "Cyprus",
            "Czech Republic",
            "Germany",
            "Denmark",
            "Spain",
            "Estonia",
            "Finland",
            "France",
            "Greece",
            "Croatia",
            "Hungary",
            "Ireland",
            "Italy",
            "Lithuania",
            "Luxembourg",
            "Latvia",
            "Malta",
            "Netherlands",
            "Poland",
            "Portugal",
            "Romania",
            "Slovakia",
            "Slovenia",
            "Sweden"
           ],
           "locationmode": "country names",
           "locations": [
            "Austria",
            "Belgium",
            "Bulgaria",
            "Cyprus",
            "Czech Republic",
            "Germany",
            "Denmark",
            "Spain",
            "Estonia",
            "Finland",
            "France",
            "Greece",
            "Croatia",
            "Hungary",
            "Ireland",
            "Italy",
            "Lithuania",
            "Luxembourg",
            "Latvia",
            "Malta",
            "Netherlands",
            "Poland",
            "Portugal",
            "Romania",
            "Slovakia",
            "Slovenia",
            "Sweden"
           ],
           "name": "",
           "type": "choropleth",
           "z": [
            1.47,
            1.96,
            2.02,
            -0.66,
            0.51,
            1.21,
            2.05,
            0.84,
            1.33,
            0.96,
            0.42,
            -1.13,
            0.14,
            1.39,
            0.96,
            -28.62,
            2.23,
            0.95,
            1.55,
            1.17,
            32.3,
            -0.25,
            0.74,
            -0.79,
            0.21,
            0.62,
            0.9
           ]
          }
         ],
         "name": "2016"
        },
        {
         "data": [
          {
           "coloraxis": "coloraxis",
           "geo": "geo",
           "hovertemplate": "<b>%{hovertext}</b><br><br>years=2017<br>Country=%{location}<br>core_inflation_rate=%{z}<extra></extra>",
           "hovertext": [
            "Austria",
            "Belgium",
            "Bulgaria",
            "Cyprus",
            "Czech Republic",
            "Germany",
            "Denmark",
            "Spain",
            "Estonia",
            "Finland",
            "France",
            "Greece",
            "Croatia",
            "Hungary",
            "Ireland",
            "Italy",
            "Lithuania",
            "Luxembourg",
            "Latvia",
            "Malta",
            "Netherlands",
            "Poland",
            "Portugal",
            "Romania",
            "Slovakia",
            "Slovenia",
            "Sweden"
           ],
           "locationmode": "country names",
           "locations": [
            "Austria",
            "Belgium",
            "Bulgaria",
            "Cyprus",
            "Czech Republic",
            "Germany",
            "Denmark",
            "Spain",
            "Estonia",
            "Finland",
            "France",
            "Greece",
            "Croatia",
            "Hungary",
            "Ireland",
            "Italy",
            "Lithuania",
            "Luxembourg",
            "Latvia",
            "Malta",
            "Netherlands",
            "Poland",
            "Portugal",
            "Romania",
            "Slovakia",
            "Slovenia",
            "Sweden"
           ],
           "name": "",
           "type": "choropleth",
           "z": [
            1.97,
            1.52,
            1.59,
            -0.03,
            2.57,
            1.23,
            14.47,
            1.13,
            2.12,
            0.66,
            8.94,
            0.45,
            0.71,
            2.32,
            0.33,
            0.69,
            3.89,
            1.37,
            1.6,
            1.03,
            0.95,
            0.78,
            1.09,
            1.61,
            1.49,
            1.06,
            1.37
           ]
          }
         ],
         "name": "2017"
        },
        {
         "data": [
          {
           "coloraxis": "coloraxis",
           "geo": "geo",
           "hovertemplate": "<b>%{hovertext}</b><br><br>years=2018<br>Country=%{location}<br>core_inflation_rate=%{z}<extra></extra>",
           "hovertext": [
            "Austria",
            "Belgium",
            "Bulgaria",
            "Cyprus",
            "Czech Republic",
            "Germany",
            "Denmark",
            "Spain",
            "Estonia",
            "Finland",
            "France",
            "Greece",
            "Croatia",
            "Hungary",
            "Ireland",
            "Italy",
            "Lithuania",
            "Luxembourg",
            "Latvia",
            "Malta",
            "Netherlands",
            "Poland",
            "Portugal",
            "Romania",
            "Slovakia",
            "Slovenia",
            "Sweden"
           ],
           "locationmode": "country names",
           "locations": [
            "Austria",
            "Belgium",
            "Bulgaria",
            "Cyprus",
            "Czech Republic",
            "Germany",
            "Denmark",
            "Spain",
            "Estonia",
            "Finland",
            "France",
            "Greece",
            "Croatia",
            "Hungary",
            "Ireland",
            "Italy",
            "Lithuania",
            "Luxembourg",
            "Latvia",
            "Malta",
            "Netherlands",
            "Poland",
            "Portugal",
            "Romania",
            "Slovakia",
            "Slovenia",
            "Sweden"
           ],
           "name": "",
           "type": "choropleth",
           "z": [
            1.81,
            1.31,
            1.6,
            0.06,
            1.86,
            1.31,
            0.65,
            0.93,
            2.3,
            0.68,
            1.01,
            22.3,
            0.86,
            2.48,
            0.14,
            0.61,
            2.18,
            0.88,
            2.25,
            1.79,
            1.31,
            0.74,
            0.67,
            3.1,
            2.48,
            1.2,
            1.09
           ]
          }
         ],
         "name": "2018"
        },
        {
         "data": [
          {
           "coloraxis": "coloraxis",
           "geo": "geo",
           "hovertemplate": "<b>%{hovertext}</b><br><br>years=2019<br>Country=%{location}<br>core_inflation_rate=%{z}<extra></extra>",
           "hovertext": [
            "Austria",
            "Belgium",
            "Bulgaria",
            "Cyprus",
            "Czech Republic",
            "Germany",
            "Denmark",
            "Spain",
            "Estonia",
            "Finland",
            "France",
            "Greece",
            "Croatia",
            "Hungary",
            "Ireland",
            "Italy",
            "Lithuania",
            "Luxembourg",
            "Latvia",
            "Malta",
            "Netherlands",
            "Poland",
            "Portugal",
            "Romania",
            "Slovakia",
            "Slovenia",
            "Sweden"
           ],
           "locationmode": "country names",
           "locations": [
            "Austria",
            "Belgium",
            "Bulgaria",
            "Cyprus",
            "Czech Republic",
            "Germany",
            "Denmark",
            "Spain",
            "Estonia",
            "Finland",
            "France",
            "Greece",
            "Croatia",
            "Hungary",
            "Ireland",
            "Italy",
            "Lithuania",
            "Luxembourg",
            "Latvia",
            "Malta",
            "Netherlands",
            "Poland",
            "Portugal",
            "Romania",
            "Slovakia",
            "Slovenia",
            "Sweden"
           ],
           "name": "",
           "type": "choropleth",
           "z": [
            1.65,
            3.77,
            1.55,
            0.63,
            2.22,
            1.49,
            0.76,
            0.96,
            2.12,
            0.83,
            0.74,
            -2.43,
            0.91,
            3.78,
            1.13,
            0.6,
            2.41,
            1.8,
            2.78,
            1.36,
            7.17,
            1.89,
            0.49,
            3.59,
            1.92,
            1.69,
            1.52
           ]
          }
         ],
         "name": "2019"
        },
        {
         "data": [
          {
           "coloraxis": "coloraxis",
           "geo": "geo",
           "hovertemplate": "<b>%{hovertext}</b><br><br>years=2020<br>Country=%{location}<br>core_inflation_rate=%{z}<extra></extra>",
           "hovertext": [
            "Austria",
            "Belgium",
            "Bulgaria",
            "Cyprus",
            "Czech Republic",
            "Germany",
            "Denmark",
            "Spain",
            "Estonia",
            "Finland",
            "France",
            "Greece",
            "Croatia",
            "Hungary",
            "Ireland",
            "Italy",
            "Lithuania",
            "Luxembourg",
            "Latvia",
            "Malta",
            "Netherlands",
            "Poland",
            "Portugal",
            "Romania",
            "Slovakia",
            "Slovenia",
            "Sweden"
           ],
           "locationmode": "country names",
           "locations": [
            "Austria",
            "Belgium",
            "Bulgaria",
            "Cyprus",
            "Czech Republic",
            "Germany",
            "Denmark",
            "Spain",
            "Estonia",
            "Finland",
            "France",
            "Greece",
            "Croatia",
            "Hungary",
            "Ireland",
            "Italy",
            "Lithuania",
            "Luxembourg",
            "Latvia",
            "Malta",
            "Netherlands",
            "Poland",
            "Portugal",
            "Romania",
            "Slovakia",
            "Slovenia",
            "Sweden"
           ],
           "name": "",
           "type": "choropleth",
           "z": [
            1.9,
            1.48,
            1.5,
            -0.62,
            3.63,
            0.96,
            0.93,
            0.57,
            0.15,
            0.5,
            0.97,
            -0.67,
            1,
            3.05,
            0.27,
            0.49,
            3.06,
            1.29,
            1.22,
            0.77,
            2.17,
            3.88,
            -0.04,
            4.04,
            2.16,
            0.69,
            1.19
           ]
          }
         ],
         "name": "2020"
        },
        {
         "data": [
          {
           "coloraxis": "coloraxis",
           "geo": "geo",
           "hovertemplate": "<b>%{hovertext}</b><br><br>years=2021<br>Country=%{location}<br>core_inflation_rate=%{z}<extra></extra>",
           "hovertext": [
            "Austria",
            "Belgium",
            "Bulgaria",
            "Cyprus",
            "Czech Republic",
            "Germany",
            "Denmark",
            "Spain",
            "Estonia",
            "Finland",
            "France",
            "Greece",
            "Croatia",
            "Hungary",
            "Ireland",
            "Italy",
            "Lithuania",
            "Luxembourg",
            "Latvia",
            "Malta",
            "Netherlands",
            "Poland",
            "Portugal",
            "Romania",
            "Slovakia",
            "Slovenia",
            "Sweden"
           ],
           "locationmode": "country names",
           "locations": [
            "Austria",
            "Belgium",
            "Bulgaria",
            "Cyprus",
            "Czech Republic",
            "Germany",
            "Denmark",
            "Spain",
            "Estonia",
            "Finland",
            "France",
            "Greece",
            "Croatia",
            "Hungary",
            "Ireland",
            "Italy",
            "Lithuania",
            "Luxembourg",
            "Latvia",
            "Malta",
            "Netherlands",
            "Poland",
            "Portugal",
            "Romania",
            "Slovakia",
            "Slovenia",
            "Sweden"
           ],
           "name": "",
           "type": "choropleth",
           "z": [
            2.15,
            1.61,
            1.39,
            1.03,
            4.99,
            2.13,
            1.2,
            0.57,
            2.78,
            1.73,
            0.96,
            -0.62,
            1.61,
            4.55,
            1.8,
            0.8,
            3.5,
            1.57,
            1.88,
            0.65,
            1.92,
            4.1,
            0.75,
            4.72,
            4.11,
            1.08,
            1.3
           ]
          }
         ],
         "name": "2021"
        },
        {
         "data": [
          {
           "coloraxis": "coloraxis",
           "geo": "geo",
           "hovertemplate": "<b>%{hovertext}</b><br><br>years=2022<br>Country=%{location}<br>core_inflation_rate=%{z}<extra></extra>",
           "hovertext": [
            "Austria",
            "Belgium",
            "Bulgaria",
            "Cyprus",
            "Czech Republic",
            "Germany",
            "Denmark",
            "Spain",
            "Estonia",
            "Finland",
            "France",
            "Greece",
            "Croatia",
            "Hungary",
            "Ireland",
            "Italy",
            "Lithuania",
            "Luxembourg",
            "Latvia",
            "Malta",
            "Netherlands",
            "Poland",
            "Portugal",
            "Romania",
            "Slovakia",
            "Slovenia",
            "Sweden"
           ],
           "locationmode": "country names",
           "locations": [
            "Austria",
            "Belgium",
            "Bulgaria",
            "Cyprus",
            "Czech Republic",
            "Germany",
            "Denmark",
            "Spain",
            "Estonia",
            "Finland",
            "France",
            "Greece",
            "Croatia",
            "Hungary",
            "Ireland",
            "Italy",
            "Lithuania",
            "Luxembourg",
            "Latvia",
            "Malta",
            "Netherlands",
            "Poland",
            "Portugal",
            "Romania",
            "Slovakia",
            "Slovenia",
            "Sweden"
           ],
           "name": "",
           "type": "choropleth",
           "z": [
            5.28,
            4.42,
            null,
            null,
            12.18,
            3.72,
            3.87,
            3.62,
            9.5,
            3.97,
            2.72,
            3.17,
            6.12,
            9.8,
            4.67,
            2.79,
            10.05,
            4.04,
            6.85,
            null,
            4.08,
            8.85,
            5.45,
            8.89,
            10.4,
            5.65,
            5.47
           ]
          }
         ],
         "name": "2022"
        }
       ],
       "layout": {
        "coloraxis": {
         "cmax": 30,
         "cmin": -15,
         "colorbar": {
          "title": {
           "text": "core_inflation_rate"
          }
         },
         "colorscale": [
          [
           0,
           "rgb(253, 237, 176)"
          ],
          [
           0.09090909090909091,
           "rgb(250, 205, 145)"
          ],
          [
           0.18181818181818182,
           "rgb(246, 173, 119)"
          ],
          [
           0.2727272727272727,
           "rgb(240, 142, 98)"
          ],
          [
           0.36363636363636365,
           "rgb(231, 109, 84)"
          ],
          [
           0.45454545454545453,
           "rgb(216, 80, 83)"
          ],
          [
           0.5454545454545454,
           "rgb(195, 56, 90)"
          ],
          [
           0.6363636363636364,
           "rgb(168, 40, 96)"
          ],
          [
           0.7272727272727273,
           "rgb(138, 29, 99)"
          ],
          [
           0.8181818181818182,
           "rgb(107, 24, 93)"
          ],
          [
           0.9090909090909091,
           "rgb(76, 21, 80)"
          ],
          [
           1,
           "rgb(47, 15, 61)"
          ]
         ]
        },
        "geo": {
         "center": {},
         "domain": {
          "x": [
           0,
           1
          ],
          "y": [
           0,
           1
          ]
         },
         "projection": {
          "type": "equirectangular"
         },
         "scope": "europe"
        },
        "legend": {
         "tracegroupgap": 0
        },
        "margin": {
         "b": 0,
         "l": 0,
         "r": 0,
         "t": 50
        },
        "sliders": [
         {
          "active": 0,
          "currentvalue": {
           "prefix": "years="
          },
          "len": 0.9,
          "pad": {
           "b": 10,
           "t": 60
          },
          "steps": [
           {
            "args": [
             [
              "2000"
             ],
             {
              "frame": {
               "duration": 0,
               "redraw": true
              },
              "fromcurrent": true,
              "mode": "immediate",
              "transition": {
               "duration": 0,
               "easing": "linear"
              }
             }
            ],
            "label": "2000",
            "method": "animate"
           },
           {
            "args": [
             [
              "2001"
             ],
             {
              "frame": {
               "duration": 0,
               "redraw": true
              },
              "fromcurrent": true,
              "mode": "immediate",
              "transition": {
               "duration": 0,
               "easing": "linear"
              }
             }
            ],
            "label": "2001",
            "method": "animate"
           },
           {
            "args": [
             [
              "2002"
             ],
             {
              "frame": {
               "duration": 0,
               "redraw": true
              },
              "fromcurrent": true,
              "mode": "immediate",
              "transition": {
               "duration": 0,
               "easing": "linear"
              }
             }
            ],
            "label": "2002",
            "method": "animate"
           },
           {
            "args": [
             [
              "2003"
             ],
             {
              "frame": {
               "duration": 0,
               "redraw": true
              },
              "fromcurrent": true,
              "mode": "immediate",
              "transition": {
               "duration": 0,
               "easing": "linear"
              }
             }
            ],
            "label": "2003",
            "method": "animate"
           },
           {
            "args": [
             [
              "2004"
             ],
             {
              "frame": {
               "duration": 0,
               "redraw": true
              },
              "fromcurrent": true,
              "mode": "immediate",
              "transition": {
               "duration": 0,
               "easing": "linear"
              }
             }
            ],
            "label": "2004",
            "method": "animate"
           },
           {
            "args": [
             [
              "2005"
             ],
             {
              "frame": {
               "duration": 0,
               "redraw": true
              },
              "fromcurrent": true,
              "mode": "immediate",
              "transition": {
               "duration": 0,
               "easing": "linear"
              }
             }
            ],
            "label": "2005",
            "method": "animate"
           },
           {
            "args": [
             [
              "2006"
             ],
             {
              "frame": {
               "duration": 0,
               "redraw": true
              },
              "fromcurrent": true,
              "mode": "immediate",
              "transition": {
               "duration": 0,
               "easing": "linear"
              }
             }
            ],
            "label": "2006",
            "method": "animate"
           },
           {
            "args": [
             [
              "2007"
             ],
             {
              "frame": {
               "duration": 0,
               "redraw": true
              },
              "fromcurrent": true,
              "mode": "immediate",
              "transition": {
               "duration": 0,
               "easing": "linear"
              }
             }
            ],
            "label": "2007",
            "method": "animate"
           },
           {
            "args": [
             [
              "2008"
             ],
             {
              "frame": {
               "duration": 0,
               "redraw": true
              },
              "fromcurrent": true,
              "mode": "immediate",
              "transition": {
               "duration": 0,
               "easing": "linear"
              }
             }
            ],
            "label": "2008",
            "method": "animate"
           },
           {
            "args": [
             [
              "2009"
             ],
             {
              "frame": {
               "duration": 0,
               "redraw": true
              },
              "fromcurrent": true,
              "mode": "immediate",
              "transition": {
               "duration": 0,
               "easing": "linear"
              }
             }
            ],
            "label": "2009",
            "method": "animate"
           },
           {
            "args": [
             [
              "2010"
             ],
             {
              "frame": {
               "duration": 0,
               "redraw": true
              },
              "fromcurrent": true,
              "mode": "immediate",
              "transition": {
               "duration": 0,
               "easing": "linear"
              }
             }
            ],
            "label": "2010",
            "method": "animate"
           },
           {
            "args": [
             [
              "2011"
             ],
             {
              "frame": {
               "duration": 0,
               "redraw": true
              },
              "fromcurrent": true,
              "mode": "immediate",
              "transition": {
               "duration": 0,
               "easing": "linear"
              }
             }
            ],
            "label": "2011",
            "method": "animate"
           },
           {
            "args": [
             [
              "2012"
             ],
             {
              "frame": {
               "duration": 0,
               "redraw": true
              },
              "fromcurrent": true,
              "mode": "immediate",
              "transition": {
               "duration": 0,
               "easing": "linear"
              }
             }
            ],
            "label": "2012",
            "method": "animate"
           },
           {
            "args": [
             [
              "2013"
             ],
             {
              "frame": {
               "duration": 0,
               "redraw": true
              },
              "fromcurrent": true,
              "mode": "immediate",
              "transition": {
               "duration": 0,
               "easing": "linear"
              }
             }
            ],
            "label": "2013",
            "method": "animate"
           },
           {
            "args": [
             [
              "2014"
             ],
             {
              "frame": {
               "duration": 0,
               "redraw": true
              },
              "fromcurrent": true,
              "mode": "immediate",
              "transition": {
               "duration": 0,
               "easing": "linear"
              }
             }
            ],
            "label": "2014",
            "method": "animate"
           },
           {
            "args": [
             [
              "2015"
             ],
             {
              "frame": {
               "duration": 0,
               "redraw": true
              },
              "fromcurrent": true,
              "mode": "immediate",
              "transition": {
               "duration": 0,
               "easing": "linear"
              }
             }
            ],
            "label": "2015",
            "method": "animate"
           },
           {
            "args": [
             [
              "2016"
             ],
             {
              "frame": {
               "duration": 0,
               "redraw": true
              },
              "fromcurrent": true,
              "mode": "immediate",
              "transition": {
               "duration": 0,
               "easing": "linear"
              }
             }
            ],
            "label": "2016",
            "method": "animate"
           },
           {
            "args": [
             [
              "2017"
             ],
             {
              "frame": {
               "duration": 0,
               "redraw": true
              },
              "fromcurrent": true,
              "mode": "immediate",
              "transition": {
               "duration": 0,
               "easing": "linear"
              }
             }
            ],
            "label": "2017",
            "method": "animate"
           },
           {
            "args": [
             [
              "2018"
             ],
             {
              "frame": {
               "duration": 0,
               "redraw": true
              },
              "fromcurrent": true,
              "mode": "immediate",
              "transition": {
               "duration": 0,
               "easing": "linear"
              }
             }
            ],
            "label": "2018",
            "method": "animate"
           },
           {
            "args": [
             [
              "2019"
             ],
             {
              "frame": {
               "duration": 0,
               "redraw": true
              },
              "fromcurrent": true,
              "mode": "immediate",
              "transition": {
               "duration": 0,
               "easing": "linear"
              }
             }
            ],
            "label": "2019",
            "method": "animate"
           },
           {
            "args": [
             [
              "2020"
             ],
             {
              "frame": {
               "duration": 0,
               "redraw": true
              },
              "fromcurrent": true,
              "mode": "immediate",
              "transition": {
               "duration": 0,
               "easing": "linear"
              }
             }
            ],
            "label": "2020",
            "method": "animate"
           },
           {
            "args": [
             [
              "2021"
             ],
             {
              "frame": {
               "duration": 0,
               "redraw": true
              },
              "fromcurrent": true,
              "mode": "immediate",
              "transition": {
               "duration": 0,
               "easing": "linear"
              }
             }
            ],
            "label": "2021",
            "method": "animate"
           },
           {
            "args": [
             [
              "2022"
             ],
             {
              "frame": {
               "duration": 0,
               "redraw": true
              },
              "fromcurrent": true,
              "mode": "immediate",
              "transition": {
               "duration": 0,
               "easing": "linear"
              }
             }
            ],
            "label": "2022",
            "method": "animate"
           }
          ],
          "x": 0.1,
          "xanchor": "left",
          "y": 0,
          "yanchor": "top"
         }
        ],
        "template": {
         "data": {
          "bar": [
           {
            "error_x": {
             "color": "#2a3f5f"
            },
            "error_y": {
             "color": "#2a3f5f"
            },
            "marker": {
             "line": {
              "color": "#E5ECF6",
              "width": 0.5
             },
             "pattern": {
              "fillmode": "overlay",
              "size": 10,
              "solidity": 0.2
             }
            },
            "type": "bar"
           }
          ],
          "barpolar": [
           {
            "marker": {
             "line": {
              "color": "#E5ECF6",
              "width": 0.5
             },
             "pattern": {
              "fillmode": "overlay",
              "size": 10,
              "solidity": 0.2
             }
            },
            "type": "barpolar"
           }
          ],
          "carpet": [
           {
            "aaxis": {
             "endlinecolor": "#2a3f5f",
             "gridcolor": "white",
             "linecolor": "white",
             "minorgridcolor": "white",
             "startlinecolor": "#2a3f5f"
            },
            "baxis": {
             "endlinecolor": "#2a3f5f",
             "gridcolor": "white",
             "linecolor": "white",
             "minorgridcolor": "white",
             "startlinecolor": "#2a3f5f"
            },
            "type": "carpet"
           }
          ],
          "choropleth": [
           {
            "colorbar": {
             "outlinewidth": 0,
             "ticks": ""
            },
            "type": "choropleth"
           }
          ],
          "contour": [
           {
            "colorbar": {
             "outlinewidth": 0,
             "ticks": ""
            },
            "colorscale": [
             [
              0,
              "#0d0887"
             ],
             [
              0.1111111111111111,
              "#46039f"
             ],
             [
              0.2222222222222222,
              "#7201a8"
             ],
             [
              0.3333333333333333,
              "#9c179e"
             ],
             [
              0.4444444444444444,
              "#bd3786"
             ],
             [
              0.5555555555555556,
              "#d8576b"
             ],
             [
              0.6666666666666666,
              "#ed7953"
             ],
             [
              0.7777777777777778,
              "#fb9f3a"
             ],
             [
              0.8888888888888888,
              "#fdca26"
             ],
             [
              1,
              "#f0f921"
             ]
            ],
            "type": "contour"
           }
          ],
          "contourcarpet": [
           {
            "colorbar": {
             "outlinewidth": 0,
             "ticks": ""
            },
            "type": "contourcarpet"
           }
          ],
          "heatmap": [
           {
            "colorbar": {
             "outlinewidth": 0,
             "ticks": ""
            },
            "colorscale": [
             [
              0,
              "#0d0887"
             ],
             [
              0.1111111111111111,
              "#46039f"
             ],
             [
              0.2222222222222222,
              "#7201a8"
             ],
             [
              0.3333333333333333,
              "#9c179e"
             ],
             [
              0.4444444444444444,
              "#bd3786"
             ],
             [
              0.5555555555555556,
              "#d8576b"
             ],
             [
              0.6666666666666666,
              "#ed7953"
             ],
             [
              0.7777777777777778,
              "#fb9f3a"
             ],
             [
              0.8888888888888888,
              "#fdca26"
             ],
             [
              1,
              "#f0f921"
             ]
            ],
            "type": "heatmap"
           }
          ],
          "heatmapgl": [
           {
            "colorbar": {
             "outlinewidth": 0,
             "ticks": ""
            },
            "colorscale": [
             [
              0,
              "#0d0887"
             ],
             [
              0.1111111111111111,
              "#46039f"
             ],
             [
              0.2222222222222222,
              "#7201a8"
             ],
             [
              0.3333333333333333,
              "#9c179e"
             ],
             [
              0.4444444444444444,
              "#bd3786"
             ],
             [
              0.5555555555555556,
              "#d8576b"
             ],
             [
              0.6666666666666666,
              "#ed7953"
             ],
             [
              0.7777777777777778,
              "#fb9f3a"
             ],
             [
              0.8888888888888888,
              "#fdca26"
             ],
             [
              1,
              "#f0f921"
             ]
            ],
            "type": "heatmapgl"
           }
          ],
          "histogram": [
           {
            "marker": {
             "pattern": {
              "fillmode": "overlay",
              "size": 10,
              "solidity": 0.2
             }
            },
            "type": "histogram"
           }
          ],
          "histogram2d": [
           {
            "colorbar": {
             "outlinewidth": 0,
             "ticks": ""
            },
            "colorscale": [
             [
              0,
              "#0d0887"
             ],
             [
              0.1111111111111111,
              "#46039f"
             ],
             [
              0.2222222222222222,
              "#7201a8"
             ],
             [
              0.3333333333333333,
              "#9c179e"
             ],
             [
              0.4444444444444444,
              "#bd3786"
             ],
             [
              0.5555555555555556,
              "#d8576b"
             ],
             [
              0.6666666666666666,
              "#ed7953"
             ],
             [
              0.7777777777777778,
              "#fb9f3a"
             ],
             [
              0.8888888888888888,
              "#fdca26"
             ],
             [
              1,
              "#f0f921"
             ]
            ],
            "type": "histogram2d"
           }
          ],
          "histogram2dcontour": [
           {
            "colorbar": {
             "outlinewidth": 0,
             "ticks": ""
            },
            "colorscale": [
             [
              0,
              "#0d0887"
             ],
             [
              0.1111111111111111,
              "#46039f"
             ],
             [
              0.2222222222222222,
              "#7201a8"
             ],
             [
              0.3333333333333333,
              "#9c179e"
             ],
             [
              0.4444444444444444,
              "#bd3786"
             ],
             [
              0.5555555555555556,
              "#d8576b"
             ],
             [
              0.6666666666666666,
              "#ed7953"
             ],
             [
              0.7777777777777778,
              "#fb9f3a"
             ],
             [
              0.8888888888888888,
              "#fdca26"
             ],
             [
              1,
              "#f0f921"
             ]
            ],
            "type": "histogram2dcontour"
           }
          ],
          "mesh3d": [
           {
            "colorbar": {
             "outlinewidth": 0,
             "ticks": ""
            },
            "type": "mesh3d"
           }
          ],
          "parcoords": [
           {
            "line": {
             "colorbar": {
              "outlinewidth": 0,
              "ticks": ""
             }
            },
            "type": "parcoords"
           }
          ],
          "pie": [
           {
            "automargin": true,
            "type": "pie"
           }
          ],
          "scatter": [
           {
            "fillpattern": {
             "fillmode": "overlay",
             "size": 10,
             "solidity": 0.2
            },
            "type": "scatter"
           }
          ],
          "scatter3d": [
           {
            "line": {
             "colorbar": {
              "outlinewidth": 0,
              "ticks": ""
             }
            },
            "marker": {
             "colorbar": {
              "outlinewidth": 0,
              "ticks": ""
             }
            },
            "type": "scatter3d"
           }
          ],
          "scattercarpet": [
           {
            "marker": {
             "colorbar": {
              "outlinewidth": 0,
              "ticks": ""
             }
            },
            "type": "scattercarpet"
           }
          ],
          "scattergeo": [
           {
            "marker": {
             "colorbar": {
              "outlinewidth": 0,
              "ticks": ""
             }
            },
            "type": "scattergeo"
           }
          ],
          "scattergl": [
           {
            "marker": {
             "colorbar": {
              "outlinewidth": 0,
              "ticks": ""
             }
            },
            "type": "scattergl"
           }
          ],
          "scattermapbox": [
           {
            "marker": {
             "colorbar": {
              "outlinewidth": 0,
              "ticks": ""
             }
            },
            "type": "scattermapbox"
           }
          ],
          "scatterpolar": [
           {
            "marker": {
             "colorbar": {
              "outlinewidth": 0,
              "ticks": ""
             }
            },
            "type": "scatterpolar"
           }
          ],
          "scatterpolargl": [
           {
            "marker": {
             "colorbar": {
              "outlinewidth": 0,
              "ticks": ""
             }
            },
            "type": "scatterpolargl"
           }
          ],
          "scatterternary": [
           {
            "marker": {
             "colorbar": {
              "outlinewidth": 0,
              "ticks": ""
             }
            },
            "type": "scatterternary"
           }
          ],
          "surface": [
           {
            "colorbar": {
             "outlinewidth": 0,
             "ticks": ""
            },
            "colorscale": [
             [
              0,
              "#0d0887"
             ],
             [
              0.1111111111111111,
              "#46039f"
             ],
             [
              0.2222222222222222,
              "#7201a8"
             ],
             [
              0.3333333333333333,
              "#9c179e"
             ],
             [
              0.4444444444444444,
              "#bd3786"
             ],
             [
              0.5555555555555556,
              "#d8576b"
             ],
             [
              0.6666666666666666,
              "#ed7953"
             ],
             [
              0.7777777777777778,
              "#fb9f3a"
             ],
             [
              0.8888888888888888,
              "#fdca26"
             ],
             [
              1,
              "#f0f921"
             ]
            ],
            "type": "surface"
           }
          ],
          "table": [
           {
            "cells": {
             "fill": {
              "color": "#EBF0F8"
             },
             "line": {
              "color": "white"
             }
            },
            "header": {
             "fill": {
              "color": "#C8D4E3"
             },
             "line": {
              "color": "white"
             }
            },
            "type": "table"
           }
          ]
         },
         "layout": {
          "annotationdefaults": {
           "arrowcolor": "#2a3f5f",
           "arrowhead": 0,
           "arrowwidth": 1
          },
          "autotypenumbers": "strict",
          "coloraxis": {
           "colorbar": {
            "outlinewidth": 0,
            "ticks": ""
           }
          },
          "colorscale": {
           "diverging": [
            [
             0,
             "#8e0152"
            ],
            [
             0.1,
             "#c51b7d"
            ],
            [
             0.2,
             "#de77ae"
            ],
            [
             0.3,
             "#f1b6da"
            ],
            [
             0.4,
             "#fde0ef"
            ],
            [
             0.5,
             "#f7f7f7"
            ],
            [
             0.6,
             "#e6f5d0"
            ],
            [
             0.7,
             "#b8e186"
            ],
            [
             0.8,
             "#7fbc41"
            ],
            [
             0.9,
             "#4d9221"
            ],
            [
             1,
             "#276419"
            ]
           ],
           "sequential": [
            [
             0,
             "#0d0887"
            ],
            [
             0.1111111111111111,
             "#46039f"
            ],
            [
             0.2222222222222222,
             "#7201a8"
            ],
            [
             0.3333333333333333,
             "#9c179e"
            ],
            [
             0.4444444444444444,
             "#bd3786"
            ],
            [
             0.5555555555555556,
             "#d8576b"
            ],
            [
             0.6666666666666666,
             "#ed7953"
            ],
            [
             0.7777777777777778,
             "#fb9f3a"
            ],
            [
             0.8888888888888888,
             "#fdca26"
            ],
            [
             1,
             "#f0f921"
            ]
           ],
           "sequentialminus": [
            [
             0,
             "#0d0887"
            ],
            [
             0.1111111111111111,
             "#46039f"
            ],
            [
             0.2222222222222222,
             "#7201a8"
            ],
            [
             0.3333333333333333,
             "#9c179e"
            ],
            [
             0.4444444444444444,
             "#bd3786"
            ],
            [
             0.5555555555555556,
             "#d8576b"
            ],
            [
             0.6666666666666666,
             "#ed7953"
            ],
            [
             0.7777777777777778,
             "#fb9f3a"
            ],
            [
             0.8888888888888888,
             "#fdca26"
            ],
            [
             1,
             "#f0f921"
            ]
           ]
          },
          "colorway": [
           "#636efa",
           "#EF553B",
           "#00cc96",
           "#ab63fa",
           "#FFA15A",
           "#19d3f3",
           "#FF6692",
           "#B6E880",
           "#FF97FF",
           "#FECB52"
          ],
          "font": {
           "color": "#2a3f5f"
          },
          "geo": {
           "bgcolor": "white",
           "lakecolor": "white",
           "landcolor": "#E5ECF6",
           "showlakes": true,
           "showland": true,
           "subunitcolor": "white"
          },
          "hoverlabel": {
           "align": "left"
          },
          "hovermode": "closest",
          "mapbox": {
           "style": "light"
          },
          "paper_bgcolor": "white",
          "plot_bgcolor": "#E5ECF6",
          "polar": {
           "angularaxis": {
            "gridcolor": "white",
            "linecolor": "white",
            "ticks": ""
           },
           "bgcolor": "#E5ECF6",
           "radialaxis": {
            "gridcolor": "white",
            "linecolor": "white",
            "ticks": ""
           }
          },
          "scene": {
           "xaxis": {
            "backgroundcolor": "#E5ECF6",
            "gridcolor": "white",
            "gridwidth": 2,
            "linecolor": "white",
            "showbackground": true,
            "ticks": "",
            "zerolinecolor": "white"
           },
           "yaxis": {
            "backgroundcolor": "#E5ECF6",
            "gridcolor": "white",
            "gridwidth": 2,
            "linecolor": "white",
            "showbackground": true,
            "ticks": "",
            "zerolinecolor": "white"
           },
           "zaxis": {
            "backgroundcolor": "#E5ECF6",
            "gridcolor": "white",
            "gridwidth": 2,
            "linecolor": "white",
            "showbackground": true,
            "ticks": "",
            "zerolinecolor": "white"
           }
          },
          "shapedefaults": {
           "line": {
            "color": "#2a3f5f"
           }
          },
          "ternary": {
           "aaxis": {
            "gridcolor": "white",
            "linecolor": "white",
            "ticks": ""
           },
           "baxis": {
            "gridcolor": "white",
            "linecolor": "white",
            "ticks": ""
           },
           "bgcolor": "#E5ECF6",
           "caxis": {
            "gridcolor": "white",
            "linecolor": "white",
            "ticks": ""
           }
          },
          "title": {
           "x": 0.05
          },
          "xaxis": {
           "automargin": true,
           "gridcolor": "white",
           "linecolor": "white",
           "ticks": "",
           "title": {
            "standoff": 15
           },
           "zerolinecolor": "white",
           "zerolinewidth": 2
          },
          "yaxis": {
           "automargin": true,
           "gridcolor": "white",
           "linecolor": "white",
           "ticks": "",
           "title": {
            "standoff": 15
           },
           "zerolinecolor": "white",
           "zerolinewidth": 2
          }
         }
        },
        "title": {
         "text": "EU Inflation Rates 2000-2022"
        },
        "updatemenus": [
         {
          "buttons": [
           {
            "args": [
             null,
             {
              "frame": {
               "duration": 500,
               "redraw": true
              },
              "fromcurrent": true,
              "mode": "immediate",
              "transition": {
               "duration": 500,
               "easing": "linear"
              }
             }
            ],
            "label": "&#9654;",
            "method": "animate"
           },
           {
            "args": [
             [
              null
             ],
             {
              "frame": {
               "duration": 0,
               "redraw": true
              },
              "fromcurrent": true,
              "mode": "immediate",
              "transition": {
               "duration": 0,
               "easing": "linear"
              }
             }
            ],
            "label": "&#9724;",
            "method": "animate"
           }
          ],
          "direction": "left",
          "pad": {
           "r": 10,
           "t": 70
          },
          "showactive": false,
          "type": "buttons",
          "x": 0.1,
          "xanchor": "right",
          "y": 0,
          "yanchor": "top"
         }
        ]
       }
      },
      "text/html": [
       "<div>                            <div id=\"79195eab-27bf-4d6c-b2e3-c2c3f50c019a\" class=\"plotly-graph-div\" style=\"height:525px; width:100%;\"></div>            <script type=\"text/javascript\">                require([\"plotly\"], function(Plotly) {                    window.PLOTLYENV=window.PLOTLYENV || {};                                    if (document.getElementById(\"79195eab-27bf-4d6c-b2e3-c2c3f50c019a\")) {                    Plotly.newPlot(                        \"79195eab-27bf-4d6c-b2e3-c2c3f50c019a\",                        [{\"coloraxis\":\"coloraxis\",\"geo\":\"geo\",\"hovertemplate\":\"<b>%{hovertext}</b><br><br>years=2000<br>Country=%{location}<br>core_inflation_rate=%{z}<extra></extra>\",\"hovertext\":[\"Austria\",\"Belgium\",\"Bulgaria\",\"Cyprus\",\"Czech Republic\",\"Germany\",\"Denmark\",\"Spain\",\"Estonia\",\"Finland\",\"France\",\"Greece\",\"Croatia\",\"Hungary\",\"Ireland\",\"Italy\",\"Lithuania\",\"Luxembourg\",\"Latvia\",\"Malta\",\"Netherlands\",\"Poland\",\"Portugal\",\"Romania\",\"Slovakia\",\"Slovenia\",\"Sweden\"],\"locationmode\":\"country names\",\"locations\":[\"Austria\",\"Belgium\",\"Bulgaria\",\"Cyprus\",\"Czech Republic\",\"Germany\",\"Denmark\",\"Spain\",\"Estonia\",\"Finland\",\"France\",\"Greece\",\"Croatia\",\"Hungary\",\"Ireland\",\"Italy\",\"Lithuania\",\"Luxembourg\",\"Latvia\",\"Malta\",\"Netherlands\",\"Poland\",\"Portugal\",\"Romania\",\"Slovakia\",\"Slovenia\",\"Sweden\"],\"name\":\"\",\"z\":[1.66,1.83,1.13,2.83,1.94,0.83,2.16,43.94,3.89,2.56,0.79,2.16,2.82,8.15,5.67,9.69,-1.03,31.07,0.74,2.91,2.14,9.18,2.84,null,9.83,7.27,0.34],\"type\":\"choropleth\"}],                        {\"template\":{\"data\":{\"histogram2dcontour\":[{\"type\":\"histogram2dcontour\",\"colorbar\":{\"outlinewidth\":0,\"ticks\":\"\"},\"colorscale\":[[0.0,\"#0d0887\"],[0.1111111111111111,\"#46039f\"],[0.2222222222222222,\"#7201a8\"],[0.3333333333333333,\"#9c179e\"],[0.4444444444444444,\"#bd3786\"],[0.5555555555555556,\"#d8576b\"],[0.6666666666666666,\"#ed7953\"],[0.7777777777777778,\"#fb9f3a\"],[0.8888888888888888,\"#fdca26\"],[1.0,\"#f0f921\"]]}],\"choropleth\":[{\"type\":\"choropleth\",\"colorbar\":{\"outlinewidth\":0,\"ticks\":\"\"}}],\"histogram2d\":[{\"type\":\"histogram2d\",\"colorbar\":{\"outlinewidth\":0,\"ticks\":\"\"},\"colorscale\":[[0.0,\"#0d0887\"],[0.1111111111111111,\"#46039f\"],[0.2222222222222222,\"#7201a8\"],[0.3333333333333333,\"#9c179e\"],[0.4444444444444444,\"#bd3786\"],[0.5555555555555556,\"#d8576b\"],[0.6666666666666666,\"#ed7953\"],[0.7777777777777778,\"#fb9f3a\"],[0.8888888888888888,\"#fdca26\"],[1.0,\"#f0f921\"]]}],\"heatmap\":[{\"type\":\"heatmap\",\"colorbar\":{\"outlinewidth\":0,\"ticks\":\"\"},\"colorscale\":[[0.0,\"#0d0887\"],[0.1111111111111111,\"#46039f\"],[0.2222222222222222,\"#7201a8\"],[0.3333333333333333,\"#9c179e\"],[0.4444444444444444,\"#bd3786\"],[0.5555555555555556,\"#d8576b\"],[0.6666666666666666,\"#ed7953\"],[0.7777777777777778,\"#fb9f3a\"],[0.8888888888888888,\"#fdca26\"],[1.0,\"#f0f921\"]]}],\"heatmapgl\":[{\"type\":\"heatmapgl\",\"colorbar\":{\"outlinewidth\":0,\"ticks\":\"\"},\"colorscale\":[[0.0,\"#0d0887\"],[0.1111111111111111,\"#46039f\"],[0.2222222222222222,\"#7201a8\"],[0.3333333333333333,\"#9c179e\"],[0.4444444444444444,\"#bd3786\"],[0.5555555555555556,\"#d8576b\"],[0.6666666666666666,\"#ed7953\"],[0.7777777777777778,\"#fb9f3a\"],[0.8888888888888888,\"#fdca26\"],[1.0,\"#f0f921\"]]}],\"contourcarpet\":[{\"type\":\"contourcarpet\",\"colorbar\":{\"outlinewidth\":0,\"ticks\":\"\"}}],\"contour\":[{\"type\":\"contour\",\"colorbar\":{\"outlinewidth\":0,\"ticks\":\"\"},\"colorscale\":[[0.0,\"#0d0887\"],[0.1111111111111111,\"#46039f\"],[0.2222222222222222,\"#7201a8\"],[0.3333333333333333,\"#9c179e\"],[0.4444444444444444,\"#bd3786\"],[0.5555555555555556,\"#d8576b\"],[0.6666666666666666,\"#ed7953\"],[0.7777777777777778,\"#fb9f3a\"],[0.8888888888888888,\"#fdca26\"],[1.0,\"#f0f921\"]]}],\"surface\":[{\"type\":\"surface\",\"colorbar\":{\"outlinewidth\":0,\"ticks\":\"\"},\"colorscale\":[[0.0,\"#0d0887\"],[0.1111111111111111,\"#46039f\"],[0.2222222222222222,\"#7201a8\"],[0.3333333333333333,\"#9c179e\"],[0.4444444444444444,\"#bd3786\"],[0.5555555555555556,\"#d8576b\"],[0.6666666666666666,\"#ed7953\"],[0.7777777777777778,\"#fb9f3a\"],[0.8888888888888888,\"#fdca26\"],[1.0,\"#f0f921\"]]}],\"mesh3d\":[{\"type\":\"mesh3d\",\"colorbar\":{\"outlinewidth\":0,\"ticks\":\"\"}}],\"scatter\":[{\"fillpattern\":{\"fillmode\":\"overlay\",\"size\":10,\"solidity\":0.2},\"type\":\"scatter\"}],\"parcoords\":[{\"type\":\"parcoords\",\"line\":{\"colorbar\":{\"outlinewidth\":0,\"ticks\":\"\"}}}],\"scatterpolargl\":[{\"type\":\"scatterpolargl\",\"marker\":{\"colorbar\":{\"outlinewidth\":0,\"ticks\":\"\"}}}],\"bar\":[{\"error_x\":{\"color\":\"#2a3f5f\"},\"error_y\":{\"color\":\"#2a3f5f\"},\"marker\":{\"line\":{\"color\":\"#E5ECF6\",\"width\":0.5},\"pattern\":{\"fillmode\":\"overlay\",\"size\":10,\"solidity\":0.2}},\"type\":\"bar\"}],\"scattergeo\":[{\"type\":\"scattergeo\",\"marker\":{\"colorbar\":{\"outlinewidth\":0,\"ticks\":\"\"}}}],\"scatterpolar\":[{\"type\":\"scatterpolar\",\"marker\":{\"colorbar\":{\"outlinewidth\":0,\"ticks\":\"\"}}}],\"histogram\":[{\"marker\":{\"pattern\":{\"fillmode\":\"overlay\",\"size\":10,\"solidity\":0.2}},\"type\":\"histogram\"}],\"scattergl\":[{\"type\":\"scattergl\",\"marker\":{\"colorbar\":{\"outlinewidth\":0,\"ticks\":\"\"}}}],\"scatter3d\":[{\"type\":\"scatter3d\",\"line\":{\"colorbar\":{\"outlinewidth\":0,\"ticks\":\"\"}},\"marker\":{\"colorbar\":{\"outlinewidth\":0,\"ticks\":\"\"}}}],\"scattermapbox\":[{\"type\":\"scattermapbox\",\"marker\":{\"colorbar\":{\"outlinewidth\":0,\"ticks\":\"\"}}}],\"scatterternary\":[{\"type\":\"scatterternary\",\"marker\":{\"colorbar\":{\"outlinewidth\":0,\"ticks\":\"\"}}}],\"scattercarpet\":[{\"type\":\"scattercarpet\",\"marker\":{\"colorbar\":{\"outlinewidth\":0,\"ticks\":\"\"}}}],\"carpet\":[{\"aaxis\":{\"endlinecolor\":\"#2a3f5f\",\"gridcolor\":\"white\",\"linecolor\":\"white\",\"minorgridcolor\":\"white\",\"startlinecolor\":\"#2a3f5f\"},\"baxis\":{\"endlinecolor\":\"#2a3f5f\",\"gridcolor\":\"white\",\"linecolor\":\"white\",\"minorgridcolor\":\"white\",\"startlinecolor\":\"#2a3f5f\"},\"type\":\"carpet\"}],\"table\":[{\"cells\":{\"fill\":{\"color\":\"#EBF0F8\"},\"line\":{\"color\":\"white\"}},\"header\":{\"fill\":{\"color\":\"#C8D4E3\"},\"line\":{\"color\":\"white\"}},\"type\":\"table\"}],\"barpolar\":[{\"marker\":{\"line\":{\"color\":\"#E5ECF6\",\"width\":0.5},\"pattern\":{\"fillmode\":\"overlay\",\"size\":10,\"solidity\":0.2}},\"type\":\"barpolar\"}],\"pie\":[{\"automargin\":true,\"type\":\"pie\"}]},\"layout\":{\"autotypenumbers\":\"strict\",\"colorway\":[\"#636efa\",\"#EF553B\",\"#00cc96\",\"#ab63fa\",\"#FFA15A\",\"#19d3f3\",\"#FF6692\",\"#B6E880\",\"#FF97FF\",\"#FECB52\"],\"font\":{\"color\":\"#2a3f5f\"},\"hovermode\":\"closest\",\"hoverlabel\":{\"align\":\"left\"},\"paper_bgcolor\":\"white\",\"plot_bgcolor\":\"#E5ECF6\",\"polar\":{\"bgcolor\":\"#E5ECF6\",\"angularaxis\":{\"gridcolor\":\"white\",\"linecolor\":\"white\",\"ticks\":\"\"},\"radialaxis\":{\"gridcolor\":\"white\",\"linecolor\":\"white\",\"ticks\":\"\"}},\"ternary\":{\"bgcolor\":\"#E5ECF6\",\"aaxis\":{\"gridcolor\":\"white\",\"linecolor\":\"white\",\"ticks\":\"\"},\"baxis\":{\"gridcolor\":\"white\",\"linecolor\":\"white\",\"ticks\":\"\"},\"caxis\":{\"gridcolor\":\"white\",\"linecolor\":\"white\",\"ticks\":\"\"}},\"coloraxis\":{\"colorbar\":{\"outlinewidth\":0,\"ticks\":\"\"}},\"colorscale\":{\"sequential\":[[0.0,\"#0d0887\"],[0.1111111111111111,\"#46039f\"],[0.2222222222222222,\"#7201a8\"],[0.3333333333333333,\"#9c179e\"],[0.4444444444444444,\"#bd3786\"],[0.5555555555555556,\"#d8576b\"],[0.6666666666666666,\"#ed7953\"],[0.7777777777777778,\"#fb9f3a\"],[0.8888888888888888,\"#fdca26\"],[1.0,\"#f0f921\"]],\"sequentialminus\":[[0.0,\"#0d0887\"],[0.1111111111111111,\"#46039f\"],[0.2222222222222222,\"#7201a8\"],[0.3333333333333333,\"#9c179e\"],[0.4444444444444444,\"#bd3786\"],[0.5555555555555556,\"#d8576b\"],[0.6666666666666666,\"#ed7953\"],[0.7777777777777778,\"#fb9f3a\"],[0.8888888888888888,\"#fdca26\"],[1.0,\"#f0f921\"]],\"diverging\":[[0,\"#8e0152\"],[0.1,\"#c51b7d\"],[0.2,\"#de77ae\"],[0.3,\"#f1b6da\"],[0.4,\"#fde0ef\"],[0.5,\"#f7f7f7\"],[0.6,\"#e6f5d0\"],[0.7,\"#b8e186\"],[0.8,\"#7fbc41\"],[0.9,\"#4d9221\"],[1,\"#276419\"]]},\"xaxis\":{\"gridcolor\":\"white\",\"linecolor\":\"white\",\"ticks\":\"\",\"title\":{\"standoff\":15},\"zerolinecolor\":\"white\",\"automargin\":true,\"zerolinewidth\":2},\"yaxis\":{\"gridcolor\":\"white\",\"linecolor\":\"white\",\"ticks\":\"\",\"title\":{\"standoff\":15},\"zerolinecolor\":\"white\",\"automargin\":true,\"zerolinewidth\":2},\"scene\":{\"xaxis\":{\"backgroundcolor\":\"#E5ECF6\",\"gridcolor\":\"white\",\"linecolor\":\"white\",\"showbackground\":true,\"ticks\":\"\",\"zerolinecolor\":\"white\",\"gridwidth\":2},\"yaxis\":{\"backgroundcolor\":\"#E5ECF6\",\"gridcolor\":\"white\",\"linecolor\":\"white\",\"showbackground\":true,\"ticks\":\"\",\"zerolinecolor\":\"white\",\"gridwidth\":2},\"zaxis\":{\"backgroundcolor\":\"#E5ECF6\",\"gridcolor\":\"white\",\"linecolor\":\"white\",\"showbackground\":true,\"ticks\":\"\",\"zerolinecolor\":\"white\",\"gridwidth\":2}},\"shapedefaults\":{\"line\":{\"color\":\"#2a3f5f\"}},\"annotationdefaults\":{\"arrowcolor\":\"#2a3f5f\",\"arrowhead\":0,\"arrowwidth\":1},\"geo\":{\"bgcolor\":\"white\",\"landcolor\":\"#E5ECF6\",\"subunitcolor\":\"white\",\"showland\":true,\"showlakes\":true,\"lakecolor\":\"white\"},\"title\":{\"x\":0.05},\"mapbox\":{\"style\":\"light\"}}},\"geo\":{\"domain\":{\"x\":[0.0,1.0],\"y\":[0.0,1.0]},\"projection\":{\"type\":\"equirectangular\"},\"center\":{},\"scope\":\"europe\"},\"coloraxis\":{\"colorbar\":{\"title\":{\"text\":\"core_inflation_rate\"}},\"colorscale\":[[0.0,\"rgb(253, 237, 176)\"],[0.09090909090909091,\"rgb(250, 205, 145)\"],[0.18181818181818182,\"rgb(246, 173, 119)\"],[0.2727272727272727,\"rgb(240, 142, 98)\"],[0.36363636363636365,\"rgb(231, 109, 84)\"],[0.45454545454545453,\"rgb(216, 80, 83)\"],[0.5454545454545454,\"rgb(195, 56, 90)\"],[0.6363636363636364,\"rgb(168, 40, 96)\"],[0.7272727272727273,\"rgb(138, 29, 99)\"],[0.8181818181818182,\"rgb(107, 24, 93)\"],[0.9090909090909091,\"rgb(76, 21, 80)\"],[1.0,\"rgb(47, 15, 61)\"]],\"cmin\":-15,\"cmax\":30},\"legend\":{\"tracegroupgap\":0},\"title\":{\"text\":\"EU Inflation Rates 2000-2022\"},\"updatemenus\":[{\"buttons\":[{\"args\":[null,{\"frame\":{\"duration\":500,\"redraw\":true},\"mode\":\"immediate\",\"fromcurrent\":true,\"transition\":{\"duration\":500,\"easing\":\"linear\"}}],\"label\":\"&#9654;\",\"method\":\"animate\"},{\"args\":[[null],{\"frame\":{\"duration\":0,\"redraw\":true},\"mode\":\"immediate\",\"fromcurrent\":true,\"transition\":{\"duration\":0,\"easing\":\"linear\"}}],\"label\":\"&#9724;\",\"method\":\"animate\"}],\"direction\":\"left\",\"pad\":{\"r\":10,\"t\":70},\"showactive\":false,\"type\":\"buttons\",\"x\":0.1,\"xanchor\":\"right\",\"y\":0,\"yanchor\":\"top\"}],\"sliders\":[{\"active\":0,\"currentvalue\":{\"prefix\":\"years=\"},\"len\":0.9,\"pad\":{\"b\":10,\"t\":60},\"steps\":[{\"args\":[[\"2000\"],{\"frame\":{\"duration\":0,\"redraw\":true},\"mode\":\"immediate\",\"fromcurrent\":true,\"transition\":{\"duration\":0,\"easing\":\"linear\"}}],\"label\":\"2000\",\"method\":\"animate\"},{\"args\":[[\"2001\"],{\"frame\":{\"duration\":0,\"redraw\":true},\"mode\":\"immediate\",\"fromcurrent\":true,\"transition\":{\"duration\":0,\"easing\":\"linear\"}}],\"label\":\"2001\",\"method\":\"animate\"},{\"args\":[[\"2002\"],{\"frame\":{\"duration\":0,\"redraw\":true},\"mode\":\"immediate\",\"fromcurrent\":true,\"transition\":{\"duration\":0,\"easing\":\"linear\"}}],\"label\":\"2002\",\"method\":\"animate\"},{\"args\":[[\"2003\"],{\"frame\":{\"duration\":0,\"redraw\":true},\"mode\":\"immediate\",\"fromcurrent\":true,\"transition\":{\"duration\":0,\"easing\":\"linear\"}}],\"label\":\"2003\",\"method\":\"animate\"},{\"args\":[[\"2004\"],{\"frame\":{\"duration\":0,\"redraw\":true},\"mode\":\"immediate\",\"fromcurrent\":true,\"transition\":{\"duration\":0,\"easing\":\"linear\"}}],\"label\":\"2004\",\"method\":\"animate\"},{\"args\":[[\"2005\"],{\"frame\":{\"duration\":0,\"redraw\":true},\"mode\":\"immediate\",\"fromcurrent\":true,\"transition\":{\"duration\":0,\"easing\":\"linear\"}}],\"label\":\"2005\",\"method\":\"animate\"},{\"args\":[[\"2006\"],{\"frame\":{\"duration\":0,\"redraw\":true},\"mode\":\"immediate\",\"fromcurrent\":true,\"transition\":{\"duration\":0,\"easing\":\"linear\"}}],\"label\":\"2006\",\"method\":\"animate\"},{\"args\":[[\"2007\"],{\"frame\":{\"duration\":0,\"redraw\":true},\"mode\":\"immediate\",\"fromcurrent\":true,\"transition\":{\"duration\":0,\"easing\":\"linear\"}}],\"label\":\"2007\",\"method\":\"animate\"},{\"args\":[[\"2008\"],{\"frame\":{\"duration\":0,\"redraw\":true},\"mode\":\"immediate\",\"fromcurrent\":true,\"transition\":{\"duration\":0,\"easing\":\"linear\"}}],\"label\":\"2008\",\"method\":\"animate\"},{\"args\":[[\"2009\"],{\"frame\":{\"duration\":0,\"redraw\":true},\"mode\":\"immediate\",\"fromcurrent\":true,\"transition\":{\"duration\":0,\"easing\":\"linear\"}}],\"label\":\"2009\",\"method\":\"animate\"},{\"args\":[[\"2010\"],{\"frame\":{\"duration\":0,\"redraw\":true},\"mode\":\"immediate\",\"fromcurrent\":true,\"transition\":{\"duration\":0,\"easing\":\"linear\"}}],\"label\":\"2010\",\"method\":\"animate\"},{\"args\":[[\"2011\"],{\"frame\":{\"duration\":0,\"redraw\":true},\"mode\":\"immediate\",\"fromcurrent\":true,\"transition\":{\"duration\":0,\"easing\":\"linear\"}}],\"label\":\"2011\",\"method\":\"animate\"},{\"args\":[[\"2012\"],{\"frame\":{\"duration\":0,\"redraw\":true},\"mode\":\"immediate\",\"fromcurrent\":true,\"transition\":{\"duration\":0,\"easing\":\"linear\"}}],\"label\":\"2012\",\"method\":\"animate\"},{\"args\":[[\"2013\"],{\"frame\":{\"duration\":0,\"redraw\":true},\"mode\":\"immediate\",\"fromcurrent\":true,\"transition\":{\"duration\":0,\"easing\":\"linear\"}}],\"label\":\"2013\",\"method\":\"animate\"},{\"args\":[[\"2014\"],{\"frame\":{\"duration\":0,\"redraw\":true},\"mode\":\"immediate\",\"fromcurrent\":true,\"transition\":{\"duration\":0,\"easing\":\"linear\"}}],\"label\":\"2014\",\"method\":\"animate\"},{\"args\":[[\"2015\"],{\"frame\":{\"duration\":0,\"redraw\":true},\"mode\":\"immediate\",\"fromcurrent\":true,\"transition\":{\"duration\":0,\"easing\":\"linear\"}}],\"label\":\"2015\",\"method\":\"animate\"},{\"args\":[[\"2016\"],{\"frame\":{\"duration\":0,\"redraw\":true},\"mode\":\"immediate\",\"fromcurrent\":true,\"transition\":{\"duration\":0,\"easing\":\"linear\"}}],\"label\":\"2016\",\"method\":\"animate\"},{\"args\":[[\"2017\"],{\"frame\":{\"duration\":0,\"redraw\":true},\"mode\":\"immediate\",\"fromcurrent\":true,\"transition\":{\"duration\":0,\"easing\":\"linear\"}}],\"label\":\"2017\",\"method\":\"animate\"},{\"args\":[[\"2018\"],{\"frame\":{\"duration\":0,\"redraw\":true},\"mode\":\"immediate\",\"fromcurrent\":true,\"transition\":{\"duration\":0,\"easing\":\"linear\"}}],\"label\":\"2018\",\"method\":\"animate\"},{\"args\":[[\"2019\"],{\"frame\":{\"duration\":0,\"redraw\":true},\"mode\":\"immediate\",\"fromcurrent\":true,\"transition\":{\"duration\":0,\"easing\":\"linear\"}}],\"label\":\"2019\",\"method\":\"animate\"},{\"args\":[[\"2020\"],{\"frame\":{\"duration\":0,\"redraw\":true},\"mode\":\"immediate\",\"fromcurrent\":true,\"transition\":{\"duration\":0,\"easing\":\"linear\"}}],\"label\":\"2020\",\"method\":\"animate\"},{\"args\":[[\"2021\"],{\"frame\":{\"duration\":0,\"redraw\":true},\"mode\":\"immediate\",\"fromcurrent\":true,\"transition\":{\"duration\":0,\"easing\":\"linear\"}}],\"label\":\"2021\",\"method\":\"animate\"},{\"args\":[[\"2022\"],{\"frame\":{\"duration\":0,\"redraw\":true},\"mode\":\"immediate\",\"fromcurrent\":true,\"transition\":{\"duration\":0,\"easing\":\"linear\"}}],\"label\":\"2022\",\"method\":\"animate\"}],\"x\":0.1,\"xanchor\":\"left\",\"y\":0,\"yanchor\":\"top\"}],\"margin\":{\"r\":0,\"t\":50,\"l\":0,\"b\":0}},                        {\"responsive\": true}                    ).then(function(){\n",
       "                            Plotly.addFrames('79195eab-27bf-4d6c-b2e3-c2c3f50c019a', [{\"data\":[{\"coloraxis\":\"coloraxis\",\"geo\":\"geo\",\"hovertemplate\":\"<b>%{hovertext}</b><br><br>years=2000<br>Country=%{location}<br>core_inflation_rate=%{z}<extra></extra>\",\"hovertext\":[\"Austria\",\"Belgium\",\"Bulgaria\",\"Cyprus\",\"Czech Republic\",\"Germany\",\"Denmark\",\"Spain\",\"Estonia\",\"Finland\",\"France\",\"Greece\",\"Croatia\",\"Hungary\",\"Ireland\",\"Italy\",\"Lithuania\",\"Luxembourg\",\"Latvia\",\"Malta\",\"Netherlands\",\"Poland\",\"Portugal\",\"Romania\",\"Slovakia\",\"Slovenia\",\"Sweden\"],\"locationmode\":\"country names\",\"locations\":[\"Austria\",\"Belgium\",\"Bulgaria\",\"Cyprus\",\"Czech Republic\",\"Germany\",\"Denmark\",\"Spain\",\"Estonia\",\"Finland\",\"France\",\"Greece\",\"Croatia\",\"Hungary\",\"Ireland\",\"Italy\",\"Lithuania\",\"Luxembourg\",\"Latvia\",\"Malta\",\"Netherlands\",\"Poland\",\"Portugal\",\"Romania\",\"Slovakia\",\"Slovenia\",\"Sweden\"],\"name\":\"\",\"z\":[1.66,1.83,1.13,2.83,1.94,0.83,2.16,43.94,3.89,2.56,0.79,2.16,2.82,8.15,5.67,9.69,-1.03,31.07,0.74,2.91,2.14,9.18,2.84,null,9.83,7.27,0.34],\"type\":\"choropleth\"}],\"name\":\"2000\"},{\"data\":[{\"coloraxis\":\"coloraxis\",\"geo\":\"geo\",\"hovertemplate\":\"<b>%{hovertext}</b><br><br>years=2001<br>Country=%{location}<br>core_inflation_rate=%{z}<extra></extra>\",\"hovertext\":[\"Austria\",\"Belgium\",\"Bulgaria\",\"Cyprus\",\"Czech Republic\",\"Germany\",\"Denmark\",\"Spain\",\"Estonia\",\"Finland\",\"France\",\"Greece\",\"Croatia\",\"Hungary\",\"Ireland\",\"Italy\",\"Lithuania\",\"Luxembourg\",\"Latvia\",\"Malta\",\"Netherlands\",\"Poland\",\"Portugal\",\"Romania\",\"Slovakia\",\"Slovenia\",\"Sweden\"],\"locationmode\":\"country names\",\"locations\":[\"Austria\",\"Belgium\",\"Bulgaria\",\"Cyprus\",\"Czech Republic\",\"Germany\",\"Denmark\",\"Spain\",\"Estonia\",\"Finland\",\"France\",\"Greece\",\"Croatia\",\"Hungary\",\"Ireland\",\"Italy\",\"Lithuania\",\"Luxembourg\",\"Latvia\",\"Malta\",\"Netherlands\",\"Poland\",\"Portugal\",\"Romania\",\"Slovakia\",\"Slovenia\",\"Sweden\"],\"name\":\"\",\"z\":[2.61,2.15,2.07,1.59,2.45,0.83,2.2,-22.07,4.09,2.62,-21.75,3.35,3.16,9.4,-11.05,10.14,-0.04,-5.95,0.62,2.28,3.62,5.72,3.54,null,7.01,7.76,1.84],\"type\":\"choropleth\"}],\"name\":\"2001\"},{\"data\":[{\"coloraxis\":\"coloraxis\",\"geo\":\"geo\",\"hovertemplate\":\"<b>%{hovertext}</b><br><br>years=2002<br>Country=%{location}<br>core_inflation_rate=%{z}<extra></extra>\",\"hovertext\":[\"Austria\",\"Belgium\",\"Bulgaria\",\"Cyprus\",\"Czech Republic\",\"Germany\",\"Denmark\",\"Spain\",\"Estonia\",\"Finland\",\"France\",\"Greece\",\"Croatia\",\"Hungary\",\"Ireland\",\"Italy\",\"Lithuania\",\"Luxembourg\",\"Latvia\",\"Malta\",\"Netherlands\",\"Poland\",\"Portugal\",\"Romania\",\"Slovakia\",\"Slovenia\",\"Sweden\"],\"locationmode\":\"country names\",\"locations\":[\"Austria\",\"Belgium\",\"Bulgaria\",\"Cyprus\",\"Czech Republic\",\"Germany\",\"Denmark\",\"Spain\",\"Estonia\",\"Finland\",\"France\",\"Greece\",\"Croatia\",\"Hungary\",\"Ireland\",\"Italy\",\"Lithuania\",\"Luxembourg\",\"Latvia\",\"Malta\",\"Netherlands\",\"Poland\",\"Portugal\",\"Romania\",\"Slovakia\",\"Slovenia\",\"Sweden\"],\"name\":\"\",\"z\":[2.16,-8.18,2.06,2.1,0.56,1.56,2.52,2.84,2.92,1.54,1.79,3.42,2.91,5.84,17.0,-22.89,0.48,-27.15,1.64,2.74,3.39,2.69,4.76,null,4.02,7.95,1.99],\"type\":\"choropleth\"}],\"name\":\"2002\"},{\"data\":[{\"coloraxis\":\"coloraxis\",\"geo\":\"geo\",\"hovertemplate\":\"<b>%{hovertext}</b><br><br>years=2003<br>Country=%{location}<br>core_inflation_rate=%{z}<extra></extra>\",\"hovertext\":[\"Austria\",\"Belgium\",\"Bulgaria\",\"Cyprus\",\"Czech Republic\",\"Germany\",\"Denmark\",\"Spain\",\"Estonia\",\"Finland\",\"France\",\"Greece\",\"Croatia\",\"Hungary\",\"Ireland\",\"Italy\",\"Lithuania\",\"Luxembourg\",\"Latvia\",\"Malta\",\"Netherlands\",\"Poland\",\"Portugal\",\"Romania\",\"Slovakia\",\"Slovenia\",\"Sweden\"],\"locationmode\":\"country names\",\"locations\":[\"Austria\",\"Belgium\",\"Bulgaria\",\"Cyprus\",\"Czech Republic\",\"Germany\",\"Denmark\",\"Spain\",\"Estonia\",\"Finland\",\"France\",\"Greece\",\"Croatia\",\"Hungary\",\"Ireland\",\"Italy\",\"Lithuania\",\"Luxembourg\",\"Latvia\",\"Malta\",\"Netherlands\",\"Poland\",\"Portugal\",\"Romania\",\"Slovakia\",\"Slovenia\",\"Sweden\"],\"name\":\"\",\"z\":[1.41,24.44,1.67,3.12,-0.01,0.94,2.32,2.9,2.41,0.61,2.1,5.93,1.82,4.53,3.92,2.48,0.74,28.19,0.76,1.86,2.09,0.73,3.36,null,3.45,5.84,1.09],\"type\":\"choropleth\"}],\"name\":\"2003\"},{\"data\":[{\"coloraxis\":\"coloraxis\",\"geo\":\"geo\",\"hovertemplate\":\"<b>%{hovertext}</b><br><br>years=2004<br>Country=%{location}<br>core_inflation_rate=%{z}<extra></extra>\",\"hovertext\":[\"Austria\",\"Belgium\",\"Bulgaria\",\"Cyprus\",\"Czech Republic\",\"Germany\",\"Denmark\",\"Spain\",\"Estonia\",\"Finland\",\"France\",\"Greece\",\"Croatia\",\"Hungary\",\"Ireland\",\"Italy\",\"Lithuania\",\"Luxembourg\",\"Latvia\",\"Malta\",\"Netherlands\",\"Poland\",\"Portugal\",\"Romania\",\"Slovakia\",\"Slovenia\",\"Sweden\"],\"locationmode\":\"country names\",\"locations\":[\"Austria\",\"Belgium\",\"Bulgaria\",\"Cyprus\",\"Czech Republic\",\"Germany\",\"Denmark\",\"Spain\",\"Estonia\",\"Finland\",\"France\",\"Greece\",\"Croatia\",\"Hungary\",\"Ireland\",\"Italy\",\"Lithuania\",\"Luxembourg\",\"Latvia\",\"Malta\",\"Netherlands\",\"Poland\",\"Portugal\",\"Romania\",\"Slovakia\",\"Slovenia\",\"Sweden\"],\"name\":\"\",\"z\":[1.78,1.87,1.42,0.81,1.5,1.71,1.3,35.36,1.22,-0.21,2.17,3.18,2.28,5.7,2.37,2.13,0.65,-19.78,4.42,2.9,1.62,1.75,2.51,null,3.21,3.15,0.18],\"type\":\"choropleth\"}],\"name\":\"2004\"},{\"data\":[{\"coloraxis\":\"coloraxis\",\"geo\":\"geo\",\"hovertemplate\":\"<b>%{hovertext}</b><br><br>years=2005<br>Country=%{location}<br>core_inflation_rate=%{z}<extra></extra>\",\"hovertext\":[\"Austria\",\"Belgium\",\"Bulgaria\",\"Cyprus\",\"Czech Republic\",\"Germany\",\"Denmark\",\"Spain\",\"Estonia\",\"Finland\",\"France\",\"Greece\",\"Croatia\",\"Hungary\",\"Ireland\",\"Italy\",\"Lithuania\",\"Luxembourg\",\"Latvia\",\"Malta\",\"Netherlands\",\"Poland\",\"Portugal\",\"Romania\",\"Slovakia\",\"Slovenia\",\"Sweden\"],\"locationmode\":\"country names\",\"locations\":[\"Austria\",\"Belgium\",\"Bulgaria\",\"Cyprus\",\"Czech Republic\",\"Germany\",\"Denmark\",\"Spain\",\"Estonia\",\"Finland\",\"France\",\"Greece\",\"Croatia\",\"Hungary\",\"Ireland\",\"Italy\",\"Lithuania\",\"Luxembourg\",\"Latvia\",\"Malta\",\"Netherlands\",\"Poland\",\"Portugal\",\"Romania\",\"Slovakia\",\"Slovenia\",\"Sweden\"],\"name\":\"\",\"z\":[1.69,2.14,1.37,0.79,0.49,1.06,1.38,2.48,1.87,0.19,1.54,3.16,1.96,2.06,2.45,2.05,1.17,27.67,4.32,1.87,1.33,1.34,-17.32,null,1.82,1.14,0.01],\"type\":\"choropleth\"}],\"name\":\"2005\"},{\"data\":[{\"coloraxis\":\"coloraxis\",\"geo\":\"geo\",\"hovertemplate\":\"<b>%{hovertext}</b><br><br>years=2006<br>Country=%{location}<br>core_inflation_rate=%{z}<extra></extra>\",\"hovertext\":[\"Austria\",\"Belgium\",\"Bulgaria\",\"Cyprus\",\"Czech Republic\",\"Germany\",\"Denmark\",\"Spain\",\"Estonia\",\"Finland\",\"France\",\"Greece\",\"Croatia\",\"Hungary\",\"Ireland\",\"Italy\",\"Lithuania\",\"Luxembourg\",\"Latvia\",\"Malta\",\"Netherlands\",\"Poland\",\"Portugal\",\"Romania\",\"Slovakia\",\"Slovenia\",\"Sweden\"],\"locationmode\":\"country names\",\"locations\":[\"Austria\",\"Belgium\",\"Bulgaria\",\"Cyprus\",\"Czech Republic\",\"Germany\",\"Denmark\",\"Spain\",\"Estonia\",\"Finland\",\"France\",\"Greece\",\"Croatia\",\"Hungary\",\"Ireland\",\"Italy\",\"Lithuania\",\"Luxembourg\",\"Latvia\",\"Malta\",\"Netherlands\",\"Poland\",\"Portugal\",\"Romania\",\"Slovakia\",\"Slovenia\",\"Sweden\"],\"name\":\"\",\"z\":[0.92,0.61,1.62,0.76,0.67,1.13,1.4,2.75,3.31,1.27,1.29,2.45,3.45,2.23,4.17,1.73,2.27,12.35,4.75,1.75,0.41,0.31,13.24,null,2.77,1.58,0.75],\"type\":\"choropleth\"}],\"name\":\"2006\"},{\"data\":[{\"coloraxis\":\"coloraxis\",\"geo\":\"geo\",\"hovertemplate\":\"<b>%{hovertext}</b><br><br>years=2007<br>Country=%{location}<br>core_inflation_rate=%{z}<extra></extra>\",\"hovertext\":[\"Austria\",\"Belgium\",\"Bulgaria\",\"Cyprus\",\"Czech Republic\",\"Germany\",\"Denmark\",\"Spain\",\"Estonia\",\"Finland\",\"France\",\"Greece\",\"Croatia\",\"Hungary\",\"Ireland\",\"Italy\",\"Lithuania\",\"Luxembourg\",\"Latvia\",\"Malta\",\"Netherlands\",\"Poland\",\"Portugal\",\"Romania\",\"Slovakia\",\"Slovenia\",\"Sweden\"],\"locationmode\":\"country names\",\"locations\":[\"Austria\",\"Belgium\",\"Bulgaria\",\"Cyprus\",\"Czech Republic\",\"Germany\",\"Denmark\",\"Spain\",\"Estonia\",\"Finland\",\"France\",\"Greece\",\"Croatia\",\"Hungary\",\"Ireland\",\"Italy\",\"Lithuania\",\"Luxembourg\",\"Latvia\",\"Malta\",\"Netherlands\",\"Poland\",\"Portugal\",\"Romania\",\"Slovakia\",\"Slovenia\",\"Sweden\"],\"name\":\"\",\"z\":[1.62,1.63,1.9,1.7,1.46,1.94,1.41,44.43,5.43,2.64,-11.35,2.74,3.23,5.3,5.87,1.91,5.08,2.12,8.45,0.76,1.47,1.08,2.35,null,2.68,3.79,2.56],\"type\":\"choropleth\"}],\"name\":\"2007\"},{\"data\":[{\"coloraxis\":\"coloraxis\",\"geo\":\"geo\",\"hovertemplate\":\"<b>%{hovertext}</b><br><br>years=2008<br>Country=%{location}<br>core_inflation_rate=%{z}<extra></extra>\",\"hovertext\":[\"Austria\",\"Belgium\",\"Bulgaria\",\"Cyprus\",\"Czech Republic\",\"Germany\",\"Denmark\",\"Spain\",\"Estonia\",\"Finland\",\"France\",\"Greece\",\"Croatia\",\"Hungary\",\"Ireland\",\"Italy\",\"Lithuania\",\"Luxembourg\",\"Latvia\",\"Malta\",\"Netherlands\",\"Poland\",\"Portugal\",\"Romania\",\"Slovakia\",\"Slovenia\",\"Sweden\"],\"locationmode\":\"country names\",\"locations\":[\"Austria\",\"Belgium\",\"Bulgaria\",\"Cyprus\",\"Czech Republic\",\"Germany\",\"Denmark\",\"Spain\",\"Estonia\",\"Finland\",\"France\",\"Greece\",\"Croatia\",\"Hungary\",\"Ireland\",\"Italy\",\"Lithuania\",\"Luxembourg\",\"Latvia\",\"Malta\",\"Netherlands\",\"Poland\",\"Portugal\",\"Romania\",\"Slovakia\",\"Slovenia\",\"Sweden\"],\"name\":\"\",\"z\":[1.94,1.94,2.72,2.69,2.11,1.44,13.46,1.04,6.46,2.55,14.63,6.95,3.45,5.08,3.26,35.2,8.98,1.99,12.16,3.86,2.2,2.48,1.99,7.16,3.86,4.95,2.07],\"type\":\"choropleth\"}],\"name\":\"2008\"},{\"data\":[{\"coloraxis\":\"coloraxis\",\"geo\":\"geo\",\"hovertemplate\":\"<b>%{hovertext}</b><br><br>years=2009<br>Country=%{location}<br>core_inflation_rate=%{z}<extra></extra>\",\"hovertext\":[\"Austria\",\"Belgium\",\"Bulgaria\",\"Cyprus\",\"Czech Republic\",\"Germany\",\"Denmark\",\"Spain\",\"Estonia\",\"Finland\",\"France\",\"Greece\",\"Croatia\",\"Hungary\",\"Ireland\",\"Italy\",\"Lithuania\",\"Luxembourg\",\"Latvia\",\"Malta\",\"Netherlands\",\"Poland\",\"Portugal\",\"Romania\",\"Slovakia\",\"Slovenia\",\"Sweden\"],\"locationmode\":\"country names\",\"locations\":[\"Austria\",\"Belgium\",\"Bulgaria\",\"Cyprus\",\"Czech Republic\",\"Germany\",\"Denmark\",\"Spain\",\"Estonia\",\"Finland\",\"France\",\"Greece\",\"Croatia\",\"Hungary\",\"Ireland\",\"Italy\",\"Lithuania\",\"Luxembourg\",\"Latvia\",\"Malta\",\"Netherlands\",\"Poland\",\"Portugal\",\"Romania\",\"Slovakia\",\"Slovenia\",\"Sweden\"],\"name\":\"\",\"z\":[1.77,1.94,2.03,2.14,-0.84,1.27,2.26,-3.83,1.87,0.4,-11.68,2.23,3.57,4.12,-4.34,-13.39,3.93,2.02,5.38,1.48,4.84,2.85,1.12,6.05,1.38,1.54,-0.95],\"type\":\"choropleth\"}],\"name\":\"2009\"},{\"data\":[{\"coloraxis\":\"coloraxis\",\"geo\":\"geo\",\"hovertemplate\":\"<b>%{hovertext}</b><br><br>years=2010<br>Country=%{location}<br>core_inflation_rate=%{z}<extra></extra>\",\"hovertext\":[\"Austria\",\"Belgium\",\"Bulgaria\",\"Cyprus\",\"Czech Republic\",\"Germany\",\"Denmark\",\"Spain\",\"Estonia\",\"Finland\",\"France\",\"Greece\",\"Croatia\",\"Hungary\",\"Ireland\",\"Italy\",\"Lithuania\",\"Luxembourg\",\"Latvia\",\"Malta\",\"Netherlands\",\"Poland\",\"Portugal\",\"Romania\",\"Slovakia\",\"Slovenia\",\"Sweden\"],\"locationmode\":\"country names\",\"locations\":[\"Austria\",\"Belgium\",\"Bulgaria\",\"Cyprus\",\"Czech Republic\",\"Germany\",\"Denmark\",\"Spain\",\"Estonia\",\"Finland\",\"France\",\"Greece\",\"Croatia\",\"Hungary\",\"Ireland\",\"Italy\",\"Lithuania\",\"Luxembourg\",\"Latvia\",\"Malta\",\"Netherlands\",\"Poland\",\"Portugal\",\"Romania\",\"Slovakia\",\"Slovenia\",\"Sweden\"],\"name\":\"\",\"z\":[1.41,1.4,1.14,0.4,0.09,0.71,1.84,0.57,0.75,1.19,17.02,3.39,0.48,2.99,-1.22,13.78,0.07,1.58,-2.19,1.05,1.68,1.67,0.99,5.66,0.79,0.3,0.51],\"type\":\"choropleth\"}],\"name\":\"2010\"},{\"data\":[{\"coloraxis\":\"coloraxis\",\"geo\":\"geo\",\"hovertemplate\":\"<b>%{hovertext}</b><br><br>years=2011<br>Country=%{location}<br>core_inflation_rate=%{z}<extra></extra>\",\"hovertext\":[\"Austria\",\"Belgium\",\"Bulgaria\",\"Cyprus\",\"Czech Republic\",\"Germany\",\"Denmark\",\"Spain\",\"Estonia\",\"Finland\",\"France\",\"Greece\",\"Croatia\",\"Hungary\",\"Ireland\",\"Italy\",\"Lithuania\",\"Luxembourg\",\"Latvia\",\"Malta\",\"Netherlands\",\"Poland\",\"Portugal\",\"Romania\",\"Slovakia\",\"Slovenia\",\"Sweden\"],\"locationmode\":\"country names\",\"locations\":[\"Austria\",\"Belgium\",\"Bulgaria\",\"Cyprus\",\"Czech Republic\",\"Germany\",\"Denmark\",\"Spain\",\"Estonia\",\"Finland\",\"France\",\"Greece\",\"Croatia\",\"Hungary\",\"Ireland\",\"Italy\",\"Lithuania\",\"Luxembourg\",\"Latvia\",\"Malta\",\"Netherlands\",\"Poland\",\"Portugal\",\"Romania\",\"Slovakia\",\"Slovenia\",\"Sweden\"],\"name\":\"\",\"z\":[2.35,1.81,1.79,1.76,1.07,0.92,1.81,1.3,2.3,2.04,1.1,1.88,0.6,2.73,26.63,-3.33,2.29,2.39,0.81,1.48,1.68,2.43,-1.11,4.31,1.36,0.85,3.01],\"type\":\"choropleth\"}],\"name\":\"2011\"},{\"data\":[{\"coloraxis\":\"coloraxis\",\"geo\":\"geo\",\"hovertemplate\":\"<b>%{hovertext}</b><br><br>years=2012<br>Country=%{location}<br>core_inflation_rate=%{z}<extra></extra>\",\"hovertext\":[\"Austria\",\"Belgium\",\"Bulgaria\",\"Cyprus\",\"Czech Republic\",\"Germany\",\"Denmark\",\"Spain\",\"Estonia\",\"Finland\",\"France\",\"Greece\",\"Croatia\",\"Hungary\",\"Ireland\",\"Italy\",\"Lithuania\",\"Luxembourg\",\"Latvia\",\"Malta\",\"Netherlands\",\"Poland\",\"Portugal\",\"Romania\",\"Slovakia\",\"Slovenia\",\"Sweden\"],\"locationmode\":\"country names\",\"locations\":[\"Austria\",\"Belgium\",\"Bulgaria\",\"Cyprus\",\"Czech Republic\",\"Germany\",\"Denmark\",\"Spain\",\"Estonia\",\"Finland\",\"France\",\"Greece\",\"Croatia\",\"Hungary\",\"Ireland\",\"Italy\",\"Lithuania\",\"Luxembourg\",\"Latvia\",\"Malta\",\"Netherlands\",\"Poland\",\"Portugal\",\"Romania\",\"Slovakia\",\"Slovenia\",\"Sweden\"],\"name\":\"\",\"z\":[2.09,2.24,2.06,1.7,0.78,1.28,1.9,24.55,2.2,2.27,1.35,0.2,0.96,5.07,-2.24,1.75,2.26,2.09,0.36,2.65,1.95,2.19,-20.14,2.81,2.56,1.72,0.87],\"type\":\"choropleth\"}],\"name\":\"2012\"},{\"data\":[{\"coloraxis\":\"coloraxis\",\"geo\":\"geo\",\"hovertemplate\":\"<b>%{hovertext}</b><br><br>years=2013<br>Country=%{location}<br>core_inflation_rate=%{z}<extra></extra>\",\"hovertext\":[\"Austria\",\"Belgium\",\"Bulgaria\",\"Cyprus\",\"Czech Republic\",\"Germany\",\"Denmark\",\"Spain\",\"Estonia\",\"Finland\",\"France\",\"Greece\",\"Croatia\",\"Hungary\",\"Ireland\",\"Italy\",\"Lithuania\",\"Luxembourg\",\"Latvia\",\"Malta\",\"Netherlands\",\"Poland\",\"Portugal\",\"Romania\",\"Slovakia\",\"Slovenia\",\"Sweden\"],\"locationmode\":\"country names\",\"locations\":[\"Austria\",\"Belgium\",\"Bulgaria\",\"Cyprus\",\"Czech Republic\",\"Germany\",\"Denmark\",\"Spain\",\"Estonia\",\"Finland\",\"France\",\"Greece\",\"Croatia\",\"Hungary\",\"Ireland\",\"Italy\",\"Lithuania\",\"Luxembourg\",\"Latvia\",\"Malta\",\"Netherlands\",\"Poland\",\"Portugal\",\"Romania\",\"Slovakia\",\"Slovenia\",\"Sweden\"],\"name\":\"\",\"z\":[2.07,1.35,1.79,0.4,0.06,1.26,1.21,1.08,1.41,0.98,0.87,-2.02,1.04,3.33,0.66,1.12,1.25,2.08,0.16,0.65,2.74,1.2,0.19,2.55,0.84,1.71,-0.24],\"type\":\"choropleth\"}],\"name\":\"2013\"},{\"data\":[{\"coloraxis\":\"coloraxis\",\"geo\":\"geo\",\"hovertemplate\":\"<b>%{hovertext}</b><br><br>years=2014<br>Country=%{location}<br>core_inflation_rate=%{z}<extra></extra>\",\"hovertext\":[\"Austria\",\"Belgium\",\"Bulgaria\",\"Cyprus\",\"Czech Republic\",\"Germany\",\"Denmark\",\"Spain\",\"Estonia\",\"Finland\",\"France\",\"Greece\",\"Croatia\",\"Hungary\",\"Ireland\",\"Italy\",\"Lithuania\",\"Luxembourg\",\"Latvia\",\"Malta\",\"Netherlands\",\"Poland\",\"Portugal\",\"Romania\",\"Slovakia\",\"Slovenia\",\"Sweden\"],\"locationmode\":\"country names\",\"locations\":[\"Austria\",\"Belgium\",\"Bulgaria\",\"Cyprus\",\"Czech Republic\",\"Germany\",\"Denmark\",\"Spain\",\"Estonia\",\"Finland\",\"France\",\"Greece\",\"Croatia\",\"Hungary\",\"Ireland\",\"Italy\",\"Lithuania\",\"Luxembourg\",\"Latvia\",\"Malta\",\"Netherlands\",\"Poland\",\"Portugal\",\"Romania\",\"Slovakia\",\"Slovenia\",\"Sweden\"],\"name\":\"\",\"z\":[1.98,1.57,1.58,0.23,0.75,1.37,0.87,-0.05,1.0,1.46,1.0,-1.24,0.44,2.17,0.93,0.83,1.0,1.31,1.83,1.68,1.48,0.64,0.07,0.98,0.28,0.46,-0.02],\"type\":\"choropleth\"}],\"name\":\"2014\"},{\"data\":[{\"coloraxis\":\"coloraxis\",\"geo\":\"geo\",\"hovertemplate\":\"<b>%{hovertext}</b><br><br>years=2015<br>Country=%{location}<br>core_inflation_rate=%{z}<extra></extra>\",\"hovertext\":[\"Austria\",\"Belgium\",\"Bulgaria\",\"Cyprus\",\"Czech Republic\",\"Germany\",\"Denmark\",\"Spain\",\"Estonia\",\"Finland\",\"France\",\"Greece\",\"Croatia\",\"Hungary\",\"Ireland\",\"Italy\",\"Lithuania\",\"Luxembourg\",\"Latvia\",\"Malta\",\"Netherlands\",\"Poland\",\"Portugal\",\"Romania\",\"Slovakia\",\"Slovenia\",\"Sweden\"],\"locationmode\":\"country names\",\"locations\":[\"Austria\",\"Belgium\",\"Bulgaria\",\"Cyprus\",\"Czech Republic\",\"Germany\",\"Denmark\",\"Spain\",\"Estonia\",\"Finland\",\"France\",\"Greece\",\"Croatia\",\"Hungary\",\"Ireland\",\"Italy\",\"Lithuania\",\"Luxembourg\",\"Latvia\",\"Malta\",\"Netherlands\",\"Poland\",\"Portugal\",\"Romania\",\"Slovakia\",\"Slovenia\",\"Sweden\"],\"name\":\"\",\"z\":[1.85,1.37,1.62,-0.34,0.15,1.67,-19.08,0.52,1.42,0.56,0.55,-1.01,0.73,1.21,-12.55,0.68,1.24,1.61,1.81,1.57,1.37,0.32,-24.85,-0.84,0.16,0.45,0.02],\"type\":\"choropleth\"}],\"name\":\"2015\"},{\"data\":[{\"coloraxis\":\"coloraxis\",\"geo\":\"geo\",\"hovertemplate\":\"<b>%{hovertext}</b><br><br>years=2016<br>Country=%{location}<br>core_inflation_rate=%{z}<extra></extra>\",\"hovertext\":[\"Austria\",\"Belgium\",\"Bulgaria\",\"Cyprus\",\"Czech Republic\",\"Germany\",\"Denmark\",\"Spain\",\"Estonia\",\"Finland\",\"France\",\"Greece\",\"Croatia\",\"Hungary\",\"Ireland\",\"Italy\",\"Lithuania\",\"Luxembourg\",\"Latvia\",\"Malta\",\"Netherlands\",\"Poland\",\"Portugal\",\"Romania\",\"Slovakia\",\"Slovenia\",\"Sweden\"],\"locationmode\":\"country names\",\"locations\":[\"Austria\",\"Belgium\",\"Bulgaria\",\"Cyprus\",\"Czech Republic\",\"Germany\",\"Denmark\",\"Spain\",\"Estonia\",\"Finland\",\"France\",\"Greece\",\"Croatia\",\"Hungary\",\"Ireland\",\"Italy\",\"Lithuania\",\"Luxembourg\",\"Latvia\",\"Malta\",\"Netherlands\",\"Poland\",\"Portugal\",\"Romania\",\"Slovakia\",\"Slovenia\",\"Sweden\"],\"name\":\"\",\"z\":[1.47,1.96,2.02,-0.66,0.51,1.21,2.05,0.84,1.33,0.96,0.42,-1.13,0.14,1.39,0.96,-28.62,2.23,0.95,1.55,1.17,32.3,-0.25,0.74,-0.79,0.21,0.62,0.9],\"type\":\"choropleth\"}],\"name\":\"2016\"},{\"data\":[{\"coloraxis\":\"coloraxis\",\"geo\":\"geo\",\"hovertemplate\":\"<b>%{hovertext}</b><br><br>years=2017<br>Country=%{location}<br>core_inflation_rate=%{z}<extra></extra>\",\"hovertext\":[\"Austria\",\"Belgium\",\"Bulgaria\",\"Cyprus\",\"Czech Republic\",\"Germany\",\"Denmark\",\"Spain\",\"Estonia\",\"Finland\",\"France\",\"Greece\",\"Croatia\",\"Hungary\",\"Ireland\",\"Italy\",\"Lithuania\",\"Luxembourg\",\"Latvia\",\"Malta\",\"Netherlands\",\"Poland\",\"Portugal\",\"Romania\",\"Slovakia\",\"Slovenia\",\"Sweden\"],\"locationmode\":\"country names\",\"locations\":[\"Austria\",\"Belgium\",\"Bulgaria\",\"Cyprus\",\"Czech Republic\",\"Germany\",\"Denmark\",\"Spain\",\"Estonia\",\"Finland\",\"France\",\"Greece\",\"Croatia\",\"Hungary\",\"Ireland\",\"Italy\",\"Lithuania\",\"Luxembourg\",\"Latvia\",\"Malta\",\"Netherlands\",\"Poland\",\"Portugal\",\"Romania\",\"Slovakia\",\"Slovenia\",\"Sweden\"],\"name\":\"\",\"z\":[1.97,1.52,1.59,-0.03,2.57,1.23,14.47,1.13,2.12,0.66,8.94,0.45,0.71,2.32,0.33,0.69,3.89,1.37,1.6,1.03,0.95,0.78,1.09,1.61,1.49,1.06,1.37],\"type\":\"choropleth\"}],\"name\":\"2017\"},{\"data\":[{\"coloraxis\":\"coloraxis\",\"geo\":\"geo\",\"hovertemplate\":\"<b>%{hovertext}</b><br><br>years=2018<br>Country=%{location}<br>core_inflation_rate=%{z}<extra></extra>\",\"hovertext\":[\"Austria\",\"Belgium\",\"Bulgaria\",\"Cyprus\",\"Czech Republic\",\"Germany\",\"Denmark\",\"Spain\",\"Estonia\",\"Finland\",\"France\",\"Greece\",\"Croatia\",\"Hungary\",\"Ireland\",\"Italy\",\"Lithuania\",\"Luxembourg\",\"Latvia\",\"Malta\",\"Netherlands\",\"Poland\",\"Portugal\",\"Romania\",\"Slovakia\",\"Slovenia\",\"Sweden\"],\"locationmode\":\"country names\",\"locations\":[\"Austria\",\"Belgium\",\"Bulgaria\",\"Cyprus\",\"Czech Republic\",\"Germany\",\"Denmark\",\"Spain\",\"Estonia\",\"Finland\",\"France\",\"Greece\",\"Croatia\",\"Hungary\",\"Ireland\",\"Italy\",\"Lithuania\",\"Luxembourg\",\"Latvia\",\"Malta\",\"Netherlands\",\"Poland\",\"Portugal\",\"Romania\",\"Slovakia\",\"Slovenia\",\"Sweden\"],\"name\":\"\",\"z\":[1.81,1.31,1.6,0.06,1.86,1.31,0.65,0.93,2.3,0.68,1.01,22.3,0.86,2.48,0.14,0.61,2.18,0.88,2.25,1.79,1.31,0.74,0.67,3.1,2.48,1.2,1.09],\"type\":\"choropleth\"}],\"name\":\"2018\"},{\"data\":[{\"coloraxis\":\"coloraxis\",\"geo\":\"geo\",\"hovertemplate\":\"<b>%{hovertext}</b><br><br>years=2019<br>Country=%{location}<br>core_inflation_rate=%{z}<extra></extra>\",\"hovertext\":[\"Austria\",\"Belgium\",\"Bulgaria\",\"Cyprus\",\"Czech Republic\",\"Germany\",\"Denmark\",\"Spain\",\"Estonia\",\"Finland\",\"France\",\"Greece\",\"Croatia\",\"Hungary\",\"Ireland\",\"Italy\",\"Lithuania\",\"Luxembourg\",\"Latvia\",\"Malta\",\"Netherlands\",\"Poland\",\"Portugal\",\"Romania\",\"Slovakia\",\"Slovenia\",\"Sweden\"],\"locationmode\":\"country names\",\"locations\":[\"Austria\",\"Belgium\",\"Bulgaria\",\"Cyprus\",\"Czech Republic\",\"Germany\",\"Denmark\",\"Spain\",\"Estonia\",\"Finland\",\"France\",\"Greece\",\"Croatia\",\"Hungary\",\"Ireland\",\"Italy\",\"Lithuania\",\"Luxembourg\",\"Latvia\",\"Malta\",\"Netherlands\",\"Poland\",\"Portugal\",\"Romania\",\"Slovakia\",\"Slovenia\",\"Sweden\"],\"name\":\"\",\"z\":[1.65,3.77,1.55,0.63,2.22,1.49,0.76,0.96,2.12,0.83,0.74,-2.43,0.91,3.78,1.13,0.6,2.41,1.8,2.78,1.36,7.17,1.89,0.49,3.59,1.92,1.69,1.52],\"type\":\"choropleth\"}],\"name\":\"2019\"},{\"data\":[{\"coloraxis\":\"coloraxis\",\"geo\":\"geo\",\"hovertemplate\":\"<b>%{hovertext}</b><br><br>years=2020<br>Country=%{location}<br>core_inflation_rate=%{z}<extra></extra>\",\"hovertext\":[\"Austria\",\"Belgium\",\"Bulgaria\",\"Cyprus\",\"Czech Republic\",\"Germany\",\"Denmark\",\"Spain\",\"Estonia\",\"Finland\",\"France\",\"Greece\",\"Croatia\",\"Hungary\",\"Ireland\",\"Italy\",\"Lithuania\",\"Luxembourg\",\"Latvia\",\"Malta\",\"Netherlands\",\"Poland\",\"Portugal\",\"Romania\",\"Slovakia\",\"Slovenia\",\"Sweden\"],\"locationmode\":\"country names\",\"locations\":[\"Austria\",\"Belgium\",\"Bulgaria\",\"Cyprus\",\"Czech Republic\",\"Germany\",\"Denmark\",\"Spain\",\"Estonia\",\"Finland\",\"France\",\"Greece\",\"Croatia\",\"Hungary\",\"Ireland\",\"Italy\",\"Lithuania\",\"Luxembourg\",\"Latvia\",\"Malta\",\"Netherlands\",\"Poland\",\"Portugal\",\"Romania\",\"Slovakia\",\"Slovenia\",\"Sweden\"],\"name\":\"\",\"z\":[1.9,1.48,1.5,-0.62,3.63,0.96,0.93,0.57,0.15,0.5,0.97,-0.67,1.0,3.05,0.27,0.49,3.06,1.29,1.22,0.77,2.17,3.88,-0.04,4.04,2.16,0.69,1.19],\"type\":\"choropleth\"}],\"name\":\"2020\"},{\"data\":[{\"coloraxis\":\"coloraxis\",\"geo\":\"geo\",\"hovertemplate\":\"<b>%{hovertext}</b><br><br>years=2021<br>Country=%{location}<br>core_inflation_rate=%{z}<extra></extra>\",\"hovertext\":[\"Austria\",\"Belgium\",\"Bulgaria\",\"Cyprus\",\"Czech Republic\",\"Germany\",\"Denmark\",\"Spain\",\"Estonia\",\"Finland\",\"France\",\"Greece\",\"Croatia\",\"Hungary\",\"Ireland\",\"Italy\",\"Lithuania\",\"Luxembourg\",\"Latvia\",\"Malta\",\"Netherlands\",\"Poland\",\"Portugal\",\"Romania\",\"Slovakia\",\"Slovenia\",\"Sweden\"],\"locationmode\":\"country names\",\"locations\":[\"Austria\",\"Belgium\",\"Bulgaria\",\"Cyprus\",\"Czech Republic\",\"Germany\",\"Denmark\",\"Spain\",\"Estonia\",\"Finland\",\"France\",\"Greece\",\"Croatia\",\"Hungary\",\"Ireland\",\"Italy\",\"Lithuania\",\"Luxembourg\",\"Latvia\",\"Malta\",\"Netherlands\",\"Poland\",\"Portugal\",\"Romania\",\"Slovakia\",\"Slovenia\",\"Sweden\"],\"name\":\"\",\"z\":[2.15,1.61,1.39,1.03,4.99,2.13,1.2,0.57,2.78,1.73,0.96,-0.62,1.61,4.55,1.8,0.8,3.5,1.57,1.88,0.65,1.92,4.1,0.75,4.72,4.11,1.08,1.3],\"type\":\"choropleth\"}],\"name\":\"2021\"},{\"data\":[{\"coloraxis\":\"coloraxis\",\"geo\":\"geo\",\"hovertemplate\":\"<b>%{hovertext}</b><br><br>years=2022<br>Country=%{location}<br>core_inflation_rate=%{z}<extra></extra>\",\"hovertext\":[\"Austria\",\"Belgium\",\"Bulgaria\",\"Cyprus\",\"Czech Republic\",\"Germany\",\"Denmark\",\"Spain\",\"Estonia\",\"Finland\",\"France\",\"Greece\",\"Croatia\",\"Hungary\",\"Ireland\",\"Italy\",\"Lithuania\",\"Luxembourg\",\"Latvia\",\"Malta\",\"Netherlands\",\"Poland\",\"Portugal\",\"Romania\",\"Slovakia\",\"Slovenia\",\"Sweden\"],\"locationmode\":\"country names\",\"locations\":[\"Austria\",\"Belgium\",\"Bulgaria\",\"Cyprus\",\"Czech Republic\",\"Germany\",\"Denmark\",\"Spain\",\"Estonia\",\"Finland\",\"France\",\"Greece\",\"Croatia\",\"Hungary\",\"Ireland\",\"Italy\",\"Lithuania\",\"Luxembourg\",\"Latvia\",\"Malta\",\"Netherlands\",\"Poland\",\"Portugal\",\"Romania\",\"Slovakia\",\"Slovenia\",\"Sweden\"],\"name\":\"\",\"z\":[5.28,4.42,null,null,12.18,3.72,3.87,3.62,9.5,3.97,2.72,3.17,6.12,9.8,4.67,2.79,10.05,4.04,6.85,null,4.08,8.85,5.45,8.89,10.4,5.65,5.47],\"type\":\"choropleth\"}],\"name\":\"2022\"}]);\n",
       "                        }).then(function(){\n",
       "                            \n",
       "var gd = document.getElementById('79195eab-27bf-4d6c-b2e3-c2c3f50c019a');\n",
       "var x = new MutationObserver(function (mutations, observer) {{\n",
       "        var display = window.getComputedStyle(gd).display;\n",
       "        if (!display || display === 'none') {{\n",
       "            console.log([gd, 'removed!']);\n",
       "            Plotly.purge(gd);\n",
       "            observer.disconnect();\n",
       "        }}\n",
       "}});\n",
       "\n",
       "// Listen for the removal of the full notebook cells\n",
       "var notebookContainer = gd.closest('#notebook-container');\n",
       "if (notebookContainer) {{\n",
       "    x.observe(notebookContainer, {childList: true});\n",
       "}}\n",
       "\n",
       "// Listen for the clearing of the current output cell\n",
       "var outputEl = gd.closest('.output');\n",
       "if (outputEl) {{\n",
       "    x.observe(outputEl, {childList: true});\n",
       "}}\n",
       "\n",
       "                        })                };                });            </script>        </div>"
      ]
     },
     "metadata": {},
     "output_type": "display_data"
    }
   ],
   "source": [
    "import plotly.express as px\n",
    "\n",
    "fig = px.choropleth(eu_core_t, locations=\"Country\",\n",
    "                    locationmode='country names',\n",
    "                    color=\"core_inflation_rate\",\n",
    "                    hover_name=\"Country\",\n",
    "                    animation_frame=\"years\",\n",
    "                    title = \"EU Inflation Rates 2000-2022\",\n",
    "                    color_continuous_scale=\"matter\",\n",
    "                    range_color=[-15, 30],\n",
    "                    projection = 'equirectangular', scope= 'europe')\n",
    "\n",
    "# Update the layout\n",
    "fig.update_layout(margin={'r':0,'t':50,'l':0,'b':0})\n",
    "\n",
    "# Show the figure\n",
    "fig.show()\n",
    "\n"
   ]
  },
  {
   "cell_type": "markdown",
   "id": "002e54c4",
   "metadata": {},
   "source": [
    "### Replacing missing data with mean values"
   ]
  },
  {
   "cell_type": "code",
   "execution_count": 206,
   "id": "eea35a8e",
   "metadata": {},
   "outputs": [
    {
     "name": "stdout",
     "output_type": "stream",
     "text": [
      "Country\n",
      "Bulgaria    1\n",
      "Cyprus      1\n",
      "Malta       1\n",
      "Romania     8\n",
      "dtype: int64\n"
     ]
    }
   ],
   "source": [
    "\n",
    "# group the NaN values by Country\n",
    "nan_groups = eu_core_t[eu_core_t['core_inflation_rate'].isna()].groupby('Country')\n",
    "\n",
    "# count the number of NaN values in each group\n",
    "nan_counts = nan_groups.size()\n",
    "\n",
    "print(nan_counts)"
   ]
  },
  {
   "cell_type": "code",
   "execution_count": 207,
   "id": "8a48ab7e",
   "metadata": {},
   "outputs": [],
   "source": [
    "# Define a list of EU countries\n",
    "euro_zone = ['Austria', 'Belgium', 'Bulgaria', 'Croatia', 'Cyprus',\n",
    "                'Czech Republic', 'Denmark', 'Estonia', 'Finland', 'France',\n",
    "                'Germany', 'Greece', 'Hungary', 'Ireland', 'Italy',\n",
    "                'Latvia', 'Lithuania', 'Luxembourg', 'Malta', 'Netherlands',\n",
    "                'Poland', 'Portugal', 'Romania', 'Slovakia', 'Slovenia',\n",
    "                'Spain', 'Sweden']\n",
    "\n",
    "# Define a list of EU countries but not in the Eurozone\n",
    "non_euro_zone= ['Bulgaria', 'Croatia', 'Czech Republic', 'Denmark', 'Hungary', 'Poland', 'Romania', 'Sweden']\n",
    "\n",
    "# Define a list of Nordic countries\n",
    "nordic_noneuro= ['Denmark', 'Finland', 'Norway', 'Sweden', 'Iceland']"
   ]
  },
  {
   "cell_type": "code",
   "execution_count": 208,
   "id": "600b1bd7",
   "metadata": {},
   "outputs": [],
   "source": [
    "\n",
    "# Filter the data to include only the EU countries and years \n",
    "eu_core_t = df_core_t[(df_core_t['Country'].isin(eu_countries)) & (df_core_t['years'].astype(int) >= 2000)]\n",
    "\n",
    "\n",
    "# Filter the data to include EU countries but not in the Eurozone\n",
    "non_euro_zone_t = df_core_t[(df_core_t['Country'].isin(non_euro_zone)) & (df_core_t['years'].astype(int) >= 2000)]\n",
    "\n",
    "\n",
    "# Filter the data to include Nordic countries\n",
    "nordic_t = df_core_t[(df_core_t['Country'].isin(nordic_noneuro)) & (df_core_t['years'].astype(int) >= 2000)]"
   ]
  },
  {
   "cell_type": "code",
   "execution_count": 209,
   "id": "85b123e0",
   "metadata": {},
   "outputs": [
    {
     "name": "stdout",
     "output_type": "stream",
     "text": [
      "Country\n",
      "Bulgaria    1\n",
      "Romania     8\n",
      "dtype: int64\n",
      "Series([], dtype: int64)\n"
     ]
    }
   ],
   "source": [
    "# Check the nan values for non_euro_zone and nordic countries\n",
    "nan_groups_noneuro = non_euro_zone_t[non_euro_zone_t['core_inflation_rate'].isna()].groupby('Country')\n",
    "nan_groups_nordic = nordic_t[nordic_t['core_inflation_rate'].isna()].groupby('Country')\n",
    "\n",
    "nan_counts_noneuro = nan_groups_noneuro.size()\n",
    "nan_counts_nordic = nan_groups_nordic.size()\n",
    "\n",
    "print(nan_counts_noneuro)\n",
    "print(nan_counts_nordic )"
   ]
  },
  {
   "cell_type": "code",
   "execution_count": 212,
   "id": "3b60922d",
   "metadata": {},
   "outputs": [
    {
     "name": "stderr",
     "output_type": "stream",
     "text": [
      "/var/folders/lv/vs66hkx54hx22vp47_cc75wh0000gn/T/ipykernel_97330/964198516.py:3: SettingWithCopyWarning:\n",
      "\n",
      "\n",
      "A value is trying to be set on a copy of a slice from a DataFrame.\n",
      "Try using .loc[row_indexer,col_indexer] = value instead\n",
      "\n",
      "See the caveats in the documentation: https://pandas.pydata.org/pandas-docs/stable/user_guide/indexing.html#returning-a-view-versus-a-copy\n",
      "\n"
     ]
    },
    {
     "data": {
      "text/html": [
       "<div>\n",
       "<style scoped>\n",
       "    .dataframe tbody tr th:only-of-type {\n",
       "        vertical-align: middle;\n",
       "    }\n",
       "\n",
       "    .dataframe tbody tr th {\n",
       "        vertical-align: top;\n",
       "    }\n",
       "\n",
       "    .dataframe thead th {\n",
       "        text-align: right;\n",
       "    }\n",
       "</style>\n",
       "<table border=\"1\" class=\"dataframe\">\n",
       "  <thead>\n",
       "    <tr style=\"text-align: right;\">\n",
       "      <th></th>\n",
       "      <th>Country</th>\n",
       "      <th>years</th>\n",
       "      <th>core_inflation_rate</th>\n",
       "    </tr>\n",
       "  </thead>\n",
       "  <tbody>\n",
       "    <tr>\n",
       "      <th>3393</th>\n",
       "      <td>Austria</td>\n",
       "      <td>2000</td>\n",
       "      <td>1.66</td>\n",
       "    </tr>\n",
       "    <tr>\n",
       "      <th>3396</th>\n",
       "      <td>Belgium</td>\n",
       "      <td>2000</td>\n",
       "      <td>1.83</td>\n",
       "    </tr>\n",
       "    <tr>\n",
       "      <th>3397</th>\n",
       "      <td>Bulgaria</td>\n",
       "      <td>2000</td>\n",
       "      <td>1.13</td>\n",
       "    </tr>\n",
       "    <tr>\n",
       "      <th>3407</th>\n",
       "      <td>Cyprus</td>\n",
       "      <td>2000</td>\n",
       "      <td>2.83</td>\n",
       "    </tr>\n",
       "    <tr>\n",
       "      <th>3408</th>\n",
       "      <td>Czech Republic</td>\n",
       "      <td>2000</td>\n",
       "      <td>1.94</td>\n",
       "    </tr>\n",
       "  </tbody>\n",
       "</table>\n",
       "</div>"
      ],
      "text/plain": [
       "             Country years  core_inflation_rate\n",
       "3393         Austria  2000                 1.66\n",
       "3396         Belgium  2000                 1.83\n",
       "3397        Bulgaria  2000                 1.13\n",
       "3407          Cyprus  2000                 2.83\n",
       "3408  Czech Republic  2000                 1.94"
      ]
     },
     "execution_count": 212,
     "metadata": {},
     "output_type": "execute_result"
    }
   ],
   "source": [
    "mean_rates = eu_core_t.groupby('Country')['core_inflation_rate'].mean()\n",
    "\n",
    "eu_core_t.loc[:, 'core_inflation_rate'] = eu_core_t.groupby(\n",
    "    'Country')['core_inflation_rate'].apply(\n",
    "    lambda x: x.fillna(x.mean())\n",
    ")\n",
    "\n",
    "eu_core_t.head()"
   ]
  },
  {
   "cell_type": "code",
   "execution_count": 213,
   "id": "daad06fb",
   "metadata": {
    "scrolled": true
   },
   "outputs": [
    {
     "name": "stderr",
     "output_type": "stream",
     "text": [
      "/var/folders/lv/vs66hkx54hx22vp47_cc75wh0000gn/T/ipykernel_97330/110949905.py:4: SettingWithCopyWarning:\n",
      "\n",
      "\n",
      "A value is trying to be set on a copy of a slice from a DataFrame.\n",
      "Try using .loc[row_indexer,col_indexer] = value instead\n",
      "\n",
      "See the caveats in the documentation: https://pandas.pydata.org/pandas-docs/stable/user_guide/indexing.html#returning-a-view-versus-a-copy\n",
      "\n"
     ]
    }
   ],
   "source": [
    "## Replace the nan values with the mean value \n",
    "mean_rates_ = non_euro_zone_t.groupby('Country')['core_inflation_rate'].mean()\n",
    "\n",
    "non_euro_zone_t['core_inflation_rate'] = non_euro_zone_t.groupby(\n",
    "    'Country')['core_inflation_rate'].apply(\n",
    "    lambda x: x.fillna(x.mean()\n",
    "                      )\n",
    ")\n"
   ]
  },
  {
   "cell_type": "markdown",
   "id": "fb8f05b2",
   "metadata": {},
   "source": [
    "### Plot Non-Eurozone EU Countries Inflation Rates Comparison 2000-2022"
   ]
  },
  {
   "cell_type": "code",
   "execution_count": 215,
   "id": "c323e901",
   "metadata": {},
   "outputs": [
    {
     "data": {
      "application/vnd.plotly.v1+json": {
       "config": {
        "plotlyServerURL": "https://plot.ly"
       },
       "data": [
        {
         "hovertemplate": "Country=Bulgaria<br>years=%{x}<br>core_inflation_rate=%{y}<extra></extra>",
         "legendgroup": "Bulgaria",
         "line": {
          "color": "#636efa",
          "dash": "solid",
          "shape": "spline"
         },
         "marker": {
          "symbol": "circle"
         },
         "mode": "lines",
         "name": "Bulgaria",
         "orientation": "v",
         "showlegend": true,
         "type": "scatter",
         "x": [
          "2000",
          "2001",
          "2002",
          "2003",
          "2004",
          "2005",
          "2006",
          "2007",
          "2008",
          "2009",
          "2010",
          "2011",
          "2012",
          "2013",
          "2014",
          "2015",
          "2016",
          "2017",
          "2018",
          "2019",
          "2020",
          "2021",
          "2022"
         ],
         "xaxis": "x",
         "y": [
          1.13,
          2.07,
          2.06,
          1.67,
          1.42,
          1.37,
          1.62,
          1.9,
          2.72,
          2.03,
          1.14,
          1.79,
          2.06,
          1.79,
          1.58,
          1.62,
          2.02,
          1.59,
          1.6,
          1.55,
          1.5,
          1.39,
          1.71
         ],
         "yaxis": "y"
        },
        {
         "hovertemplate": "Country=Czech Republic<br>years=%{x}<br>core_inflation_rate=%{y}<extra></extra>",
         "legendgroup": "Czech Republic",
         "line": {
          "color": "#EF553B",
          "dash": "solid",
          "shape": "spline"
         },
         "marker": {
          "symbol": "circle"
         },
         "mode": "lines",
         "name": "Czech Republic",
         "orientation": "v",
         "showlegend": true,
         "type": "scatter",
         "x": [
          "2000",
          "2001",
          "2002",
          "2003",
          "2004",
          "2005",
          "2006",
          "2007",
          "2008",
          "2009",
          "2010",
          "2011",
          "2012",
          "2013",
          "2014",
          "2015",
          "2016",
          "2017",
          "2018",
          "2019",
          "2020",
          "2021",
          "2022"
         ],
         "xaxis": "x",
         "y": [
          1.94,
          2.45,
          0.56,
          -0.01,
          1.5,
          0.49,
          0.67,
          1.46,
          2.11,
          -0.84,
          0.09,
          1.07,
          0.78,
          0.06,
          0.75,
          0.15,
          0.51,
          2.57,
          1.86,
          2.22,
          3.63,
          4.99,
          12.18
         ],
         "yaxis": "y"
        },
        {
         "hovertemplate": "Country=Denmark<br>years=%{x}<br>core_inflation_rate=%{y}<extra></extra>",
         "legendgroup": "Denmark",
         "line": {
          "color": "#00cc96",
          "dash": "solid",
          "shape": "spline"
         },
         "marker": {
          "symbol": "circle"
         },
         "mode": "lines",
         "name": "Denmark",
         "orientation": "v",
         "showlegend": true,
         "type": "scatter",
         "x": [
          "2000",
          "2001",
          "2002",
          "2003",
          "2004",
          "2005",
          "2006",
          "2007",
          "2008",
          "2009",
          "2010",
          "2011",
          "2012",
          "2013",
          "2014",
          "2015",
          "2016",
          "2017",
          "2018",
          "2019",
          "2020",
          "2021",
          "2022"
         ],
         "xaxis": "x",
         "y": [
          2.16,
          2.2,
          2.52,
          2.32,
          1.3,
          1.38,
          1.4,
          1.41,
          13.46,
          2.26,
          1.84,
          1.81,
          1.9,
          1.21,
          0.87,
          -19.08,
          2.05,
          14.47,
          0.65,
          0.76,
          0.93,
          1.2,
          3.87
         ],
         "yaxis": "y"
        },
        {
         "hovertemplate": "Country=Croatia<br>years=%{x}<br>core_inflation_rate=%{y}<extra></extra>",
         "legendgroup": "Croatia",
         "line": {
          "color": "#ab63fa",
          "dash": "solid",
          "shape": "spline"
         },
         "marker": {
          "symbol": "circle"
         },
         "mode": "lines",
         "name": "Croatia",
         "orientation": "v",
         "showlegend": true,
         "type": "scatter",
         "x": [
          "2000",
          "2001",
          "2002",
          "2003",
          "2004",
          "2005",
          "2006",
          "2007",
          "2008",
          "2009",
          "2010",
          "2011",
          "2012",
          "2013",
          "2014",
          "2015",
          "2016",
          "2017",
          "2018",
          "2019",
          "2020",
          "2021",
          "2022"
         ],
         "xaxis": "x",
         "y": [
          2.82,
          3.16,
          2.91,
          1.82,
          2.28,
          1.96,
          3.45,
          3.23,
          3.45,
          3.57,
          0.48,
          0.6,
          0.96,
          1.04,
          0.44,
          0.73,
          0.14,
          0.71,
          0.86,
          0.91,
          1,
          1.61,
          6.12
         ],
         "yaxis": "y"
        },
        {
         "hovertemplate": "Country=Hungary<br>years=%{x}<br>core_inflation_rate=%{y}<extra></extra>",
         "legendgroup": "Hungary",
         "line": {
          "color": "#FFA15A",
          "dash": "solid",
          "shape": "spline"
         },
         "marker": {
          "symbol": "circle"
         },
         "mode": "lines",
         "name": "Hungary",
         "orientation": "v",
         "showlegend": true,
         "type": "scatter",
         "x": [
          "2000",
          "2001",
          "2002",
          "2003",
          "2004",
          "2005",
          "2006",
          "2007",
          "2008",
          "2009",
          "2010",
          "2011",
          "2012",
          "2013",
          "2014",
          "2015",
          "2016",
          "2017",
          "2018",
          "2019",
          "2020",
          "2021",
          "2022"
         ],
         "xaxis": "x",
         "y": [
          8.15,
          9.4,
          5.84,
          4.53,
          5.7,
          2.06,
          2.23,
          5.3,
          5.08,
          4.12,
          2.99,
          2.73,
          5.07,
          3.33,
          2.17,
          1.21,
          1.39,
          2.32,
          2.48,
          3.78,
          3.05,
          4.55,
          9.8
         ],
         "yaxis": "y"
        },
        {
         "hovertemplate": "Country=Poland<br>years=%{x}<br>core_inflation_rate=%{y}<extra></extra>",
         "legendgroup": "Poland",
         "line": {
          "color": "#19d3f3",
          "dash": "solid",
          "shape": "spline"
         },
         "marker": {
          "symbol": "circle"
         },
         "mode": "lines",
         "name": "Poland",
         "orientation": "v",
         "showlegend": true,
         "type": "scatter",
         "x": [
          "2000",
          "2001",
          "2002",
          "2003",
          "2004",
          "2005",
          "2006",
          "2007",
          "2008",
          "2009",
          "2010",
          "2011",
          "2012",
          "2013",
          "2014",
          "2015",
          "2016",
          "2017",
          "2018",
          "2019",
          "2020",
          "2021",
          "2022"
         ],
         "xaxis": "x",
         "y": [
          9.18,
          5.72,
          2.69,
          0.73,
          1.75,
          1.34,
          0.31,
          1.08,
          2.48,
          2.85,
          1.67,
          2.43,
          2.19,
          1.2,
          0.64,
          0.32,
          -0.25,
          0.78,
          0.74,
          1.89,
          3.88,
          4.1,
          8.85
         ],
         "yaxis": "y"
        },
        {
         "hovertemplate": "Country=Romania<br>years=%{x}<br>core_inflation_rate=%{y}<extra></extra>",
         "legendgroup": "Romania",
         "line": {
          "color": "#FF6692",
          "dash": "solid",
          "shape": "spline"
         },
         "marker": {
          "symbol": "circle"
         },
         "mode": "lines",
         "name": "Romania",
         "orientation": "v",
         "showlegend": true,
         "type": "scatter",
         "x": [
          "2000",
          "2001",
          "2002",
          "2003",
          "2004",
          "2005",
          "2006",
          "2007",
          "2008",
          "2009",
          "2010",
          "2011",
          "2012",
          "2013",
          "2014",
          "2015",
          "2016",
          "2017",
          "2018",
          "2019",
          "2020",
          "2021",
          "2022"
         ],
         "xaxis": "x",
         "y": [
          3.5893333333333333,
          3.5893333333333333,
          3.5893333333333333,
          3.5893333333333333,
          3.5893333333333333,
          3.5893333333333333,
          3.5893333333333333,
          3.5893333333333333,
          7.16,
          6.05,
          5.66,
          4.31,
          2.81,
          2.55,
          0.98,
          -0.84,
          -0.79,
          1.61,
          3.1,
          3.59,
          4.04,
          4.72,
          8.89
         ],
         "yaxis": "y"
        },
        {
         "hovertemplate": "Country=Sweden<br>years=%{x}<br>core_inflation_rate=%{y}<extra></extra>",
         "legendgroup": "Sweden",
         "line": {
          "color": "#B6E880",
          "dash": "solid",
          "shape": "spline"
         },
         "marker": {
          "symbol": "circle"
         },
         "mode": "lines",
         "name": "Sweden",
         "orientation": "v",
         "showlegend": true,
         "type": "scatter",
         "x": [
          "2000",
          "2001",
          "2002",
          "2003",
          "2004",
          "2005",
          "2006",
          "2007",
          "2008",
          "2009",
          "2010",
          "2011",
          "2012",
          "2013",
          "2014",
          "2015",
          "2016",
          "2017",
          "2018",
          "2019",
          "2020",
          "2021",
          "2022"
         ],
         "xaxis": "x",
         "y": [
          0.34,
          1.84,
          1.99,
          1.09,
          0.18,
          0.01,
          0.75,
          2.56,
          2.07,
          -0.95,
          0.51,
          3.01,
          0.87,
          -0.24,
          -0.02,
          0.02,
          0.9,
          1.37,
          1.09,
          1.52,
          1.19,
          1.3,
          5.47
         ],
         "yaxis": "y"
        }
       ],
       "layout": {
        "legend": {
         "title": {
          "text": "Country"
         },
         "tracegroupgap": 0
        },
        "template": {
         "data": {
          "bar": [
           {
            "error_x": {
             "color": "#2a3f5f"
            },
            "error_y": {
             "color": "#2a3f5f"
            },
            "marker": {
             "line": {
              "color": "#E5ECF6",
              "width": 0.5
             },
             "pattern": {
              "fillmode": "overlay",
              "size": 10,
              "solidity": 0.2
             }
            },
            "type": "bar"
           }
          ],
          "barpolar": [
           {
            "marker": {
             "line": {
              "color": "#E5ECF6",
              "width": 0.5
             },
             "pattern": {
              "fillmode": "overlay",
              "size": 10,
              "solidity": 0.2
             }
            },
            "type": "barpolar"
           }
          ],
          "carpet": [
           {
            "aaxis": {
             "endlinecolor": "#2a3f5f",
             "gridcolor": "white",
             "linecolor": "white",
             "minorgridcolor": "white",
             "startlinecolor": "#2a3f5f"
            },
            "baxis": {
             "endlinecolor": "#2a3f5f",
             "gridcolor": "white",
             "linecolor": "white",
             "minorgridcolor": "white",
             "startlinecolor": "#2a3f5f"
            },
            "type": "carpet"
           }
          ],
          "choropleth": [
           {
            "colorbar": {
             "outlinewidth": 0,
             "ticks": ""
            },
            "type": "choropleth"
           }
          ],
          "contour": [
           {
            "colorbar": {
             "outlinewidth": 0,
             "ticks": ""
            },
            "colorscale": [
             [
              0,
              "#0d0887"
             ],
             [
              0.1111111111111111,
              "#46039f"
             ],
             [
              0.2222222222222222,
              "#7201a8"
             ],
             [
              0.3333333333333333,
              "#9c179e"
             ],
             [
              0.4444444444444444,
              "#bd3786"
             ],
             [
              0.5555555555555556,
              "#d8576b"
             ],
             [
              0.6666666666666666,
              "#ed7953"
             ],
             [
              0.7777777777777778,
              "#fb9f3a"
             ],
             [
              0.8888888888888888,
              "#fdca26"
             ],
             [
              1,
              "#f0f921"
             ]
            ],
            "type": "contour"
           }
          ],
          "contourcarpet": [
           {
            "colorbar": {
             "outlinewidth": 0,
             "ticks": ""
            },
            "type": "contourcarpet"
           }
          ],
          "heatmap": [
           {
            "colorbar": {
             "outlinewidth": 0,
             "ticks": ""
            },
            "colorscale": [
             [
              0,
              "#0d0887"
             ],
             [
              0.1111111111111111,
              "#46039f"
             ],
             [
              0.2222222222222222,
              "#7201a8"
             ],
             [
              0.3333333333333333,
              "#9c179e"
             ],
             [
              0.4444444444444444,
              "#bd3786"
             ],
             [
              0.5555555555555556,
              "#d8576b"
             ],
             [
              0.6666666666666666,
              "#ed7953"
             ],
             [
              0.7777777777777778,
              "#fb9f3a"
             ],
             [
              0.8888888888888888,
              "#fdca26"
             ],
             [
              1,
              "#f0f921"
             ]
            ],
            "type": "heatmap"
           }
          ],
          "heatmapgl": [
           {
            "colorbar": {
             "outlinewidth": 0,
             "ticks": ""
            },
            "colorscale": [
             [
              0,
              "#0d0887"
             ],
             [
              0.1111111111111111,
              "#46039f"
             ],
             [
              0.2222222222222222,
              "#7201a8"
             ],
             [
              0.3333333333333333,
              "#9c179e"
             ],
             [
              0.4444444444444444,
              "#bd3786"
             ],
             [
              0.5555555555555556,
              "#d8576b"
             ],
             [
              0.6666666666666666,
              "#ed7953"
             ],
             [
              0.7777777777777778,
              "#fb9f3a"
             ],
             [
              0.8888888888888888,
              "#fdca26"
             ],
             [
              1,
              "#f0f921"
             ]
            ],
            "type": "heatmapgl"
           }
          ],
          "histogram": [
           {
            "marker": {
             "pattern": {
              "fillmode": "overlay",
              "size": 10,
              "solidity": 0.2
             }
            },
            "type": "histogram"
           }
          ],
          "histogram2d": [
           {
            "colorbar": {
             "outlinewidth": 0,
             "ticks": ""
            },
            "colorscale": [
             [
              0,
              "#0d0887"
             ],
             [
              0.1111111111111111,
              "#46039f"
             ],
             [
              0.2222222222222222,
              "#7201a8"
             ],
             [
              0.3333333333333333,
              "#9c179e"
             ],
             [
              0.4444444444444444,
              "#bd3786"
             ],
             [
              0.5555555555555556,
              "#d8576b"
             ],
             [
              0.6666666666666666,
              "#ed7953"
             ],
             [
              0.7777777777777778,
              "#fb9f3a"
             ],
             [
              0.8888888888888888,
              "#fdca26"
             ],
             [
              1,
              "#f0f921"
             ]
            ],
            "type": "histogram2d"
           }
          ],
          "histogram2dcontour": [
           {
            "colorbar": {
             "outlinewidth": 0,
             "ticks": ""
            },
            "colorscale": [
             [
              0,
              "#0d0887"
             ],
             [
              0.1111111111111111,
              "#46039f"
             ],
             [
              0.2222222222222222,
              "#7201a8"
             ],
             [
              0.3333333333333333,
              "#9c179e"
             ],
             [
              0.4444444444444444,
              "#bd3786"
             ],
             [
              0.5555555555555556,
              "#d8576b"
             ],
             [
              0.6666666666666666,
              "#ed7953"
             ],
             [
              0.7777777777777778,
              "#fb9f3a"
             ],
             [
              0.8888888888888888,
              "#fdca26"
             ],
             [
              1,
              "#f0f921"
             ]
            ],
            "type": "histogram2dcontour"
           }
          ],
          "mesh3d": [
           {
            "colorbar": {
             "outlinewidth": 0,
             "ticks": ""
            },
            "type": "mesh3d"
           }
          ],
          "parcoords": [
           {
            "line": {
             "colorbar": {
              "outlinewidth": 0,
              "ticks": ""
             }
            },
            "type": "parcoords"
           }
          ],
          "pie": [
           {
            "automargin": true,
            "type": "pie"
           }
          ],
          "scatter": [
           {
            "fillpattern": {
             "fillmode": "overlay",
             "size": 10,
             "solidity": 0.2
            },
            "type": "scatter"
           }
          ],
          "scatter3d": [
           {
            "line": {
             "colorbar": {
              "outlinewidth": 0,
              "ticks": ""
             }
            },
            "marker": {
             "colorbar": {
              "outlinewidth": 0,
              "ticks": ""
             }
            },
            "type": "scatter3d"
           }
          ],
          "scattercarpet": [
           {
            "marker": {
             "colorbar": {
              "outlinewidth": 0,
              "ticks": ""
             }
            },
            "type": "scattercarpet"
           }
          ],
          "scattergeo": [
           {
            "marker": {
             "colorbar": {
              "outlinewidth": 0,
              "ticks": ""
             }
            },
            "type": "scattergeo"
           }
          ],
          "scattergl": [
           {
            "marker": {
             "colorbar": {
              "outlinewidth": 0,
              "ticks": ""
             }
            },
            "type": "scattergl"
           }
          ],
          "scattermapbox": [
           {
            "marker": {
             "colorbar": {
              "outlinewidth": 0,
              "ticks": ""
             }
            },
            "type": "scattermapbox"
           }
          ],
          "scatterpolar": [
           {
            "marker": {
             "colorbar": {
              "outlinewidth": 0,
              "ticks": ""
             }
            },
            "type": "scatterpolar"
           }
          ],
          "scatterpolargl": [
           {
            "marker": {
             "colorbar": {
              "outlinewidth": 0,
              "ticks": ""
             }
            },
            "type": "scatterpolargl"
           }
          ],
          "scatterternary": [
           {
            "marker": {
             "colorbar": {
              "outlinewidth": 0,
              "ticks": ""
             }
            },
            "type": "scatterternary"
           }
          ],
          "surface": [
           {
            "colorbar": {
             "outlinewidth": 0,
             "ticks": ""
            },
            "colorscale": [
             [
              0,
              "#0d0887"
             ],
             [
              0.1111111111111111,
              "#46039f"
             ],
             [
              0.2222222222222222,
              "#7201a8"
             ],
             [
              0.3333333333333333,
              "#9c179e"
             ],
             [
              0.4444444444444444,
              "#bd3786"
             ],
             [
              0.5555555555555556,
              "#d8576b"
             ],
             [
              0.6666666666666666,
              "#ed7953"
             ],
             [
              0.7777777777777778,
              "#fb9f3a"
             ],
             [
              0.8888888888888888,
              "#fdca26"
             ],
             [
              1,
              "#f0f921"
             ]
            ],
            "type": "surface"
           }
          ],
          "table": [
           {
            "cells": {
             "fill": {
              "color": "#EBF0F8"
             },
             "line": {
              "color": "white"
             }
            },
            "header": {
             "fill": {
              "color": "#C8D4E3"
             },
             "line": {
              "color": "white"
             }
            },
            "type": "table"
           }
          ]
         },
         "layout": {
          "annotationdefaults": {
           "arrowcolor": "#2a3f5f",
           "arrowhead": 0,
           "arrowwidth": 1
          },
          "autotypenumbers": "strict",
          "coloraxis": {
           "colorbar": {
            "outlinewidth": 0,
            "ticks": ""
           }
          },
          "colorscale": {
           "diverging": [
            [
             0,
             "#8e0152"
            ],
            [
             0.1,
             "#c51b7d"
            ],
            [
             0.2,
             "#de77ae"
            ],
            [
             0.3,
             "#f1b6da"
            ],
            [
             0.4,
             "#fde0ef"
            ],
            [
             0.5,
             "#f7f7f7"
            ],
            [
             0.6,
             "#e6f5d0"
            ],
            [
             0.7,
             "#b8e186"
            ],
            [
             0.8,
             "#7fbc41"
            ],
            [
             0.9,
             "#4d9221"
            ],
            [
             1,
             "#276419"
            ]
           ],
           "sequential": [
            [
             0,
             "#0d0887"
            ],
            [
             0.1111111111111111,
             "#46039f"
            ],
            [
             0.2222222222222222,
             "#7201a8"
            ],
            [
             0.3333333333333333,
             "#9c179e"
            ],
            [
             0.4444444444444444,
             "#bd3786"
            ],
            [
             0.5555555555555556,
             "#d8576b"
            ],
            [
             0.6666666666666666,
             "#ed7953"
            ],
            [
             0.7777777777777778,
             "#fb9f3a"
            ],
            [
             0.8888888888888888,
             "#fdca26"
            ],
            [
             1,
             "#f0f921"
            ]
           ],
           "sequentialminus": [
            [
             0,
             "#0d0887"
            ],
            [
             0.1111111111111111,
             "#46039f"
            ],
            [
             0.2222222222222222,
             "#7201a8"
            ],
            [
             0.3333333333333333,
             "#9c179e"
            ],
            [
             0.4444444444444444,
             "#bd3786"
            ],
            [
             0.5555555555555556,
             "#d8576b"
            ],
            [
             0.6666666666666666,
             "#ed7953"
            ],
            [
             0.7777777777777778,
             "#fb9f3a"
            ],
            [
             0.8888888888888888,
             "#fdca26"
            ],
            [
             1,
             "#f0f921"
            ]
           ]
          },
          "colorway": [
           "#636efa",
           "#EF553B",
           "#00cc96",
           "#ab63fa",
           "#FFA15A",
           "#19d3f3",
           "#FF6692",
           "#B6E880",
           "#FF97FF",
           "#FECB52"
          ],
          "font": {
           "color": "#2a3f5f"
          },
          "geo": {
           "bgcolor": "white",
           "lakecolor": "white",
           "landcolor": "#E5ECF6",
           "showlakes": true,
           "showland": true,
           "subunitcolor": "white"
          },
          "hoverlabel": {
           "align": "left"
          },
          "hovermode": "closest",
          "mapbox": {
           "style": "light"
          },
          "paper_bgcolor": "white",
          "plot_bgcolor": "#E5ECF6",
          "polar": {
           "angularaxis": {
            "gridcolor": "white",
            "linecolor": "white",
            "ticks": ""
           },
           "bgcolor": "#E5ECF6",
           "radialaxis": {
            "gridcolor": "white",
            "linecolor": "white",
            "ticks": ""
           }
          },
          "scene": {
           "xaxis": {
            "backgroundcolor": "#E5ECF6",
            "gridcolor": "white",
            "gridwidth": 2,
            "linecolor": "white",
            "showbackground": true,
            "ticks": "",
            "zerolinecolor": "white"
           },
           "yaxis": {
            "backgroundcolor": "#E5ECF6",
            "gridcolor": "white",
            "gridwidth": 2,
            "linecolor": "white",
            "showbackground": true,
            "ticks": "",
            "zerolinecolor": "white"
           },
           "zaxis": {
            "backgroundcolor": "#E5ECF6",
            "gridcolor": "white",
            "gridwidth": 2,
            "linecolor": "white",
            "showbackground": true,
            "ticks": "",
            "zerolinecolor": "white"
           }
          },
          "shapedefaults": {
           "line": {
            "color": "#2a3f5f"
           }
          },
          "ternary": {
           "aaxis": {
            "gridcolor": "white",
            "linecolor": "white",
            "ticks": ""
           },
           "baxis": {
            "gridcolor": "white",
            "linecolor": "white",
            "ticks": ""
           },
           "bgcolor": "#E5ECF6",
           "caxis": {
            "gridcolor": "white",
            "linecolor": "white",
            "ticks": ""
           }
          },
          "title": {
           "x": 0.05
          },
          "xaxis": {
           "automargin": true,
           "gridcolor": "white",
           "linecolor": "white",
           "ticks": "",
           "title": {
            "standoff": 15
           },
           "zerolinecolor": "white",
           "zerolinewidth": 2
          },
          "yaxis": {
           "automargin": true,
           "gridcolor": "white",
           "linecolor": "white",
           "ticks": "",
           "title": {
            "standoff": 15
           },
           "zerolinecolor": "white",
           "zerolinewidth": 2
          }
         }
        },
        "title": {
         "text": "Non-Eurozone EU Countries Inflation Rates Comparison 2000-2022"
        },
        "xaxis": {
         "anchor": "y",
         "domain": [
          0,
          1
         ],
         "title": {
          "text": "years"
         }
        },
        "yaxis": {
         "anchor": "x",
         "domain": [
          0,
          1
         ],
         "title": {
          "text": "core_inflation_rate"
         }
        }
       }
      },
      "text/html": [
       "<div>                            <div id=\"1bc18c0b-1c30-41d3-843f-1ffa50335121\" class=\"plotly-graph-div\" style=\"height:525px; width:100%;\"></div>            <script type=\"text/javascript\">                require([\"plotly\"], function(Plotly) {                    window.PLOTLYENV=window.PLOTLYENV || {};                                    if (document.getElementById(\"1bc18c0b-1c30-41d3-843f-1ffa50335121\")) {                    Plotly.newPlot(                        \"1bc18c0b-1c30-41d3-843f-1ffa50335121\",                        [{\"hovertemplate\":\"Country=Bulgaria<br>years=%{x}<br>core_inflation_rate=%{y}<extra></extra>\",\"legendgroup\":\"Bulgaria\",\"line\":{\"color\":\"#636efa\",\"dash\":\"solid\",\"shape\":\"spline\"},\"marker\":{\"symbol\":\"circle\"},\"mode\":\"lines\",\"name\":\"Bulgaria\",\"orientation\":\"v\",\"showlegend\":true,\"x\":[\"2000\",\"2001\",\"2002\",\"2003\",\"2004\",\"2005\",\"2006\",\"2007\",\"2008\",\"2009\",\"2010\",\"2011\",\"2012\",\"2013\",\"2014\",\"2015\",\"2016\",\"2017\",\"2018\",\"2019\",\"2020\",\"2021\",\"2022\"],\"xaxis\":\"x\",\"y\":[1.13,2.07,2.06,1.67,1.42,1.37,1.62,1.9,2.72,2.03,1.14,1.79,2.06,1.79,1.58,1.62,2.02,1.59,1.6,1.55,1.5,1.39,1.71],\"yaxis\":\"y\",\"type\":\"scatter\"},{\"hovertemplate\":\"Country=Czech Republic<br>years=%{x}<br>core_inflation_rate=%{y}<extra></extra>\",\"legendgroup\":\"Czech Republic\",\"line\":{\"color\":\"#EF553B\",\"dash\":\"solid\",\"shape\":\"spline\"},\"marker\":{\"symbol\":\"circle\"},\"mode\":\"lines\",\"name\":\"Czech Republic\",\"orientation\":\"v\",\"showlegend\":true,\"x\":[\"2000\",\"2001\",\"2002\",\"2003\",\"2004\",\"2005\",\"2006\",\"2007\",\"2008\",\"2009\",\"2010\",\"2011\",\"2012\",\"2013\",\"2014\",\"2015\",\"2016\",\"2017\",\"2018\",\"2019\",\"2020\",\"2021\",\"2022\"],\"xaxis\":\"x\",\"y\":[1.94,2.45,0.56,-0.01,1.5,0.49,0.67,1.46,2.11,-0.84,0.09,1.07,0.78,0.06,0.75,0.15,0.51,2.57,1.86,2.22,3.63,4.99,12.18],\"yaxis\":\"y\",\"type\":\"scatter\"},{\"hovertemplate\":\"Country=Denmark<br>years=%{x}<br>core_inflation_rate=%{y}<extra></extra>\",\"legendgroup\":\"Denmark\",\"line\":{\"color\":\"#00cc96\",\"dash\":\"solid\",\"shape\":\"spline\"},\"marker\":{\"symbol\":\"circle\"},\"mode\":\"lines\",\"name\":\"Denmark\",\"orientation\":\"v\",\"showlegend\":true,\"x\":[\"2000\",\"2001\",\"2002\",\"2003\",\"2004\",\"2005\",\"2006\",\"2007\",\"2008\",\"2009\",\"2010\",\"2011\",\"2012\",\"2013\",\"2014\",\"2015\",\"2016\",\"2017\",\"2018\",\"2019\",\"2020\",\"2021\",\"2022\"],\"xaxis\":\"x\",\"y\":[2.16,2.2,2.52,2.32,1.3,1.38,1.4,1.41,13.46,2.26,1.84,1.81,1.9,1.21,0.87,-19.08,2.05,14.47,0.65,0.76,0.93,1.2,3.87],\"yaxis\":\"y\",\"type\":\"scatter\"},{\"hovertemplate\":\"Country=Croatia<br>years=%{x}<br>core_inflation_rate=%{y}<extra></extra>\",\"legendgroup\":\"Croatia\",\"line\":{\"color\":\"#ab63fa\",\"dash\":\"solid\",\"shape\":\"spline\"},\"marker\":{\"symbol\":\"circle\"},\"mode\":\"lines\",\"name\":\"Croatia\",\"orientation\":\"v\",\"showlegend\":true,\"x\":[\"2000\",\"2001\",\"2002\",\"2003\",\"2004\",\"2005\",\"2006\",\"2007\",\"2008\",\"2009\",\"2010\",\"2011\",\"2012\",\"2013\",\"2014\",\"2015\",\"2016\",\"2017\",\"2018\",\"2019\",\"2020\",\"2021\",\"2022\"],\"xaxis\":\"x\",\"y\":[2.82,3.16,2.91,1.82,2.28,1.96,3.45,3.23,3.45,3.57,0.48,0.6,0.96,1.04,0.44,0.73,0.14,0.71,0.86,0.91,1.0,1.61,6.12],\"yaxis\":\"y\",\"type\":\"scatter\"},{\"hovertemplate\":\"Country=Hungary<br>years=%{x}<br>core_inflation_rate=%{y}<extra></extra>\",\"legendgroup\":\"Hungary\",\"line\":{\"color\":\"#FFA15A\",\"dash\":\"solid\",\"shape\":\"spline\"},\"marker\":{\"symbol\":\"circle\"},\"mode\":\"lines\",\"name\":\"Hungary\",\"orientation\":\"v\",\"showlegend\":true,\"x\":[\"2000\",\"2001\",\"2002\",\"2003\",\"2004\",\"2005\",\"2006\",\"2007\",\"2008\",\"2009\",\"2010\",\"2011\",\"2012\",\"2013\",\"2014\",\"2015\",\"2016\",\"2017\",\"2018\",\"2019\",\"2020\",\"2021\",\"2022\"],\"xaxis\":\"x\",\"y\":[8.15,9.4,5.84,4.53,5.7,2.06,2.23,5.3,5.08,4.12,2.99,2.73,5.07,3.33,2.17,1.21,1.39,2.32,2.48,3.78,3.05,4.55,9.8],\"yaxis\":\"y\",\"type\":\"scatter\"},{\"hovertemplate\":\"Country=Poland<br>years=%{x}<br>core_inflation_rate=%{y}<extra></extra>\",\"legendgroup\":\"Poland\",\"line\":{\"color\":\"#19d3f3\",\"dash\":\"solid\",\"shape\":\"spline\"},\"marker\":{\"symbol\":\"circle\"},\"mode\":\"lines\",\"name\":\"Poland\",\"orientation\":\"v\",\"showlegend\":true,\"x\":[\"2000\",\"2001\",\"2002\",\"2003\",\"2004\",\"2005\",\"2006\",\"2007\",\"2008\",\"2009\",\"2010\",\"2011\",\"2012\",\"2013\",\"2014\",\"2015\",\"2016\",\"2017\",\"2018\",\"2019\",\"2020\",\"2021\",\"2022\"],\"xaxis\":\"x\",\"y\":[9.18,5.72,2.69,0.73,1.75,1.34,0.31,1.08,2.48,2.85,1.67,2.43,2.19,1.2,0.64,0.32,-0.25,0.78,0.74,1.89,3.88,4.1,8.85],\"yaxis\":\"y\",\"type\":\"scatter\"},{\"hovertemplate\":\"Country=Romania<br>years=%{x}<br>core_inflation_rate=%{y}<extra></extra>\",\"legendgroup\":\"Romania\",\"line\":{\"color\":\"#FF6692\",\"dash\":\"solid\",\"shape\":\"spline\"},\"marker\":{\"symbol\":\"circle\"},\"mode\":\"lines\",\"name\":\"Romania\",\"orientation\":\"v\",\"showlegend\":true,\"x\":[\"2000\",\"2001\",\"2002\",\"2003\",\"2004\",\"2005\",\"2006\",\"2007\",\"2008\",\"2009\",\"2010\",\"2011\",\"2012\",\"2013\",\"2014\",\"2015\",\"2016\",\"2017\",\"2018\",\"2019\",\"2020\",\"2021\",\"2022\"],\"xaxis\":\"x\",\"y\":[3.5893333333333333,3.5893333333333333,3.5893333333333333,3.5893333333333333,3.5893333333333333,3.5893333333333333,3.5893333333333333,3.5893333333333333,7.16,6.05,5.66,4.31,2.81,2.55,0.98,-0.84,-0.79,1.61,3.1,3.59,4.04,4.72,8.89],\"yaxis\":\"y\",\"type\":\"scatter\"},{\"hovertemplate\":\"Country=Sweden<br>years=%{x}<br>core_inflation_rate=%{y}<extra></extra>\",\"legendgroup\":\"Sweden\",\"line\":{\"color\":\"#B6E880\",\"dash\":\"solid\",\"shape\":\"spline\"},\"marker\":{\"symbol\":\"circle\"},\"mode\":\"lines\",\"name\":\"Sweden\",\"orientation\":\"v\",\"showlegend\":true,\"x\":[\"2000\",\"2001\",\"2002\",\"2003\",\"2004\",\"2005\",\"2006\",\"2007\",\"2008\",\"2009\",\"2010\",\"2011\",\"2012\",\"2013\",\"2014\",\"2015\",\"2016\",\"2017\",\"2018\",\"2019\",\"2020\",\"2021\",\"2022\"],\"xaxis\":\"x\",\"y\":[0.34,1.84,1.99,1.09,0.18,0.01,0.75,2.56,2.07,-0.95,0.51,3.01,0.87,-0.24,-0.02,0.02,0.9,1.37,1.09,1.52,1.19,1.3,5.47],\"yaxis\":\"y\",\"type\":\"scatter\"}],                        {\"template\":{\"data\":{\"histogram2dcontour\":[{\"type\":\"histogram2dcontour\",\"colorbar\":{\"outlinewidth\":0,\"ticks\":\"\"},\"colorscale\":[[0.0,\"#0d0887\"],[0.1111111111111111,\"#46039f\"],[0.2222222222222222,\"#7201a8\"],[0.3333333333333333,\"#9c179e\"],[0.4444444444444444,\"#bd3786\"],[0.5555555555555556,\"#d8576b\"],[0.6666666666666666,\"#ed7953\"],[0.7777777777777778,\"#fb9f3a\"],[0.8888888888888888,\"#fdca26\"],[1.0,\"#f0f921\"]]}],\"choropleth\":[{\"type\":\"choropleth\",\"colorbar\":{\"outlinewidth\":0,\"ticks\":\"\"}}],\"histogram2d\":[{\"type\":\"histogram2d\",\"colorbar\":{\"outlinewidth\":0,\"ticks\":\"\"},\"colorscale\":[[0.0,\"#0d0887\"],[0.1111111111111111,\"#46039f\"],[0.2222222222222222,\"#7201a8\"],[0.3333333333333333,\"#9c179e\"],[0.4444444444444444,\"#bd3786\"],[0.5555555555555556,\"#d8576b\"],[0.6666666666666666,\"#ed7953\"],[0.7777777777777778,\"#fb9f3a\"],[0.8888888888888888,\"#fdca26\"],[1.0,\"#f0f921\"]]}],\"heatmap\":[{\"type\":\"heatmap\",\"colorbar\":{\"outlinewidth\":0,\"ticks\":\"\"},\"colorscale\":[[0.0,\"#0d0887\"],[0.1111111111111111,\"#46039f\"],[0.2222222222222222,\"#7201a8\"],[0.3333333333333333,\"#9c179e\"],[0.4444444444444444,\"#bd3786\"],[0.5555555555555556,\"#d8576b\"],[0.6666666666666666,\"#ed7953\"],[0.7777777777777778,\"#fb9f3a\"],[0.8888888888888888,\"#fdca26\"],[1.0,\"#f0f921\"]]}],\"heatmapgl\":[{\"type\":\"heatmapgl\",\"colorbar\":{\"outlinewidth\":0,\"ticks\":\"\"},\"colorscale\":[[0.0,\"#0d0887\"],[0.1111111111111111,\"#46039f\"],[0.2222222222222222,\"#7201a8\"],[0.3333333333333333,\"#9c179e\"],[0.4444444444444444,\"#bd3786\"],[0.5555555555555556,\"#d8576b\"],[0.6666666666666666,\"#ed7953\"],[0.7777777777777778,\"#fb9f3a\"],[0.8888888888888888,\"#fdca26\"],[1.0,\"#f0f921\"]]}],\"contourcarpet\":[{\"type\":\"contourcarpet\",\"colorbar\":{\"outlinewidth\":0,\"ticks\":\"\"}}],\"contour\":[{\"type\":\"contour\",\"colorbar\":{\"outlinewidth\":0,\"ticks\":\"\"},\"colorscale\":[[0.0,\"#0d0887\"],[0.1111111111111111,\"#46039f\"],[0.2222222222222222,\"#7201a8\"],[0.3333333333333333,\"#9c179e\"],[0.4444444444444444,\"#bd3786\"],[0.5555555555555556,\"#d8576b\"],[0.6666666666666666,\"#ed7953\"],[0.7777777777777778,\"#fb9f3a\"],[0.8888888888888888,\"#fdca26\"],[1.0,\"#f0f921\"]]}],\"surface\":[{\"type\":\"surface\",\"colorbar\":{\"outlinewidth\":0,\"ticks\":\"\"},\"colorscale\":[[0.0,\"#0d0887\"],[0.1111111111111111,\"#46039f\"],[0.2222222222222222,\"#7201a8\"],[0.3333333333333333,\"#9c179e\"],[0.4444444444444444,\"#bd3786\"],[0.5555555555555556,\"#d8576b\"],[0.6666666666666666,\"#ed7953\"],[0.7777777777777778,\"#fb9f3a\"],[0.8888888888888888,\"#fdca26\"],[1.0,\"#f0f921\"]]}],\"mesh3d\":[{\"type\":\"mesh3d\",\"colorbar\":{\"outlinewidth\":0,\"ticks\":\"\"}}],\"scatter\":[{\"fillpattern\":{\"fillmode\":\"overlay\",\"size\":10,\"solidity\":0.2},\"type\":\"scatter\"}],\"parcoords\":[{\"type\":\"parcoords\",\"line\":{\"colorbar\":{\"outlinewidth\":0,\"ticks\":\"\"}}}],\"scatterpolargl\":[{\"type\":\"scatterpolargl\",\"marker\":{\"colorbar\":{\"outlinewidth\":0,\"ticks\":\"\"}}}],\"bar\":[{\"error_x\":{\"color\":\"#2a3f5f\"},\"error_y\":{\"color\":\"#2a3f5f\"},\"marker\":{\"line\":{\"color\":\"#E5ECF6\",\"width\":0.5},\"pattern\":{\"fillmode\":\"overlay\",\"size\":10,\"solidity\":0.2}},\"type\":\"bar\"}],\"scattergeo\":[{\"type\":\"scattergeo\",\"marker\":{\"colorbar\":{\"outlinewidth\":0,\"ticks\":\"\"}}}],\"scatterpolar\":[{\"type\":\"scatterpolar\",\"marker\":{\"colorbar\":{\"outlinewidth\":0,\"ticks\":\"\"}}}],\"histogram\":[{\"marker\":{\"pattern\":{\"fillmode\":\"overlay\",\"size\":10,\"solidity\":0.2}},\"type\":\"histogram\"}],\"scattergl\":[{\"type\":\"scattergl\",\"marker\":{\"colorbar\":{\"outlinewidth\":0,\"ticks\":\"\"}}}],\"scatter3d\":[{\"type\":\"scatter3d\",\"line\":{\"colorbar\":{\"outlinewidth\":0,\"ticks\":\"\"}},\"marker\":{\"colorbar\":{\"outlinewidth\":0,\"ticks\":\"\"}}}],\"scattermapbox\":[{\"type\":\"scattermapbox\",\"marker\":{\"colorbar\":{\"outlinewidth\":0,\"ticks\":\"\"}}}],\"scatterternary\":[{\"type\":\"scatterternary\",\"marker\":{\"colorbar\":{\"outlinewidth\":0,\"ticks\":\"\"}}}],\"scattercarpet\":[{\"type\":\"scattercarpet\",\"marker\":{\"colorbar\":{\"outlinewidth\":0,\"ticks\":\"\"}}}],\"carpet\":[{\"aaxis\":{\"endlinecolor\":\"#2a3f5f\",\"gridcolor\":\"white\",\"linecolor\":\"white\",\"minorgridcolor\":\"white\",\"startlinecolor\":\"#2a3f5f\"},\"baxis\":{\"endlinecolor\":\"#2a3f5f\",\"gridcolor\":\"white\",\"linecolor\":\"white\",\"minorgridcolor\":\"white\",\"startlinecolor\":\"#2a3f5f\"},\"type\":\"carpet\"}],\"table\":[{\"cells\":{\"fill\":{\"color\":\"#EBF0F8\"},\"line\":{\"color\":\"white\"}},\"header\":{\"fill\":{\"color\":\"#C8D4E3\"},\"line\":{\"color\":\"white\"}},\"type\":\"table\"}],\"barpolar\":[{\"marker\":{\"line\":{\"color\":\"#E5ECF6\",\"width\":0.5},\"pattern\":{\"fillmode\":\"overlay\",\"size\":10,\"solidity\":0.2}},\"type\":\"barpolar\"}],\"pie\":[{\"automargin\":true,\"type\":\"pie\"}]},\"layout\":{\"autotypenumbers\":\"strict\",\"colorway\":[\"#636efa\",\"#EF553B\",\"#00cc96\",\"#ab63fa\",\"#FFA15A\",\"#19d3f3\",\"#FF6692\",\"#B6E880\",\"#FF97FF\",\"#FECB52\"],\"font\":{\"color\":\"#2a3f5f\"},\"hovermode\":\"closest\",\"hoverlabel\":{\"align\":\"left\"},\"paper_bgcolor\":\"white\",\"plot_bgcolor\":\"#E5ECF6\",\"polar\":{\"bgcolor\":\"#E5ECF6\",\"angularaxis\":{\"gridcolor\":\"white\",\"linecolor\":\"white\",\"ticks\":\"\"},\"radialaxis\":{\"gridcolor\":\"white\",\"linecolor\":\"white\",\"ticks\":\"\"}},\"ternary\":{\"bgcolor\":\"#E5ECF6\",\"aaxis\":{\"gridcolor\":\"white\",\"linecolor\":\"white\",\"ticks\":\"\"},\"baxis\":{\"gridcolor\":\"white\",\"linecolor\":\"white\",\"ticks\":\"\"},\"caxis\":{\"gridcolor\":\"white\",\"linecolor\":\"white\",\"ticks\":\"\"}},\"coloraxis\":{\"colorbar\":{\"outlinewidth\":0,\"ticks\":\"\"}},\"colorscale\":{\"sequential\":[[0.0,\"#0d0887\"],[0.1111111111111111,\"#46039f\"],[0.2222222222222222,\"#7201a8\"],[0.3333333333333333,\"#9c179e\"],[0.4444444444444444,\"#bd3786\"],[0.5555555555555556,\"#d8576b\"],[0.6666666666666666,\"#ed7953\"],[0.7777777777777778,\"#fb9f3a\"],[0.8888888888888888,\"#fdca26\"],[1.0,\"#f0f921\"]],\"sequentialminus\":[[0.0,\"#0d0887\"],[0.1111111111111111,\"#46039f\"],[0.2222222222222222,\"#7201a8\"],[0.3333333333333333,\"#9c179e\"],[0.4444444444444444,\"#bd3786\"],[0.5555555555555556,\"#d8576b\"],[0.6666666666666666,\"#ed7953\"],[0.7777777777777778,\"#fb9f3a\"],[0.8888888888888888,\"#fdca26\"],[1.0,\"#f0f921\"]],\"diverging\":[[0,\"#8e0152\"],[0.1,\"#c51b7d\"],[0.2,\"#de77ae\"],[0.3,\"#f1b6da\"],[0.4,\"#fde0ef\"],[0.5,\"#f7f7f7\"],[0.6,\"#e6f5d0\"],[0.7,\"#b8e186\"],[0.8,\"#7fbc41\"],[0.9,\"#4d9221\"],[1,\"#276419\"]]},\"xaxis\":{\"gridcolor\":\"white\",\"linecolor\":\"white\",\"ticks\":\"\",\"title\":{\"standoff\":15},\"zerolinecolor\":\"white\",\"automargin\":true,\"zerolinewidth\":2},\"yaxis\":{\"gridcolor\":\"white\",\"linecolor\":\"white\",\"ticks\":\"\",\"title\":{\"standoff\":15},\"zerolinecolor\":\"white\",\"automargin\":true,\"zerolinewidth\":2},\"scene\":{\"xaxis\":{\"backgroundcolor\":\"#E5ECF6\",\"gridcolor\":\"white\",\"linecolor\":\"white\",\"showbackground\":true,\"ticks\":\"\",\"zerolinecolor\":\"white\",\"gridwidth\":2},\"yaxis\":{\"backgroundcolor\":\"#E5ECF6\",\"gridcolor\":\"white\",\"linecolor\":\"white\",\"showbackground\":true,\"ticks\":\"\",\"zerolinecolor\":\"white\",\"gridwidth\":2},\"zaxis\":{\"backgroundcolor\":\"#E5ECF6\",\"gridcolor\":\"white\",\"linecolor\":\"white\",\"showbackground\":true,\"ticks\":\"\",\"zerolinecolor\":\"white\",\"gridwidth\":2}},\"shapedefaults\":{\"line\":{\"color\":\"#2a3f5f\"}},\"annotationdefaults\":{\"arrowcolor\":\"#2a3f5f\",\"arrowhead\":0,\"arrowwidth\":1},\"geo\":{\"bgcolor\":\"white\",\"landcolor\":\"#E5ECF6\",\"subunitcolor\":\"white\",\"showland\":true,\"showlakes\":true,\"lakecolor\":\"white\"},\"title\":{\"x\":0.05},\"mapbox\":{\"style\":\"light\"}}},\"xaxis\":{\"anchor\":\"y\",\"domain\":[0.0,1.0],\"title\":{\"text\":\"years\"}},\"yaxis\":{\"anchor\":\"x\",\"domain\":[0.0,1.0],\"title\":{\"text\":\"core_inflation_rate\"}},\"legend\":{\"title\":{\"text\":\"Country\"},\"tracegroupgap\":0},\"title\":{\"text\":\"Non-Eurozone EU Countries Inflation Rates Comparison 2000-2022\"}},                        {\"responsive\": true}                    ).then(function(){\n",
       "                            \n",
       "var gd = document.getElementById('1bc18c0b-1c30-41d3-843f-1ffa50335121');\n",
       "var x = new MutationObserver(function (mutations, observer) {{\n",
       "        var display = window.getComputedStyle(gd).display;\n",
       "        if (!display || display === 'none') {{\n",
       "            console.log([gd, 'removed!']);\n",
       "            Plotly.purge(gd);\n",
       "            observer.disconnect();\n",
       "        }}\n",
       "}});\n",
       "\n",
       "// Listen for the removal of the full notebook cells\n",
       "var notebookContainer = gd.closest('#notebook-container');\n",
       "if (notebookContainer) {{\n",
       "    x.observe(notebookContainer, {childList: true});\n",
       "}}\n",
       "\n",
       "// Listen for the clearing of the current output cell\n",
       "var outputEl = gd.closest('.output');\n",
       "if (outputEl) {{\n",
       "    x.observe(outputEl, {childList: true});\n",
       "}}\n",
       "\n",
       "                        })                };                });            </script>        </div>"
      ]
     },
     "metadata": {},
     "output_type": "display_data"
    }
   ],
   "source": [
    "fig = px.line(non_euro_zone_t, x=\"years\", y=\"core_inflation_rate\", \n",
    "              color=\"Country\",\n",
    "              line_shape=\"spline\", \n",
    "              render_mode=\"svg\", \n",
    "              title= 'Non-Eurozone EU Countries Inflation Rates Comparison 2000-2022')\n",
    "fig.show()"
   ]
  },
  {
   "cell_type": "markdown",
   "id": "8fb95c51",
   "metadata": {},
   "source": [
    "### Plot Nordic Countries Inflation Rates Comparison 2000-2022"
   ]
  },
  {
   "cell_type": "code",
   "execution_count": 217,
   "id": "93a68e3a",
   "metadata": {},
   "outputs": [
    {
     "data": {
      "application/vnd.plotly.v1+json": {
       "config": {
        "plotlyServerURL": "https://plot.ly"
       },
       "data": [
        {
         "hovertemplate": "Country=Denmark<br>years=%{x}<br>core_inflation_rate=%{y}<extra></extra>",
         "legendgroup": "Denmark",
         "line": {
          "color": "#636efa",
          "dash": "solid"
         },
         "marker": {
          "symbol": "circle"
         },
         "mode": "lines",
         "name": "Denmark",
         "orientation": "v",
         "showlegend": true,
         "type": "scatter",
         "x": [
          "2000",
          "2001",
          "2002",
          "2003",
          "2004",
          "2005",
          "2006",
          "2007",
          "2008",
          "2009",
          "2010",
          "2011",
          "2012",
          "2013",
          "2014",
          "2015",
          "2016",
          "2017",
          "2018",
          "2019",
          "2020",
          "2021",
          "2022"
         ],
         "xaxis": "x",
         "y": [
          2.16,
          2.2,
          2.52,
          2.32,
          1.3,
          1.38,
          1.4,
          1.41,
          13.46,
          2.26,
          1.84,
          1.81,
          1.9,
          1.21,
          0.87,
          -19.08,
          2.05,
          14.47,
          0.65,
          0.76,
          0.93,
          1.2,
          3.87
         ],
         "yaxis": "y"
        },
        {
         "hovertemplate": "Country=Finland<br>years=%{x}<br>core_inflation_rate=%{y}<extra></extra>",
         "legendgroup": "Finland",
         "line": {
          "color": "#EF553B",
          "dash": "solid"
         },
         "marker": {
          "symbol": "circle"
         },
         "mode": "lines",
         "name": "Finland",
         "orientation": "v",
         "showlegend": true,
         "type": "scatter",
         "x": [
          "2000",
          "2001",
          "2002",
          "2003",
          "2004",
          "2005",
          "2006",
          "2007",
          "2008",
          "2009",
          "2010",
          "2011",
          "2012",
          "2013",
          "2014",
          "2015",
          "2016",
          "2017",
          "2018",
          "2019",
          "2020",
          "2021",
          "2022"
         ],
         "xaxis": "x",
         "y": [
          2.56,
          2.62,
          1.54,
          0.61,
          -0.21,
          0.19,
          1.27,
          2.64,
          2.55,
          0.4,
          1.19,
          2.04,
          2.27,
          0.98,
          1.46,
          0.56,
          0.96,
          0.66,
          0.68,
          0.83,
          0.5,
          1.73,
          3.97
         ],
         "yaxis": "y"
        },
        {
         "hovertemplate": "Country=Iceland<br>years=%{x}<br>core_inflation_rate=%{y}<extra></extra>",
         "legendgroup": "Iceland",
         "line": {
          "color": "#00cc96",
          "dash": "solid"
         },
         "marker": {
          "symbol": "circle"
         },
         "mode": "lines",
         "name": "Iceland",
         "orientation": "v",
         "showlegend": true,
         "type": "scatter",
         "x": [
          "2000",
          "2001",
          "2002",
          "2003",
          "2004",
          "2005",
          "2006",
          "2007",
          "2008",
          "2009",
          "2010",
          "2011",
          "2012",
          "2013",
          "2014",
          "2015",
          "2016",
          "2017",
          "2018",
          "2019",
          "2020",
          "2021",
          "2022"
         ],
         "xaxis": "x",
         "y": [
          4.73,
          6.55,
          6.17,
          3.03,
          3.21,
          5.05,
          6.29,
          6.55,
          11.4,
          11.39,
          4.68,
          2.61,
          4.59,
          4.1,
          2.73,
          2.09,
          2.16,
          2.43,
          2.53,
          2.93,
          2.89,
          4.38,
          7.67
         ],
         "yaxis": "y"
        },
        {
         "hovertemplate": "Country=Norway<br>years=%{x}<br>core_inflation_rate=%{y}<extra></extra>",
         "legendgroup": "Norway",
         "line": {
          "color": "#ab63fa",
          "dash": "solid"
         },
         "marker": {
          "symbol": "circle"
         },
         "mode": "lines",
         "name": "Norway",
         "orientation": "v",
         "showlegend": true,
         "type": "scatter",
         "x": [
          "2000",
          "2001",
          "2002",
          "2003",
          "2004",
          "2005",
          "2006",
          "2007",
          "2008",
          "2009",
          "2010",
          "2011",
          "2012",
          "2013",
          "2014",
          "2015",
          "2016",
          "2017",
          "2018",
          "2019",
          "2020",
          "2021",
          "2022"
         ],
         "xaxis": "x",
         "y": [
          2.49,
          3.3,
          2.02,
          1.1,
          0.5,
          1.39,
          0.99,
          1.67,
          2.31,
          2.59,
          1.45,
          1.83,
          1.57,
          1.65,
          2.47,
          2.61,
          3.26,
          1.73,
          1.2,
          2.59,
          3.14,
          1.66,
          3.49
         ],
         "yaxis": "y"
        },
        {
         "hovertemplate": "Country=Sweden<br>years=%{x}<br>core_inflation_rate=%{y}<extra></extra>",
         "legendgroup": "Sweden",
         "line": {
          "color": "#FFA15A",
          "dash": "solid"
         },
         "marker": {
          "symbol": "circle"
         },
         "mode": "lines",
         "name": "Sweden",
         "orientation": "v",
         "showlegend": true,
         "type": "scatter",
         "x": [
          "2000",
          "2001",
          "2002",
          "2003",
          "2004",
          "2005",
          "2006",
          "2007",
          "2008",
          "2009",
          "2010",
          "2011",
          "2012",
          "2013",
          "2014",
          "2015",
          "2016",
          "2017",
          "2018",
          "2019",
          "2020",
          "2021",
          "2022"
         ],
         "xaxis": "x",
         "y": [
          0.34,
          1.84,
          1.99,
          1.09,
          0.18,
          0.01,
          0.75,
          2.56,
          2.07,
          -0.95,
          0.51,
          3.01,
          0.87,
          -0.24,
          -0.02,
          0.02,
          0.9,
          1.37,
          1.09,
          1.52,
          1.19,
          1.3,
          5.47
         ],
         "yaxis": "y"
        }
       ],
       "layout": {
        "legend": {
         "title": {
          "text": "Country"
         },
         "tracegroupgap": 0
        },
        "template": {
         "data": {
          "bar": [
           {
            "error_x": {
             "color": "#2a3f5f"
            },
            "error_y": {
             "color": "#2a3f5f"
            },
            "marker": {
             "line": {
              "color": "#E5ECF6",
              "width": 0.5
             },
             "pattern": {
              "fillmode": "overlay",
              "size": 10,
              "solidity": 0.2
             }
            },
            "type": "bar"
           }
          ],
          "barpolar": [
           {
            "marker": {
             "line": {
              "color": "#E5ECF6",
              "width": 0.5
             },
             "pattern": {
              "fillmode": "overlay",
              "size": 10,
              "solidity": 0.2
             }
            },
            "type": "barpolar"
           }
          ],
          "carpet": [
           {
            "aaxis": {
             "endlinecolor": "#2a3f5f",
             "gridcolor": "white",
             "linecolor": "white",
             "minorgridcolor": "white",
             "startlinecolor": "#2a3f5f"
            },
            "baxis": {
             "endlinecolor": "#2a3f5f",
             "gridcolor": "white",
             "linecolor": "white",
             "minorgridcolor": "white",
             "startlinecolor": "#2a3f5f"
            },
            "type": "carpet"
           }
          ],
          "choropleth": [
           {
            "colorbar": {
             "outlinewidth": 0,
             "ticks": ""
            },
            "type": "choropleth"
           }
          ],
          "contour": [
           {
            "colorbar": {
             "outlinewidth": 0,
             "ticks": ""
            },
            "colorscale": [
             [
              0,
              "#0d0887"
             ],
             [
              0.1111111111111111,
              "#46039f"
             ],
             [
              0.2222222222222222,
              "#7201a8"
             ],
             [
              0.3333333333333333,
              "#9c179e"
             ],
             [
              0.4444444444444444,
              "#bd3786"
             ],
             [
              0.5555555555555556,
              "#d8576b"
             ],
             [
              0.6666666666666666,
              "#ed7953"
             ],
             [
              0.7777777777777778,
              "#fb9f3a"
             ],
             [
              0.8888888888888888,
              "#fdca26"
             ],
             [
              1,
              "#f0f921"
             ]
            ],
            "type": "contour"
           }
          ],
          "contourcarpet": [
           {
            "colorbar": {
             "outlinewidth": 0,
             "ticks": ""
            },
            "type": "contourcarpet"
           }
          ],
          "heatmap": [
           {
            "colorbar": {
             "outlinewidth": 0,
             "ticks": ""
            },
            "colorscale": [
             [
              0,
              "#0d0887"
             ],
             [
              0.1111111111111111,
              "#46039f"
             ],
             [
              0.2222222222222222,
              "#7201a8"
             ],
             [
              0.3333333333333333,
              "#9c179e"
             ],
             [
              0.4444444444444444,
              "#bd3786"
             ],
             [
              0.5555555555555556,
              "#d8576b"
             ],
             [
              0.6666666666666666,
              "#ed7953"
             ],
             [
              0.7777777777777778,
              "#fb9f3a"
             ],
             [
              0.8888888888888888,
              "#fdca26"
             ],
             [
              1,
              "#f0f921"
             ]
            ],
            "type": "heatmap"
           }
          ],
          "heatmapgl": [
           {
            "colorbar": {
             "outlinewidth": 0,
             "ticks": ""
            },
            "colorscale": [
             [
              0,
              "#0d0887"
             ],
             [
              0.1111111111111111,
              "#46039f"
             ],
             [
              0.2222222222222222,
              "#7201a8"
             ],
             [
              0.3333333333333333,
              "#9c179e"
             ],
             [
              0.4444444444444444,
              "#bd3786"
             ],
             [
              0.5555555555555556,
              "#d8576b"
             ],
             [
              0.6666666666666666,
              "#ed7953"
             ],
             [
              0.7777777777777778,
              "#fb9f3a"
             ],
             [
              0.8888888888888888,
              "#fdca26"
             ],
             [
              1,
              "#f0f921"
             ]
            ],
            "type": "heatmapgl"
           }
          ],
          "histogram": [
           {
            "marker": {
             "pattern": {
              "fillmode": "overlay",
              "size": 10,
              "solidity": 0.2
             }
            },
            "type": "histogram"
           }
          ],
          "histogram2d": [
           {
            "colorbar": {
             "outlinewidth": 0,
             "ticks": ""
            },
            "colorscale": [
             [
              0,
              "#0d0887"
             ],
             [
              0.1111111111111111,
              "#46039f"
             ],
             [
              0.2222222222222222,
              "#7201a8"
             ],
             [
              0.3333333333333333,
              "#9c179e"
             ],
             [
              0.4444444444444444,
              "#bd3786"
             ],
             [
              0.5555555555555556,
              "#d8576b"
             ],
             [
              0.6666666666666666,
              "#ed7953"
             ],
             [
              0.7777777777777778,
              "#fb9f3a"
             ],
             [
              0.8888888888888888,
              "#fdca26"
             ],
             [
              1,
              "#f0f921"
             ]
            ],
            "type": "histogram2d"
           }
          ],
          "histogram2dcontour": [
           {
            "colorbar": {
             "outlinewidth": 0,
             "ticks": ""
            },
            "colorscale": [
             [
              0,
              "#0d0887"
             ],
             [
              0.1111111111111111,
              "#46039f"
             ],
             [
              0.2222222222222222,
              "#7201a8"
             ],
             [
              0.3333333333333333,
              "#9c179e"
             ],
             [
              0.4444444444444444,
              "#bd3786"
             ],
             [
              0.5555555555555556,
              "#d8576b"
             ],
             [
              0.6666666666666666,
              "#ed7953"
             ],
             [
              0.7777777777777778,
              "#fb9f3a"
             ],
             [
              0.8888888888888888,
              "#fdca26"
             ],
             [
              1,
              "#f0f921"
             ]
            ],
            "type": "histogram2dcontour"
           }
          ],
          "mesh3d": [
           {
            "colorbar": {
             "outlinewidth": 0,
             "ticks": ""
            },
            "type": "mesh3d"
           }
          ],
          "parcoords": [
           {
            "line": {
             "colorbar": {
              "outlinewidth": 0,
              "ticks": ""
             }
            },
            "type": "parcoords"
           }
          ],
          "pie": [
           {
            "automargin": true,
            "type": "pie"
           }
          ],
          "scatter": [
           {
            "fillpattern": {
             "fillmode": "overlay",
             "size": 10,
             "solidity": 0.2
            },
            "type": "scatter"
           }
          ],
          "scatter3d": [
           {
            "line": {
             "colorbar": {
              "outlinewidth": 0,
              "ticks": ""
             }
            },
            "marker": {
             "colorbar": {
              "outlinewidth": 0,
              "ticks": ""
             }
            },
            "type": "scatter3d"
           }
          ],
          "scattercarpet": [
           {
            "marker": {
             "colorbar": {
              "outlinewidth": 0,
              "ticks": ""
             }
            },
            "type": "scattercarpet"
           }
          ],
          "scattergeo": [
           {
            "marker": {
             "colorbar": {
              "outlinewidth": 0,
              "ticks": ""
             }
            },
            "type": "scattergeo"
           }
          ],
          "scattergl": [
           {
            "marker": {
             "colorbar": {
              "outlinewidth": 0,
              "ticks": ""
             }
            },
            "type": "scattergl"
           }
          ],
          "scattermapbox": [
           {
            "marker": {
             "colorbar": {
              "outlinewidth": 0,
              "ticks": ""
             }
            },
            "type": "scattermapbox"
           }
          ],
          "scatterpolar": [
           {
            "marker": {
             "colorbar": {
              "outlinewidth": 0,
              "ticks": ""
             }
            },
            "type": "scatterpolar"
           }
          ],
          "scatterpolargl": [
           {
            "marker": {
             "colorbar": {
              "outlinewidth": 0,
              "ticks": ""
             }
            },
            "type": "scatterpolargl"
           }
          ],
          "scatterternary": [
           {
            "marker": {
             "colorbar": {
              "outlinewidth": 0,
              "ticks": ""
             }
            },
            "type": "scatterternary"
           }
          ],
          "surface": [
           {
            "colorbar": {
             "outlinewidth": 0,
             "ticks": ""
            },
            "colorscale": [
             [
              0,
              "#0d0887"
             ],
             [
              0.1111111111111111,
              "#46039f"
             ],
             [
              0.2222222222222222,
              "#7201a8"
             ],
             [
              0.3333333333333333,
              "#9c179e"
             ],
             [
              0.4444444444444444,
              "#bd3786"
             ],
             [
              0.5555555555555556,
              "#d8576b"
             ],
             [
              0.6666666666666666,
              "#ed7953"
             ],
             [
              0.7777777777777778,
              "#fb9f3a"
             ],
             [
              0.8888888888888888,
              "#fdca26"
             ],
             [
              1,
              "#f0f921"
             ]
            ],
            "type": "surface"
           }
          ],
          "table": [
           {
            "cells": {
             "fill": {
              "color": "#EBF0F8"
             },
             "line": {
              "color": "white"
             }
            },
            "header": {
             "fill": {
              "color": "#C8D4E3"
             },
             "line": {
              "color": "white"
             }
            },
            "type": "table"
           }
          ]
         },
         "layout": {
          "annotationdefaults": {
           "arrowcolor": "#2a3f5f",
           "arrowhead": 0,
           "arrowwidth": 1
          },
          "autotypenumbers": "strict",
          "coloraxis": {
           "colorbar": {
            "outlinewidth": 0,
            "ticks": ""
           }
          },
          "colorscale": {
           "diverging": [
            [
             0,
             "#8e0152"
            ],
            [
             0.1,
             "#c51b7d"
            ],
            [
             0.2,
             "#de77ae"
            ],
            [
             0.3,
             "#f1b6da"
            ],
            [
             0.4,
             "#fde0ef"
            ],
            [
             0.5,
             "#f7f7f7"
            ],
            [
             0.6,
             "#e6f5d0"
            ],
            [
             0.7,
             "#b8e186"
            ],
            [
             0.8,
             "#7fbc41"
            ],
            [
             0.9,
             "#4d9221"
            ],
            [
             1,
             "#276419"
            ]
           ],
           "sequential": [
            [
             0,
             "#0d0887"
            ],
            [
             0.1111111111111111,
             "#46039f"
            ],
            [
             0.2222222222222222,
             "#7201a8"
            ],
            [
             0.3333333333333333,
             "#9c179e"
            ],
            [
             0.4444444444444444,
             "#bd3786"
            ],
            [
             0.5555555555555556,
             "#d8576b"
            ],
            [
             0.6666666666666666,
             "#ed7953"
            ],
            [
             0.7777777777777778,
             "#fb9f3a"
            ],
            [
             0.8888888888888888,
             "#fdca26"
            ],
            [
             1,
             "#f0f921"
            ]
           ],
           "sequentialminus": [
            [
             0,
             "#0d0887"
            ],
            [
             0.1111111111111111,
             "#46039f"
            ],
            [
             0.2222222222222222,
             "#7201a8"
            ],
            [
             0.3333333333333333,
             "#9c179e"
            ],
            [
             0.4444444444444444,
             "#bd3786"
            ],
            [
             0.5555555555555556,
             "#d8576b"
            ],
            [
             0.6666666666666666,
             "#ed7953"
            ],
            [
             0.7777777777777778,
             "#fb9f3a"
            ],
            [
             0.8888888888888888,
             "#fdca26"
            ],
            [
             1,
             "#f0f921"
            ]
           ]
          },
          "colorway": [
           "#636efa",
           "#EF553B",
           "#00cc96",
           "#ab63fa",
           "#FFA15A",
           "#19d3f3",
           "#FF6692",
           "#B6E880",
           "#FF97FF",
           "#FECB52"
          ],
          "font": {
           "color": "#2a3f5f"
          },
          "geo": {
           "bgcolor": "white",
           "lakecolor": "white",
           "landcolor": "#E5ECF6",
           "showlakes": true,
           "showland": true,
           "subunitcolor": "white"
          },
          "hoverlabel": {
           "align": "left"
          },
          "hovermode": "closest",
          "mapbox": {
           "style": "light"
          },
          "paper_bgcolor": "white",
          "plot_bgcolor": "#E5ECF6",
          "polar": {
           "angularaxis": {
            "gridcolor": "white",
            "linecolor": "white",
            "ticks": ""
           },
           "bgcolor": "#E5ECF6",
           "radialaxis": {
            "gridcolor": "white",
            "linecolor": "white",
            "ticks": ""
           }
          },
          "scene": {
           "xaxis": {
            "backgroundcolor": "#E5ECF6",
            "gridcolor": "white",
            "gridwidth": 2,
            "linecolor": "white",
            "showbackground": true,
            "ticks": "",
            "zerolinecolor": "white"
           },
           "yaxis": {
            "backgroundcolor": "#E5ECF6",
            "gridcolor": "white",
            "gridwidth": 2,
            "linecolor": "white",
            "showbackground": true,
            "ticks": "",
            "zerolinecolor": "white"
           },
           "zaxis": {
            "backgroundcolor": "#E5ECF6",
            "gridcolor": "white",
            "gridwidth": 2,
            "linecolor": "white",
            "showbackground": true,
            "ticks": "",
            "zerolinecolor": "white"
           }
          },
          "shapedefaults": {
           "line": {
            "color": "#2a3f5f"
           }
          },
          "ternary": {
           "aaxis": {
            "gridcolor": "white",
            "linecolor": "white",
            "ticks": ""
           },
           "baxis": {
            "gridcolor": "white",
            "linecolor": "white",
            "ticks": ""
           },
           "bgcolor": "#E5ECF6",
           "caxis": {
            "gridcolor": "white",
            "linecolor": "white",
            "ticks": ""
           }
          },
          "title": {
           "x": 0.05
          },
          "xaxis": {
           "automargin": true,
           "gridcolor": "white",
           "linecolor": "white",
           "ticks": "",
           "title": {
            "standoff": 15
           },
           "zerolinecolor": "white",
           "zerolinewidth": 2
          },
          "yaxis": {
           "automargin": true,
           "gridcolor": "white",
           "linecolor": "white",
           "ticks": "",
           "title": {
            "standoff": 15
           },
           "zerolinecolor": "white",
           "zerolinewidth": 2
          }
         }
        },
        "title": {
         "text": "Nordic Countries Inflation Rates Comparison 2000-2022"
        },
        "xaxis": {
         "anchor": "y",
         "domain": [
          0,
          1
         ],
         "title": {
          "text": "years"
         }
        },
        "yaxis": {
         "anchor": "x",
         "domain": [
          0,
          1
         ],
         "title": {
          "text": "core_inflation_rate"
         }
        }
       }
      },
      "text/html": [
       "<div>                            <div id=\"820b07b8-983c-4672-a5d2-06ce071440b0\" class=\"plotly-graph-div\" style=\"height:525px; width:100%;\"></div>            <script type=\"text/javascript\">                require([\"plotly\"], function(Plotly) {                    window.PLOTLYENV=window.PLOTLYENV || {};                                    if (document.getElementById(\"820b07b8-983c-4672-a5d2-06ce071440b0\")) {                    Plotly.newPlot(                        \"820b07b8-983c-4672-a5d2-06ce071440b0\",                        [{\"hovertemplate\":\"Country=Denmark<br>years=%{x}<br>core_inflation_rate=%{y}<extra></extra>\",\"legendgroup\":\"Denmark\",\"line\":{\"color\":\"#636efa\",\"dash\":\"solid\"},\"marker\":{\"symbol\":\"circle\"},\"mode\":\"lines\",\"name\":\"Denmark\",\"orientation\":\"v\",\"showlegend\":true,\"x\":[\"2000\",\"2001\",\"2002\",\"2003\",\"2004\",\"2005\",\"2006\",\"2007\",\"2008\",\"2009\",\"2010\",\"2011\",\"2012\",\"2013\",\"2014\",\"2015\",\"2016\",\"2017\",\"2018\",\"2019\",\"2020\",\"2021\",\"2022\"],\"xaxis\":\"x\",\"y\":[2.16,2.2,2.52,2.32,1.3,1.38,1.4,1.41,13.46,2.26,1.84,1.81,1.9,1.21,0.87,-19.08,2.05,14.47,0.65,0.76,0.93,1.2,3.87],\"yaxis\":\"y\",\"type\":\"scatter\"},{\"hovertemplate\":\"Country=Finland<br>years=%{x}<br>core_inflation_rate=%{y}<extra></extra>\",\"legendgroup\":\"Finland\",\"line\":{\"color\":\"#EF553B\",\"dash\":\"solid\"},\"marker\":{\"symbol\":\"circle\"},\"mode\":\"lines\",\"name\":\"Finland\",\"orientation\":\"v\",\"showlegend\":true,\"x\":[\"2000\",\"2001\",\"2002\",\"2003\",\"2004\",\"2005\",\"2006\",\"2007\",\"2008\",\"2009\",\"2010\",\"2011\",\"2012\",\"2013\",\"2014\",\"2015\",\"2016\",\"2017\",\"2018\",\"2019\",\"2020\",\"2021\",\"2022\"],\"xaxis\":\"x\",\"y\":[2.56,2.62,1.54,0.61,-0.21,0.19,1.27,2.64,2.55,0.4,1.19,2.04,2.27,0.98,1.46,0.56,0.96,0.66,0.68,0.83,0.5,1.73,3.97],\"yaxis\":\"y\",\"type\":\"scatter\"},{\"hovertemplate\":\"Country=Iceland<br>years=%{x}<br>core_inflation_rate=%{y}<extra></extra>\",\"legendgroup\":\"Iceland\",\"line\":{\"color\":\"#00cc96\",\"dash\":\"solid\"},\"marker\":{\"symbol\":\"circle\"},\"mode\":\"lines\",\"name\":\"Iceland\",\"orientation\":\"v\",\"showlegend\":true,\"x\":[\"2000\",\"2001\",\"2002\",\"2003\",\"2004\",\"2005\",\"2006\",\"2007\",\"2008\",\"2009\",\"2010\",\"2011\",\"2012\",\"2013\",\"2014\",\"2015\",\"2016\",\"2017\",\"2018\",\"2019\",\"2020\",\"2021\",\"2022\"],\"xaxis\":\"x\",\"y\":[4.73,6.55,6.17,3.03,3.21,5.05,6.29,6.55,11.4,11.39,4.68,2.61,4.59,4.1,2.73,2.09,2.16,2.43,2.53,2.93,2.89,4.38,7.67],\"yaxis\":\"y\",\"type\":\"scatter\"},{\"hovertemplate\":\"Country=Norway<br>years=%{x}<br>core_inflation_rate=%{y}<extra></extra>\",\"legendgroup\":\"Norway\",\"line\":{\"color\":\"#ab63fa\",\"dash\":\"solid\"},\"marker\":{\"symbol\":\"circle\"},\"mode\":\"lines\",\"name\":\"Norway\",\"orientation\":\"v\",\"showlegend\":true,\"x\":[\"2000\",\"2001\",\"2002\",\"2003\",\"2004\",\"2005\",\"2006\",\"2007\",\"2008\",\"2009\",\"2010\",\"2011\",\"2012\",\"2013\",\"2014\",\"2015\",\"2016\",\"2017\",\"2018\",\"2019\",\"2020\",\"2021\",\"2022\"],\"xaxis\":\"x\",\"y\":[2.49,3.3,2.02,1.1,0.5,1.39,0.99,1.67,2.31,2.59,1.45,1.83,1.57,1.65,2.47,2.61,3.26,1.73,1.2,2.59,3.14,1.66,3.49],\"yaxis\":\"y\",\"type\":\"scatter\"},{\"hovertemplate\":\"Country=Sweden<br>years=%{x}<br>core_inflation_rate=%{y}<extra></extra>\",\"legendgroup\":\"Sweden\",\"line\":{\"color\":\"#FFA15A\",\"dash\":\"solid\"},\"marker\":{\"symbol\":\"circle\"},\"mode\":\"lines\",\"name\":\"Sweden\",\"orientation\":\"v\",\"showlegend\":true,\"x\":[\"2000\",\"2001\",\"2002\",\"2003\",\"2004\",\"2005\",\"2006\",\"2007\",\"2008\",\"2009\",\"2010\",\"2011\",\"2012\",\"2013\",\"2014\",\"2015\",\"2016\",\"2017\",\"2018\",\"2019\",\"2020\",\"2021\",\"2022\"],\"xaxis\":\"x\",\"y\":[0.34,1.84,1.99,1.09,0.18,0.01,0.75,2.56,2.07,-0.95,0.51,3.01,0.87,-0.24,-0.02,0.02,0.9,1.37,1.09,1.52,1.19,1.3,5.47],\"yaxis\":\"y\",\"type\":\"scatter\"}],                        {\"template\":{\"data\":{\"histogram2dcontour\":[{\"type\":\"histogram2dcontour\",\"colorbar\":{\"outlinewidth\":0,\"ticks\":\"\"},\"colorscale\":[[0.0,\"#0d0887\"],[0.1111111111111111,\"#46039f\"],[0.2222222222222222,\"#7201a8\"],[0.3333333333333333,\"#9c179e\"],[0.4444444444444444,\"#bd3786\"],[0.5555555555555556,\"#d8576b\"],[0.6666666666666666,\"#ed7953\"],[0.7777777777777778,\"#fb9f3a\"],[0.8888888888888888,\"#fdca26\"],[1.0,\"#f0f921\"]]}],\"choropleth\":[{\"type\":\"choropleth\",\"colorbar\":{\"outlinewidth\":0,\"ticks\":\"\"}}],\"histogram2d\":[{\"type\":\"histogram2d\",\"colorbar\":{\"outlinewidth\":0,\"ticks\":\"\"},\"colorscale\":[[0.0,\"#0d0887\"],[0.1111111111111111,\"#46039f\"],[0.2222222222222222,\"#7201a8\"],[0.3333333333333333,\"#9c179e\"],[0.4444444444444444,\"#bd3786\"],[0.5555555555555556,\"#d8576b\"],[0.6666666666666666,\"#ed7953\"],[0.7777777777777778,\"#fb9f3a\"],[0.8888888888888888,\"#fdca26\"],[1.0,\"#f0f921\"]]}],\"heatmap\":[{\"type\":\"heatmap\",\"colorbar\":{\"outlinewidth\":0,\"ticks\":\"\"},\"colorscale\":[[0.0,\"#0d0887\"],[0.1111111111111111,\"#46039f\"],[0.2222222222222222,\"#7201a8\"],[0.3333333333333333,\"#9c179e\"],[0.4444444444444444,\"#bd3786\"],[0.5555555555555556,\"#d8576b\"],[0.6666666666666666,\"#ed7953\"],[0.7777777777777778,\"#fb9f3a\"],[0.8888888888888888,\"#fdca26\"],[1.0,\"#f0f921\"]]}],\"heatmapgl\":[{\"type\":\"heatmapgl\",\"colorbar\":{\"outlinewidth\":0,\"ticks\":\"\"},\"colorscale\":[[0.0,\"#0d0887\"],[0.1111111111111111,\"#46039f\"],[0.2222222222222222,\"#7201a8\"],[0.3333333333333333,\"#9c179e\"],[0.4444444444444444,\"#bd3786\"],[0.5555555555555556,\"#d8576b\"],[0.6666666666666666,\"#ed7953\"],[0.7777777777777778,\"#fb9f3a\"],[0.8888888888888888,\"#fdca26\"],[1.0,\"#f0f921\"]]}],\"contourcarpet\":[{\"type\":\"contourcarpet\",\"colorbar\":{\"outlinewidth\":0,\"ticks\":\"\"}}],\"contour\":[{\"type\":\"contour\",\"colorbar\":{\"outlinewidth\":0,\"ticks\":\"\"},\"colorscale\":[[0.0,\"#0d0887\"],[0.1111111111111111,\"#46039f\"],[0.2222222222222222,\"#7201a8\"],[0.3333333333333333,\"#9c179e\"],[0.4444444444444444,\"#bd3786\"],[0.5555555555555556,\"#d8576b\"],[0.6666666666666666,\"#ed7953\"],[0.7777777777777778,\"#fb9f3a\"],[0.8888888888888888,\"#fdca26\"],[1.0,\"#f0f921\"]]}],\"surface\":[{\"type\":\"surface\",\"colorbar\":{\"outlinewidth\":0,\"ticks\":\"\"},\"colorscale\":[[0.0,\"#0d0887\"],[0.1111111111111111,\"#46039f\"],[0.2222222222222222,\"#7201a8\"],[0.3333333333333333,\"#9c179e\"],[0.4444444444444444,\"#bd3786\"],[0.5555555555555556,\"#d8576b\"],[0.6666666666666666,\"#ed7953\"],[0.7777777777777778,\"#fb9f3a\"],[0.8888888888888888,\"#fdca26\"],[1.0,\"#f0f921\"]]}],\"mesh3d\":[{\"type\":\"mesh3d\",\"colorbar\":{\"outlinewidth\":0,\"ticks\":\"\"}}],\"scatter\":[{\"fillpattern\":{\"fillmode\":\"overlay\",\"size\":10,\"solidity\":0.2},\"type\":\"scatter\"}],\"parcoords\":[{\"type\":\"parcoords\",\"line\":{\"colorbar\":{\"outlinewidth\":0,\"ticks\":\"\"}}}],\"scatterpolargl\":[{\"type\":\"scatterpolargl\",\"marker\":{\"colorbar\":{\"outlinewidth\":0,\"ticks\":\"\"}}}],\"bar\":[{\"error_x\":{\"color\":\"#2a3f5f\"},\"error_y\":{\"color\":\"#2a3f5f\"},\"marker\":{\"line\":{\"color\":\"#E5ECF6\",\"width\":0.5},\"pattern\":{\"fillmode\":\"overlay\",\"size\":10,\"solidity\":0.2}},\"type\":\"bar\"}],\"scattergeo\":[{\"type\":\"scattergeo\",\"marker\":{\"colorbar\":{\"outlinewidth\":0,\"ticks\":\"\"}}}],\"scatterpolar\":[{\"type\":\"scatterpolar\",\"marker\":{\"colorbar\":{\"outlinewidth\":0,\"ticks\":\"\"}}}],\"histogram\":[{\"marker\":{\"pattern\":{\"fillmode\":\"overlay\",\"size\":10,\"solidity\":0.2}},\"type\":\"histogram\"}],\"scattergl\":[{\"type\":\"scattergl\",\"marker\":{\"colorbar\":{\"outlinewidth\":0,\"ticks\":\"\"}}}],\"scatter3d\":[{\"type\":\"scatter3d\",\"line\":{\"colorbar\":{\"outlinewidth\":0,\"ticks\":\"\"}},\"marker\":{\"colorbar\":{\"outlinewidth\":0,\"ticks\":\"\"}}}],\"scattermapbox\":[{\"type\":\"scattermapbox\",\"marker\":{\"colorbar\":{\"outlinewidth\":0,\"ticks\":\"\"}}}],\"scatterternary\":[{\"type\":\"scatterternary\",\"marker\":{\"colorbar\":{\"outlinewidth\":0,\"ticks\":\"\"}}}],\"scattercarpet\":[{\"type\":\"scattercarpet\",\"marker\":{\"colorbar\":{\"outlinewidth\":0,\"ticks\":\"\"}}}],\"carpet\":[{\"aaxis\":{\"endlinecolor\":\"#2a3f5f\",\"gridcolor\":\"white\",\"linecolor\":\"white\",\"minorgridcolor\":\"white\",\"startlinecolor\":\"#2a3f5f\"},\"baxis\":{\"endlinecolor\":\"#2a3f5f\",\"gridcolor\":\"white\",\"linecolor\":\"white\",\"minorgridcolor\":\"white\",\"startlinecolor\":\"#2a3f5f\"},\"type\":\"carpet\"}],\"table\":[{\"cells\":{\"fill\":{\"color\":\"#EBF0F8\"},\"line\":{\"color\":\"white\"}},\"header\":{\"fill\":{\"color\":\"#C8D4E3\"},\"line\":{\"color\":\"white\"}},\"type\":\"table\"}],\"barpolar\":[{\"marker\":{\"line\":{\"color\":\"#E5ECF6\",\"width\":0.5},\"pattern\":{\"fillmode\":\"overlay\",\"size\":10,\"solidity\":0.2}},\"type\":\"barpolar\"}],\"pie\":[{\"automargin\":true,\"type\":\"pie\"}]},\"layout\":{\"autotypenumbers\":\"strict\",\"colorway\":[\"#636efa\",\"#EF553B\",\"#00cc96\",\"#ab63fa\",\"#FFA15A\",\"#19d3f3\",\"#FF6692\",\"#B6E880\",\"#FF97FF\",\"#FECB52\"],\"font\":{\"color\":\"#2a3f5f\"},\"hovermode\":\"closest\",\"hoverlabel\":{\"align\":\"left\"},\"paper_bgcolor\":\"white\",\"plot_bgcolor\":\"#E5ECF6\",\"polar\":{\"bgcolor\":\"#E5ECF6\",\"angularaxis\":{\"gridcolor\":\"white\",\"linecolor\":\"white\",\"ticks\":\"\"},\"radialaxis\":{\"gridcolor\":\"white\",\"linecolor\":\"white\",\"ticks\":\"\"}},\"ternary\":{\"bgcolor\":\"#E5ECF6\",\"aaxis\":{\"gridcolor\":\"white\",\"linecolor\":\"white\",\"ticks\":\"\"},\"baxis\":{\"gridcolor\":\"white\",\"linecolor\":\"white\",\"ticks\":\"\"},\"caxis\":{\"gridcolor\":\"white\",\"linecolor\":\"white\",\"ticks\":\"\"}},\"coloraxis\":{\"colorbar\":{\"outlinewidth\":0,\"ticks\":\"\"}},\"colorscale\":{\"sequential\":[[0.0,\"#0d0887\"],[0.1111111111111111,\"#46039f\"],[0.2222222222222222,\"#7201a8\"],[0.3333333333333333,\"#9c179e\"],[0.4444444444444444,\"#bd3786\"],[0.5555555555555556,\"#d8576b\"],[0.6666666666666666,\"#ed7953\"],[0.7777777777777778,\"#fb9f3a\"],[0.8888888888888888,\"#fdca26\"],[1.0,\"#f0f921\"]],\"sequentialminus\":[[0.0,\"#0d0887\"],[0.1111111111111111,\"#46039f\"],[0.2222222222222222,\"#7201a8\"],[0.3333333333333333,\"#9c179e\"],[0.4444444444444444,\"#bd3786\"],[0.5555555555555556,\"#d8576b\"],[0.6666666666666666,\"#ed7953\"],[0.7777777777777778,\"#fb9f3a\"],[0.8888888888888888,\"#fdca26\"],[1.0,\"#f0f921\"]],\"diverging\":[[0,\"#8e0152\"],[0.1,\"#c51b7d\"],[0.2,\"#de77ae\"],[0.3,\"#f1b6da\"],[0.4,\"#fde0ef\"],[0.5,\"#f7f7f7\"],[0.6,\"#e6f5d0\"],[0.7,\"#b8e186\"],[0.8,\"#7fbc41\"],[0.9,\"#4d9221\"],[1,\"#276419\"]]},\"xaxis\":{\"gridcolor\":\"white\",\"linecolor\":\"white\",\"ticks\":\"\",\"title\":{\"standoff\":15},\"zerolinecolor\":\"white\",\"automargin\":true,\"zerolinewidth\":2},\"yaxis\":{\"gridcolor\":\"white\",\"linecolor\":\"white\",\"ticks\":\"\",\"title\":{\"standoff\":15},\"zerolinecolor\":\"white\",\"automargin\":true,\"zerolinewidth\":2},\"scene\":{\"xaxis\":{\"backgroundcolor\":\"#E5ECF6\",\"gridcolor\":\"white\",\"linecolor\":\"white\",\"showbackground\":true,\"ticks\":\"\",\"zerolinecolor\":\"white\",\"gridwidth\":2},\"yaxis\":{\"backgroundcolor\":\"#E5ECF6\",\"gridcolor\":\"white\",\"linecolor\":\"white\",\"showbackground\":true,\"ticks\":\"\",\"zerolinecolor\":\"white\",\"gridwidth\":2},\"zaxis\":{\"backgroundcolor\":\"#E5ECF6\",\"gridcolor\":\"white\",\"linecolor\":\"white\",\"showbackground\":true,\"ticks\":\"\",\"zerolinecolor\":\"white\",\"gridwidth\":2}},\"shapedefaults\":{\"line\":{\"color\":\"#2a3f5f\"}},\"annotationdefaults\":{\"arrowcolor\":\"#2a3f5f\",\"arrowhead\":0,\"arrowwidth\":1},\"geo\":{\"bgcolor\":\"white\",\"landcolor\":\"#E5ECF6\",\"subunitcolor\":\"white\",\"showland\":true,\"showlakes\":true,\"lakecolor\":\"white\"},\"title\":{\"x\":0.05},\"mapbox\":{\"style\":\"light\"}}},\"xaxis\":{\"anchor\":\"y\",\"domain\":[0.0,1.0],\"title\":{\"text\":\"years\"}},\"yaxis\":{\"anchor\":\"x\",\"domain\":[0.0,1.0],\"title\":{\"text\":\"core_inflation_rate\"}},\"legend\":{\"title\":{\"text\":\"Country\"},\"tracegroupgap\":0},\"title\":{\"text\":\"Nordic Countries Inflation Rates Comparison 2000-2022\"}},                        {\"responsive\": true}                    ).then(function(){\n",
       "                            \n",
       "var gd = document.getElementById('820b07b8-983c-4672-a5d2-06ce071440b0');\n",
       "var x = new MutationObserver(function (mutations, observer) {{\n",
       "        var display = window.getComputedStyle(gd).display;\n",
       "        if (!display || display === 'none') {{\n",
       "            console.log([gd, 'removed!']);\n",
       "            Plotly.purge(gd);\n",
       "            observer.disconnect();\n",
       "        }}\n",
       "}});\n",
       "\n",
       "// Listen for the removal of the full notebook cells\n",
       "var notebookContainer = gd.closest('#notebook-container');\n",
       "if (notebookContainer) {{\n",
       "    x.observe(notebookContainer, {childList: true});\n",
       "}}\n",
       "\n",
       "// Listen for the clearing of the current output cell\n",
       "var outputEl = gd.closest('.output');\n",
       "if (outputEl) {{\n",
       "    x.observe(outputEl, {childList: true});\n",
       "}}\n",
       "\n",
       "                        })                };                });            </script>        </div>"
      ]
     },
     "metadata": {},
     "output_type": "display_data"
    }
   ],
   "source": [
    "fig = px.line(nordic_t, x=\"years\", y=\"core_inflation_rate\", color=\"Country\",title= 'Nordic Countries Inflation Rates Comparison 2000-2022')\n",
    "fig.show()"
   ]
  },
  {
   "cell_type": "markdown",
   "id": "dc90181a",
   "metadata": {},
   "source": [
    "### Part 2"
   ]
  },
  {
   "cell_type": "code",
   "execution_count": 79,
   "id": "766fcadf",
   "metadata": {},
   "outputs": [],
   "source": [
    "nordic= nordic_t.pivot(index='years', columns='Country', values='core_inflation_rate')"
   ]
  },
  {
   "cell_type": "code",
   "execution_count": 82,
   "id": "4f525484",
   "metadata": {},
   "outputs": [],
   "source": [
    "from scipy.stats import f_oneway\n",
    "fvalue, pvalue = f_oneway(nordic['Denmark'],nordic['Sweden'])"
   ]
  },
  {
   "cell_type": "code",
   "execution_count": 84,
   "id": "21fd2577",
   "metadata": {},
   "outputs": [
    {
     "name": "stdout",
     "output_type": "stream",
     "text": [
      "F-value: 0.31374480014792805\n",
      "P-value: 0.5782321359347373\n"
     ]
    }
   ],
   "source": [
    "print(\"F-value:\", fvalue)\n",
    "print(\"P-value:\", pvalue)"
   ]
  },
  {
   "cell_type": "code",
   "execution_count": null,
   "id": "f7c1917e",
   "metadata": {},
   "outputs": [],
   "source": []
  }
 ],
 "metadata": {
  "kernelspec": {
   "display_name": "Python 3 (ipykernel)",
   "language": "python",
   "name": "python3"
  },
  "language_info": {
   "codemirror_mode": {
    "name": "ipython",
    "version": 3
   },
   "file_extension": ".py",
   "mimetype": "text/x-python",
   "name": "python",
   "nbconvert_exporter": "python",
   "pygments_lexer": "ipython3",
   "version": "3.9.13"
  }
 },
 "nbformat": 4,
 "nbformat_minor": 5
}
